{
 "cells": [
  {
   "cell_type": "code",
   "execution_count": 1,
   "metadata": {},
   "outputs": [],
   "source": [
    "from accession import Accession"
   ]
  },
  {
   "cell_type": "code",
   "execution_count": 2,
   "metadata": {},
   "outputs": [
    {
     "name": "stdout",
     "output_type": "stream",
     "text": [
      "2018-09-28 16:27:49,946:debug:\tConnecting to test.encodedcc.org\n",
      "2018-09-28 16:27:49,950:debug:\tsubmission=False: In non-submission mode.\n"
     ]
    }
   ],
   "source": [
    "acc = Accession('ENCSR609OHJ',\n",
    "                'output_ENCSR609OHJ_metadata.json',\n",
    "                'atac-seq-accessioning-samples',\n",
    "                'dev')"
   ]
  },
  {
   "cell_type": "code",
   "execution_count": 3,
   "metadata": {},
   "outputs": [
    {
     "name": "stdout",
     "output_type": "stream",
     "text": [
      "2018-09-28 16:27:49,962:debug:\t\n",
      "IN post().\n",
      "2018-09-28 16:27:49,966:debug:\t<<<<<< POSTING anshul-kundaje:atac-seq-overlap-step-run-v1-97940d0951cf2c3df554584f18ee8e6f1ac9bd39aa39326c6a0f7110d8037398 To DCC with URL https://test.encodedcc.org/analysis_step_run and this payload:\n",
      "\n",
      "{\n",
      "  \"aliases\": [\n",
      "    \"anshul-kundaje:atac-seq-overlap-step-run-v1-97940d0951cf2c3df554584f18ee8e6f1ac9bd39aa39326c6a0f7110d8037398\"\n",
      "  ],\n",
      "  \"analysis_step_version\": \"anshul-kundaje:atac-seq-overlap-step-version-v1\",\n",
      "  \"status\": \"released\"\n",
      "}\n",
      "\n",
      "\n",
      "2018-09-28 16:27:50,118:debug:\t{'status': 'error', 'title': 'Conflict', '@type': ['HTTPConflict', 'Error'], 'code': 409, 'detail': \"Keys conflict: [('alias', 'anshul-kundaje:atac-seq-overlap-step-run-v1-97940d0951cf2c3df554584f18ee8e6f1ac9bd39aa39326c6a0f7110d8037398')]\", 'description': 'There was a conflict when trying to complete your request.'}\n",
      "2018-09-28 16:27:50,119:debug:\t>>>>>>GETTING anshul-kundaje:atac-seq-overlap-step-run-v1-97940d0951cf2c3df554584f18ee8e6f1ac9bd39aa39326c6a0f7110d8037398 From DCC with URL https://test.encodedcc.org/anshul-kundaje:atac-seq-overlap-step-run-v1-97940d0951cf2c3df554584f18ee8e6f1ac9bd39aa39326c6a0f7110d8037398/?format=json\n",
      "2018-09-28 16:27:50,401:debug:\tWill not POST 'anshul-kundaje:atac-seq-overlap-step-run-v1-97940d0951cf2c3df554584f18ee8e6f1ac9bd39aa39326c6a0f7110d8037398' since it already exists with aliases '['anshul-kundaje:atac-seq-overlap-step-run-v1-97940d0951cf2c3df554584f18ee8e6f1ac9bd39aa39326c6a0f7110d8037398']'.\n",
      "2018-09-28 16:27:50,430:debug:\tSearching DCC with query https://test.encodedcc.org/search/?md5sum=81c4c893757dc80720b658152cb75ffb&type=File&limit=all.\n",
      "2018-09-28 16:27:50,683:debug:\t>>>>>>GETTING TSTFF691970 From DCC with URL https://test.encodedcc.org/TSTFF691970/?format=json\n",
      "2018-09-28 16:27:51,030:debug:\tSearching DCC with query https://test.encodedcc.org/search/?md5sum=0deff88ce977fb5027283b3a533d6534&type=File&limit=all.\n",
      "2018-09-28 16:27:51,217:debug:\t>>>>>>GETTING TSTFF619738 From DCC with URL https://test.encodedcc.org/TSTFF619738/?format=json\n",
      "2018-09-28 16:27:51,582:debug:\tSearching DCC with query https://test.encodedcc.org/search/?md5sum=25ced18cf98ce293d31d98f62c7a6741&type=File&limit=all.\n",
      "2018-09-28 16:27:51,977:debug:\t\n",
      "IN post().\n",
      "2018-09-28 16:27:51,978:debug:\t<<<<<< POSTING anshul-kundaje:atac-seq-accessioning-samples-atac-957638af-26f8-4bea-8280-2a088acf9783-call-reproducibility_overlap-glob-7e80d6aff4c56096bd9874ae33569396-optimal_peak.gz To DCC with URL https://test.encodedcc.org/file and this payload:\n",
      "\n",
      "{\n",
      "  \"aliases\": [\n",
      "    \"anshul-kundaje:atac-seq-accessioning-samples-atac-957638af-26f8-4bea-8280-2a088acf9783-call-reproducibility_overlap-glob-7e80d6aff4c56096bd9874ae33569396-optimal_peak.gz\"\n",
      "  ],\n",
      "  \"assembly\": \"mm10\",\n",
      "  \"award\": \"U41HG007000\",\n",
      "  \"dataset\": \"/experiments/ENCSR609OHJ/\",\n",
      "  \"derived_from\": [\n",
      "    \"/files/TSTFF691970/\",\n",
      "    \"/files/TSTFF619738/\"\n",
      "  ],\n",
      "  \"file_format\": \"bed\",\n",
      "  \"file_format_type\": \"narrowPeak\",\n",
      "  \"file_size\": 5232612,\n",
      "  \"lab\": \"/labs/anshul-kundaje/\",\n",
      "  \"md5sum\": \"25ced18cf98ce293d31d98f62c7a6741\",\n",
      "  \"output_type\": \"replicated peaks\",\n",
      "  \"status\": \"uploading\",\n",
      "  \"step_run\": \"/analysis-step-runs/7da11ce5-7d03-4083-8d3b-e560212e3e22/\",\n",
      "  \"submitted_file_name\": \"/var/folders/5y/616wzw4n5nd6g10d0ycs6pdr0000gp/T/tmp73br6kc3\"\n",
      "}\n",
      "\n",
      "\n",
      "2018-09-28 16:27:52,517:debug:\tSuccess.\n",
      "2018-09-28 16:27:52,518:debug:\t\n",
      "IN upload_file()\n",
      "\n",
      "2018-09-28 16:27:52,519:debug:\tUsing curl to generate new file upload credentials\n",
      "2018-09-28 16:27:53,021:debug:\tSuccess: upload credentials for 'TSTFF182397' regerated.\n",
      "2018-09-28 16:27:53,022:debug:\t>>>>>>GETTING TSTFF182397 From DCC with URL https://test.encodedcc.org/TSTFF182397/?format=json\n",
      "2018-09-28 16:27:53,394:debug:\tRunning command 'aws s3 cp /var/folders/5y/616wzw4n5nd6g10d0ycs6pdr0000gp/T/tmp73br6kc3 s3://encoded-files-dev/2018/09/28/e223e8e1-c23d-47ad-8cac-3e22d52568f9/TSTFF182397.bed.gz'.\n",
      "2018-09-28 16:27:55,278:debug:\tAWS upload successful.\n",
      "2018-09-28 16:27:55,308:debug:\tSearching DCC with query https://test.encodedcc.org/search/?md5sum=81c4c893757dc80720b658152cb75ffb&type=File&limit=all.\n",
      "2018-09-28 16:27:55,511:debug:\t>>>>>>GETTING TSTFF691970 From DCC with URL https://test.encodedcc.org/TSTFF691970/?format=json\n",
      "2018-09-28 16:27:55,863:debug:\tSearching DCC with query https://test.encodedcc.org/search/?md5sum=0deff88ce977fb5027283b3a533d6534&type=File&limit=all.\n",
      "2018-09-28 16:27:56,073:debug:\t>>>>>>GETTING TSTFF619738 From DCC with URL https://test.encodedcc.org/TSTFF619738/?format=json\n",
      "2018-09-28 16:27:56,415:debug:\tSearching DCC with query https://test.encodedcc.org/search/?md5sum=e962bd282849e8602210e1a112fe3d51&type=File&limit=all.\n",
      "2018-09-28 16:27:56,765:debug:\t\n",
      "IN post().\n",
      "2018-09-28 16:27:56,766:debug:\t<<<<<< POSTING anshul-kundaje:atac-seq-accessioning-samples-atac-957638af-26f8-4bea-8280-2a088acf9783-call-reproducibility_overlap-glob-22e3d03fe6b8b90f0963d38f9aa9b6fa-conservative_peak.gz To DCC with URL https://test.encodedcc.org/file and this payload:\n",
      "\n",
      "{\n",
      "  \"aliases\": [\n",
      "    \"anshul-kundaje:atac-seq-accessioning-samples-atac-957638af-26f8-4bea-8280-2a088acf9783-call-reproducibility_overlap-glob-22e3d03fe6b8b90f0963d38f9aa9b6fa-conservative_peak.gz\"\n",
      "  ],\n",
      "  \"assembly\": \"mm10\",\n",
      "  \"award\": \"U41HG007000\",\n",
      "  \"dataset\": \"/experiments/ENCSR609OHJ/\",\n",
      "  \"derived_from\": [\n",
      "    \"/files/TSTFF691970/\",\n",
      "    \"/files/TSTFF619738/\"\n",
      "  ],\n",
      "  \"file_format\": \"bed\",\n",
      "  \"file_format_type\": \"narrowPeak\",\n",
      "  \"file_size\": 4918573,\n",
      "  \"lab\": \"/labs/anshul-kundaje/\",\n",
      "  \"md5sum\": \"e962bd282849e8602210e1a112fe3d51\",\n",
      "  \"output_type\": \"conservative replicated peaks\",\n",
      "  \"status\": \"uploading\",\n",
      "  \"step_run\": \"/analysis-step-runs/7da11ce5-7d03-4083-8d3b-e560212e3e22/\",\n",
      "  \"submitted_file_name\": \"/var/folders/5y/616wzw4n5nd6g10d0ycs6pdr0000gp/T/tmphiyvstpv\"\n",
      "}\n",
      "\n",
      "\n",
      "2018-09-28 16:27:56,917:debug:\tFailed to POST anshul-kundaje:atac-seq-accessioning-samples-atac-957638af-26f8-4bea-8280-2a088acf9783-call-reproducibility_overlap-glob-22e3d03fe6b8b90f0963d38f9aa9b6fa-conservative_peak.gz\n",
      "2018-09-28 16:27:56,918:debug:\t<<<<<< DCC POST RESPONSE: \n",
      "2018-09-28 16:27:56,919:debug:\t{\n",
      "  \"@type\": [\n",
      "    \"ValidationFailure\",\n",
      "    \"Error\"\n",
      "  ],\n",
      "  \"code\": 422,\n",
      "  \"description\": \"Failed validation\",\n",
      "  \"errors\": [\n",
      "    {\n",
      "      \"description\": \"'conservative replicated peaks' is not valid under any of the given schemas\",\n",
      "      \"location\": \"body\",\n",
      "      \"name\": [\n",
      "        \"output_type\"\n",
      "      ]\n",
      "    }\n",
      "  ],\n",
      "  \"status\": \"error\",\n",
      "  \"title\": \"Unprocessable Entity\"\n",
      "}\n"
     ]
    },
    {
     "ename": "HTTPError",
     "evalue": "422 Client Error: Unprocessable Entity for url: https://test.encodedcc.org/file",
     "output_type": "error",
     "traceback": [
      "\u001b[0;31m---------------------------------------------------------------------------\u001b[0m",
      "\u001b[0;31mHTTPError\u001b[0m                                 Traceback (most recent call last)",
      "\u001b[0;32m<ipython-input-3-c618b97748a5>\u001b[0m in \u001b[0;36m<module>\u001b[0;34m()\u001b[0m\n\u001b[0;32m----> 1\u001b[0;31m \u001b[0moverlap_peaks\u001b[0m \u001b[0;34m=\u001b[0m \u001b[0macc\u001b[0m\u001b[0;34m.\u001b[0m\u001b[0maccession_overlap_peaks\u001b[0m\u001b[0;34m(\u001b[0m\u001b[0;34m)\u001b[0m\u001b[0;34m\u001b[0m\u001b[0m\n\u001b[0m",
      "\u001b[0;32m~/atac-seq-pipeline/accession.py\u001b[0m in \u001b[0;36maccession_overlap_peaks\u001b[0;34m(self, task_name)\u001b[0m\n\u001b[1;32m    638\u001b[0m                                                       \u001b[0;34m'macs2'\u001b[0m\u001b[0;34m,\u001b[0m\u001b[0;34m\u001b[0m\u001b[0m\n\u001b[1;32m    639\u001b[0m                                                       'bfilt_npeak')\n\u001b[0;32m--> 640\u001b[0;31m                         \u001b[0mencode_file\u001b[0m \u001b[0;34m=\u001b[0m \u001b[0mself\u001b[0m\u001b[0;34m.\u001b[0m\u001b[0maccession_file\u001b[0m\u001b[0;34m(\u001b[0m\u001b[0mfile_obj\u001b[0m\u001b[0;34m,\u001b[0m \u001b[0mbed\u001b[0m\u001b[0;34m)\u001b[0m\u001b[0;34m\u001b[0m\u001b[0m\n\u001b[0m\u001b[1;32m    641\u001b[0m                         \u001b[0maccessioned_idr_peaks\u001b[0m\u001b[0;34m.\u001b[0m\u001b[0mappend\u001b[0m\u001b[0;34m(\u001b[0m\u001b[0mencode_file\u001b[0m\u001b[0;34m)\u001b[0m\u001b[0;34m\u001b[0m\u001b[0m\n\u001b[1;32m    642\u001b[0m             \u001b[0;32mreturn\u001b[0m \u001b[0maccessioned_idr_peaks\u001b[0m\u001b[0;34m\u001b[0m\u001b[0m\n",
      "\u001b[0;32m~/atac-seq-pipeline/accession.py\u001b[0m in \u001b[0;36maccession_file\u001b[0;34m(self, encode_file, gs_file)\u001b[0m\n\u001b[1;32m    302\u001b[0m             \u001b[0mlocal_file\u001b[0m \u001b[0;34m=\u001b[0m \u001b[0mself\u001b[0m\u001b[0;34m.\u001b[0m\u001b[0mbackend\u001b[0m\u001b[0;34m.\u001b[0m\u001b[0mdownload\u001b[0m\u001b[0;34m(\u001b[0m\u001b[0mgs_file\u001b[0m\u001b[0;34m.\u001b[0m\u001b[0mfilename\u001b[0m\u001b[0;34m)\u001b[0m\u001b[0;34m[\u001b[0m\u001b[0;36m0\u001b[0m\u001b[0;34m]\u001b[0m\u001b[0;34m\u001b[0m\u001b[0m\n\u001b[1;32m    303\u001b[0m             \u001b[0mencode_file\u001b[0m\u001b[0;34m[\u001b[0m\u001b[0;34m'submitted_file_name'\u001b[0m\u001b[0;34m]\u001b[0m \u001b[0;34m=\u001b[0m \u001b[0mlocal_file\u001b[0m\u001b[0;34m\u001b[0m\u001b[0m\n\u001b[0;32m--> 304\u001b[0;31m             \u001b[0mencode_posted_file\u001b[0m \u001b[0;34m=\u001b[0m \u001b[0mself\u001b[0m\u001b[0;34m.\u001b[0m\u001b[0mconn\u001b[0m\u001b[0;34m.\u001b[0m\u001b[0mpost\u001b[0m\u001b[0;34m(\u001b[0m\u001b[0mencode_file\u001b[0m\u001b[0;34m)\u001b[0m\u001b[0;34m\u001b[0m\u001b[0m\n\u001b[0m\u001b[1;32m    305\u001b[0m             \u001b[0;31m# self.conn.upload_file(file_id=encode_posted_file.get('accession'),\u001b[0m\u001b[0;34m\u001b[0m\u001b[0;34m\u001b[0m\u001b[0m\n\u001b[1;32m    306\u001b[0m             \u001b[0;31m#                       file_path=local_file)\u001b[0m\u001b[0;34m\u001b[0m\u001b[0;34m\u001b[0m\u001b[0m\n",
      "\u001b[0;32m~/.pyenv/versions/3.5.3/lib/python3.5/site-packages/encode_utils/connection.py\u001b[0m in \u001b[0;36mpost\u001b[0;34m(self, payload, require_aliases)\u001b[0m\n\u001b[1;32m    965\u001b[0m             \u001b[0mself\u001b[0m\u001b[0;34m.\u001b[0m\u001b[0mdebug_logger\u001b[0m\u001b[0;34m.\u001b[0m\u001b[0mdebug\u001b[0m\u001b[0;34m(\u001b[0m\u001b[0;34m\"<<<<<< DCC POST RESPONSE: \"\u001b[0m\u001b[0;34m)\u001b[0m\u001b[0;34m\u001b[0m\u001b[0m\n\u001b[1;32m    966\u001b[0m             \u001b[0mself\u001b[0m\u001b[0;34m.\u001b[0m\u001b[0mdebug_logger\u001b[0m\u001b[0;34m.\u001b[0m\u001b[0mdebug\u001b[0m\u001b[0;34m(\u001b[0m\u001b[0meuu\u001b[0m\u001b[0;34m.\u001b[0m\u001b[0mprint_format_dict\u001b[0m\u001b[0;34m(\u001b[0m\u001b[0mresponse_json\u001b[0m\u001b[0;34m)\u001b[0m\u001b[0;34m)\u001b[0m\u001b[0;34m\u001b[0m\u001b[0m\n\u001b[0;32m--> 967\u001b[0;31m             \u001b[0mresponse\u001b[0m\u001b[0;34m.\u001b[0m\u001b[0mraise_for_status\u001b[0m\u001b[0;34m(\u001b[0m\u001b[0;34m)\u001b[0m\u001b[0;34m\u001b[0m\u001b[0m\n\u001b[0m\u001b[1;32m    968\u001b[0m \u001b[0;34m\u001b[0m\u001b[0m\n\u001b[1;32m    969\u001b[0m     \u001b[0;32mdef\u001b[0m \u001b[0mpatch\u001b[0m\u001b[0;34m(\u001b[0m\u001b[0mself\u001b[0m\u001b[0;34m,\u001b[0m \u001b[0mpayload\u001b[0m\u001b[0;34m,\u001b[0m \u001b[0mraise_403\u001b[0m\u001b[0;34m=\u001b[0m\u001b[0;32mTrue\u001b[0m\u001b[0;34m,\u001b[0m \u001b[0mextend_array_values\u001b[0m\u001b[0;34m=\u001b[0m\u001b[0;32mTrue\u001b[0m\u001b[0;34m)\u001b[0m\u001b[0;34m:\u001b[0m\u001b[0;34m\u001b[0m\u001b[0m\n",
      "\u001b[0;32m~/.pyenv/versions/3.5.3/lib/python3.5/site-packages/requests/models.py\u001b[0m in \u001b[0;36mraise_for_status\u001b[0;34m(self)\u001b[0m\n\u001b[1;32m    937\u001b[0m \u001b[0;34m\u001b[0m\u001b[0m\n\u001b[1;32m    938\u001b[0m         \u001b[0;32mif\u001b[0m \u001b[0mhttp_error_msg\u001b[0m\u001b[0;34m:\u001b[0m\u001b[0;34m\u001b[0m\u001b[0m\n\u001b[0;32m--> 939\u001b[0;31m             \u001b[0;32mraise\u001b[0m \u001b[0mHTTPError\u001b[0m\u001b[0;34m(\u001b[0m\u001b[0mhttp_error_msg\u001b[0m\u001b[0;34m,\u001b[0m \u001b[0mresponse\u001b[0m\u001b[0;34m=\u001b[0m\u001b[0mself\u001b[0m\u001b[0;34m)\u001b[0m\u001b[0;34m\u001b[0m\u001b[0m\n\u001b[0m\u001b[1;32m    940\u001b[0m \u001b[0;34m\u001b[0m\u001b[0m\n\u001b[1;32m    941\u001b[0m     \u001b[0;32mdef\u001b[0m \u001b[0mclose\u001b[0m\u001b[0;34m(\u001b[0m\u001b[0mself\u001b[0m\u001b[0;34m)\u001b[0m\u001b[0;34m:\u001b[0m\u001b[0;34m\u001b[0m\u001b[0m\n",
      "\u001b[0;31mHTTPError\u001b[0m: 422 Client Error: Unprocessable Entity for url: https://test.encodedcc.org/file"
     ]
    }
   ],
   "source": [
    "overlap_peaks = acc.accession_overlap_peaks()"
   ]
  },
  {
   "cell_type": "code",
   "execution_count": null,
   "metadata": {},
   "outputs": [],
   "source": []
  },
  {
   "cell_type": "code",
   "execution_count": null,
   "metadata": {},
   "outputs": [],
   "source": []
  },
  {
   "cell_type": "code",
   "execution_count": null,
   "metadata": {},
   "outputs": [],
   "source": []
  },
  {
   "cell_type": "code",
   "execution_count": null,
   "metadata": {},
   "outputs": [],
   "source": []
  },
  {
   "cell_type": "code",
   "execution_count": null,
   "metadata": {},
   "outputs": [],
   "source": []
  },
  {
   "cell_type": "code",
   "execution_count": null,
   "metadata": {},
   "outputs": [],
   "source": []
  },
  {
   "cell_type": "code",
   "execution_count": null,
   "metadata": {},
   "outputs": [],
   "source": []
  },
  {
   "cell_type": "code",
   "execution_count": null,
   "metadata": {},
   "outputs": [],
   "source": []
  },
  {
   "cell_type": "code",
   "execution_count": null,
   "metadata": {},
   "outputs": [],
   "source": []
  },
  {
   "cell_type": "code",
   "execution_count": null,
   "metadata": {},
   "outputs": [],
   "source": []
  },
  {
   "cell_type": "code",
   "execution_count": null,
   "metadata": {},
   "outputs": [],
   "source": []
  },
  {
   "cell_type": "code",
   "execution_count": null,
   "metadata": {},
   "outputs": [],
   "source": []
  },
  {
   "cell_type": "code",
   "execution_count": null,
   "metadata": {},
   "outputs": [],
   "source": []
  },
  {
   "cell_type": "code",
   "execution_count": null,
   "metadata": {},
   "outputs": [],
   "source": []
  },
  {
   "cell_type": "code",
   "execution_count": null,
   "metadata": {},
   "outputs": [],
   "source": []
  },
  {
   "cell_type": "code",
   "execution_count": null,
   "metadata": {},
   "outputs": [],
   "source": []
  },
  {
   "cell_type": "code",
   "execution_count": null,
   "metadata": {},
   "outputs": [],
   "source": []
  },
  {
   "cell_type": "code",
   "execution_count": null,
   "metadata": {},
   "outputs": [],
   "source": []
  },
  {
   "cell_type": "code",
   "execution_count": null,
   "metadata": {},
   "outputs": [],
   "source": []
  },
  {
   "cell_type": "code",
   "execution_count": null,
   "metadata": {},
   "outputs": [],
   "source": []
  },
  {
   "cell_type": "code",
   "execution_count": null,
   "metadata": {},
   "outputs": [],
   "source": []
  },
  {
   "cell_type": "code",
   "execution_count": null,
   "metadata": {},
   "outputs": [],
   "source": []
  },
  {
   "cell_type": "code",
   "execution_count": null,
   "metadata": {},
   "outputs": [],
   "source": []
  },
  {
   "cell_type": "code",
   "execution_count": null,
   "metadata": {},
   "outputs": [],
   "source": []
  },
  {
   "cell_type": "code",
   "execution_count": null,
   "metadata": {},
   "outputs": [],
   "source": []
  },
  {
   "cell_type": "code",
   "execution_count": null,
   "metadata": {},
   "outputs": [],
   "source": []
  },
  {
   "cell_type": "code",
   "execution_count": null,
   "metadata": {},
   "outputs": [],
   "source": []
  },
  {
   "cell_type": "code",
   "execution_count": null,
   "metadata": {},
   "outputs": [],
   "source": []
  },
  {
   "cell_type": "code",
   "execution_count": null,
   "metadata": {},
   "outputs": [],
   "source": []
  },
  {
   "cell_type": "code",
   "execution_count": null,
   "metadata": {},
   "outputs": [],
   "source": []
  },
  {
   "cell_type": "code",
   "execution_count": null,
   "metadata": {},
   "outputs": [],
   "source": []
  },
  {
   "cell_type": "code",
   "execution_count": null,
   "metadata": {},
   "outputs": [],
   "source": []
  },
  {
   "cell_type": "code",
   "execution_count": null,
   "metadata": {},
   "outputs": [],
   "source": []
  },
  {
   "cell_type": "code",
   "execution_count": null,
   "metadata": {},
   "outputs": [],
   "source": []
  },
  {
   "cell_type": "code",
   "execution_count": null,
   "metadata": {},
   "outputs": [],
   "source": []
  },
  {
   "cell_type": "code",
   "execution_count": null,
   "metadata": {},
   "outputs": [],
   "source": []
  }
 ],
 "metadata": {
  "kernelspec": {
   "display_name": "Python 3",
   "language": "python",
   "name": "python3"
  },
  "language_info": {
   "codemirror_mode": {
    "name": "ipython",
    "version": 3
   },
   "file_extension": ".py",
   "mimetype": "text/x-python",
   "name": "python",
   "nbconvert_exporter": "python",
   "pygments_lexer": "ipython3",
   "version": "3.5.3"
  }
 },
 "nbformat": 4,
 "nbformat_minor": 2
}
