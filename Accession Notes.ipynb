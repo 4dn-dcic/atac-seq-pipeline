{
 "cells": [
  {
   "cell_type": "code",
   "execution_count": 1,
   "metadata": {},
   "outputs": [],
   "source": [
    "from accession import Accession"
   ]
  },
  {
   "cell_type": "code",
   "execution_count": 2,
   "metadata": {},
   "outputs": [
    {
     "name": "stdout",
     "output_type": "stream",
     "text": [
      "2018-09-28 11:21:30,336:debug:\tConnecting to test.encodedcc.org\n",
      "2018-09-28 11:21:30,338:debug:\tsubmission=False: In non-submission mode.\n"
     ]
    }
   ],
   "source": [
    "acc = Accession('ENCSR609OHJ',\n",
    "                'output_ENCSR609OHJ_metadata.json',\n",
    "                'atac-seq-accessioning-samples',\n",
    "                'dev')"
   ]
  },
  {
   "cell_type": "code",
   "execution_count": 3,
   "metadata": {},
   "outputs": [
    {
     "name": "stdout",
     "output_type": "stream",
     "text": [
      "2018-09-28 11:21:30,347:debug:\t\n",
      "IN post().\n",
      "2018-09-28 11:21:30,348:debug:\t<<<<<< POSTING anshul-kundaje:atac-seq-trim-align-filter-step-run-v1-97940d0951cf2c3df554584f18ee8e6f1ac9bd39aa39326c6a0f7110d8037398 To DCC with URL https://test.encodedcc.org/analysis_step_run and this payload:\n",
      "\n",
      "{\n",
      "  \"aliases\": [\n",
      "    \"anshul-kundaje:atac-seq-trim-align-filter-step-run-v1-97940d0951cf2c3df554584f18ee8e6f1ac9bd39aa39326c6a0f7110d8037398\"\n",
      "  ],\n",
      "  \"analysis_step_version\": \"anshul-kundaje:atac-seq-trim-align-filter-step-version-v1\",\n",
      "  \"status\": \"released\"\n",
      "}\n",
      "\n",
      "\n",
      "2018-09-28 11:21:30,507:debug:\t{'@type': ['HTTPConflict', 'Error'], 'status': 'error', 'code': 409, 'title': 'Conflict', 'description': 'There was a conflict when trying to complete your request.', 'detail': \"Keys conflict: [('alias', 'anshul-kundaje:atac-seq-trim-align-filter-step-run-v1-97940d0951cf2c3df554584f18ee8e6f1ac9bd39aa39326c6a0f7110d8037398')]\"}\n",
      "2018-09-28 11:21:30,508:debug:\t>>>>>>GETTING anshul-kundaje:atac-seq-trim-align-filter-step-run-v1-97940d0951cf2c3df554584f18ee8e6f1ac9bd39aa39326c6a0f7110d8037398 From DCC with URL https://test.encodedcc.org/anshul-kundaje:atac-seq-trim-align-filter-step-run-v1-97940d0951cf2c3df554584f18ee8e6f1ac9bd39aa39326c6a0f7110d8037398/?format=json\n",
      "2018-09-28 11:21:30,789:debug:\tWill not POST 'anshul-kundaje:atac-seq-trim-align-filter-step-run-v1-97940d0951cf2c3df554584f18ee8e6f1ac9bd39aa39326c6a0f7110d8037398' since it already exists with aliases '['anshul-kundaje:atac-seq-trim-align-filter-step-run-v1-97940d0951cf2c3df554584f18ee8e6f1ac9bd39aa39326c6a0f7110d8037398']'.\n",
      "gs://atac-seq-accessioning-samples/atac/957638af-26f8-4bea-8280-2a088acf9783/call-filter/shard-0/glob-3bcbe4e7489c90f75e0523ac6f3a9385/ENCFF599TJR.merged.nodup.bam\n",
      "inputs  True\n",
      "inputs  True\n",
      "inputs  True\n",
      "2018-09-28 11:21:30,817:debug:\tSearching DCC with query https://test.encodedcc.org/search/?md5sum=be3288a9e40c30a086c2b72a7cecdb9e&type=File&limit=all.\n",
      "2018-09-28 11:21:31,056:debug:\t>>>>>>GETTING ENCFF599TJR From DCC with URL https://test.encodedcc.org/ENCFF599TJR/?format=json\n",
      "2018-09-28 11:21:31,736:debug:\tSearching DCC with query https://test.encodedcc.org/search/?md5sum=24eebed0eb2cb031d05d0d67f373ac02&type=File&limit=all.\n",
      "2018-09-28 11:21:32,005:debug:\t>>>>>>GETTING ENCFF176IZG From DCC with URL https://test.encodedcc.org/ENCFF176IZG/?format=json\n",
      "2018-09-28 11:21:32,682:debug:\tSearching DCC with query https://test.encodedcc.org/search/?md5sum=74f42bbdcd25b992a16a520fafb0fb55&type=File&limit=all.\n",
      "2018-09-28 11:21:32,901:debug:\t>>>>>>GETTING TSTFF623067 From DCC with URL https://test.encodedcc.org/TSTFF623067/?format=json\n",
      "gs://atac-seq-accessioning-samples/atac/957638af-26f8-4bea-8280-2a088acf9783/call-filter/shard-1/glob-3bcbe4e7489c90f75e0523ac6f3a9385/ENCFF957VLH.merged.nodup.bam\n",
      "inputs  True\n",
      "inputs  True\n",
      "inputs  True\n",
      "2018-09-28 11:21:33,297:debug:\tSearching DCC with query https://test.encodedcc.org/search/?md5sum=d375e5eea521e0638c727d3e3a4b3b21&type=File&limit=all.\n",
      "2018-09-28 11:21:33,541:debug:\t>>>>>>GETTING ENCFF957VLH From DCC with URL https://test.encodedcc.org/ENCFF957VLH/?format=json\n",
      "2018-09-28 11:21:34,134:debug:\tSearching DCC with query https://test.encodedcc.org/search/?md5sum=d48829b89549efaf9d55477d4a3420c2&type=File&limit=all.\n",
      "2018-09-28 11:21:34,362:debug:\t>>>>>>GETTING ENCFF999IJT From DCC with URL https://test.encodedcc.org/ENCFF999IJT/?format=json\n",
      "2018-09-28 11:21:34,970:debug:\tSearching DCC with query https://test.encodedcc.org/search/?md5sum=34a6fbe64ede0b1fc9f55e095bb82de6&type=File&limit=all.\n",
      "2018-09-28 11:21:35,183:debug:\t>>>>>>GETTING TSTFF828169 From DCC with URL https://test.encodedcc.org/TSTFF828169/?format=json\n"
     ]
    }
   ],
   "source": [
    "alignment_bams = acc.accession_alignment_outputs()\n"
   ]
  },
  {
   "cell_type": "code",
   "execution_count": 4,
   "metadata": {},
   "outputs": [
    {
     "name": "stdout",
     "output_type": "stream",
     "text": [
      "2018-09-28 11:21:35,566:debug:\t\n",
      "IN post().\n",
      "2018-09-28 11:21:35,568:debug:\t<<<<<< POSTING anshul-kundaje:atac-seq-signal-generation-step-run-v1-97940d0951cf2c3df554584f18ee8e6f1ac9bd39aa39326c6a0f7110d8037398 To DCC with URL https://test.encodedcc.org/analysis_step_run and this payload:\n",
      "\n",
      "{\n",
      "  \"aliases\": [\n",
      "    \"anshul-kundaje:atac-seq-signal-generation-step-run-v1-97940d0951cf2c3df554584f18ee8e6f1ac9bd39aa39326c6a0f7110d8037398\"\n",
      "  ],\n",
      "  \"analysis_step_version\": \"anshul-kundaje:atac-seq-signal-generation-step-version-v1\",\n",
      "  \"status\": \"released\"\n",
      "}\n",
      "\n",
      "\n",
      "2018-09-28 11:21:35,724:debug:\t{'@type': ['HTTPConflict', 'Error'], 'status': 'error', 'code': 409, 'title': 'Conflict', 'description': 'There was a conflict when trying to complete your request.', 'detail': \"Keys conflict: [('alias', 'anshul-kundaje:atac-seq-signal-generation-step-run-v1-97940d0951cf2c3df554584f18ee8e6f1ac9bd39aa39326c6a0f7110d8037398')]\"}\n",
      "2018-09-28 11:21:35,726:debug:\t>>>>>>GETTING anshul-kundaje:atac-seq-signal-generation-step-run-v1-97940d0951cf2c3df554584f18ee8e6f1ac9bd39aa39326c6a0f7110d8037398 From DCC with URL https://test.encodedcc.org/anshul-kundaje:atac-seq-signal-generation-step-run-v1-97940d0951cf2c3df554584f18ee8e6f1ac9bd39aa39326c6a0f7110d8037398/?format=json\n",
      "2018-09-28 11:21:36,006:debug:\tWill not POST 'anshul-kundaje:atac-seq-signal-generation-step-run-v1-97940d0951cf2c3df554584f18ee8e6f1ac9bd39aa39326c6a0f7110d8037398' since it already exists with aliases '['anshul-kundaje:atac-seq-signal-generation-step-run-v1-97940d0951cf2c3df554584f18ee8e6f1ac9bd39aa39326c6a0f7110d8037398']'.\n",
      "inputs  False\n",
      "inputs  False\n",
      "inputs  False\n",
      "inputs  False\n",
      "inputs  False\n",
      "2018-09-28 11:21:36,043:debug:\tSearching DCC with query https://test.encodedcc.org/search/?md5sum=74f42bbdcd25b992a16a520fafb0fb55&type=File&limit=all.\n",
      "2018-09-28 11:21:36,278:debug:\t>>>>>>GETTING TSTFF623067 From DCC with URL https://test.encodedcc.org/TSTFF623067/?format=json\n",
      "2018-09-28 11:21:36,678:debug:\tSearching DCC with query https://test.encodedcc.org/search/?md5sum=723e69f3ef6c037d5e26597093e09f8f&type=File&limit=all.\n",
      "2018-09-28 11:21:36,909:debug:\t>>>>>>GETTING TSTFF250652 From DCC with URL https://test.encodedcc.org/TSTFF250652/?format=json\n",
      "inputs  False\n",
      "inputs  False\n",
      "inputs  False\n",
      "inputs  False\n",
      "inputs  False\n",
      "2018-09-28 11:21:37,284:debug:\tSearching DCC with query https://test.encodedcc.org/search/?md5sum=74f42bbdcd25b992a16a520fafb0fb55&type=File&limit=all.\n",
      "2018-09-28 11:21:37,506:debug:\t>>>>>>GETTING TSTFF623067 From DCC with URL https://test.encodedcc.org/TSTFF623067/?format=json\n",
      "2018-09-28 11:21:37,891:debug:\tSearching DCC with query https://test.encodedcc.org/search/?md5sum=94ce80af6ddc3405bd918ccdb9738c20&type=File&limit=all.\n",
      "2018-09-28 11:21:38,126:debug:\t>>>>>>GETTING TSTFF621059 From DCC with URL https://test.encodedcc.org/TSTFF621059/?format=json\n",
      "inputs  False\n",
      "inputs  False\n",
      "inputs  False\n",
      "inputs  False\n",
      "inputs  False\n",
      "2018-09-28 11:21:38,495:debug:\tSearching DCC with query https://test.encodedcc.org/search/?md5sum=34a6fbe64ede0b1fc9f55e095bb82de6&type=File&limit=all.\n",
      "2018-09-28 11:21:38,705:debug:\t>>>>>>GETTING TSTFF828169 From DCC with URL https://test.encodedcc.org/TSTFF828169/?format=json\n",
      "2018-09-28 11:21:39,095:debug:\tSearching DCC with query https://test.encodedcc.org/search/?md5sum=b05232d23b95389eeb0a77db0e387e7b&type=File&limit=all.\n",
      "2018-09-28 11:21:39,356:debug:\t>>>>>>GETTING TSTFF457662 From DCC with URL https://test.encodedcc.org/TSTFF457662/?format=json\n",
      "inputs  False\n",
      "inputs  False\n",
      "inputs  False\n",
      "inputs  False\n",
      "inputs  False\n",
      "2018-09-28 11:21:39,736:debug:\tSearching DCC with query https://test.encodedcc.org/search/?md5sum=34a6fbe64ede0b1fc9f55e095bb82de6&type=File&limit=all.\n",
      "2018-09-28 11:21:39,965:debug:\t>>>>>>GETTING TSTFF828169 From DCC with URL https://test.encodedcc.org/TSTFF828169/?format=json\n",
      "2018-09-28 11:21:40,370:debug:\tSearching DCC with query https://test.encodedcc.org/search/?md5sum=90ab15332c673cd389d411f39a78b2c0&type=File&limit=all.\n",
      "2018-09-28 11:21:40,595:debug:\t>>>>>>GETTING TSTFF428211 From DCC with URL https://test.encodedcc.org/TSTFF428211/?format=json\n"
     ]
    }
   ],
   "source": [
    "signal_bigwigs = acc.accession_signal_outputs(task_name='macs2')"
   ]
  },
  {
   "cell_type": "code",
   "execution_count": 5,
   "metadata": {},
   "outputs": [],
   "source": [
    "tasks = acc.analysis.get_tasks('filter')"
   ]
  },
  {
   "cell_type": "code",
   "execution_count": 6,
   "metadata": {},
   "outputs": [],
   "source": [
    "test_file = acc.analysis.get_files(filename=\"gs://atac-seq-accessioning-samples/atac/957638af-26f8-4bea-8280-2a088acf9783/call-filter/shard-0/glob-3bcbe4e7489c90f75e0523ac6f3a9385/ENCFF599TJR.merged.nodup.bam\")"
   ]
  },
  {
   "cell_type": "code",
   "execution_count": 7,
   "metadata": {},
   "outputs": [
    {
     "data": {
      "text/plain": [
       "'ataqc'"
      ]
     },
     "execution_count": 7,
     "metadata": {},
     "output_type": "execute_result"
    }
   ],
   "source": [
    "from functools import reduce\n",
    "import operator\n",
    "test_file[0].used_by_tasks[0].task_name\n"
   ]
  },
  {
   "cell_type": "code",
   "execution_count": 8,
   "metadata": {},
   "outputs": [
    {
     "data": {
      "text/plain": [
       "[<accession.GSFile at 0x10ae2f4e0>]"
      ]
     },
     "execution_count": 8,
     "metadata": {},
     "output_type": "execute_result"
    }
   ],
   "source": [
    "a = list(acc.analysis.search_down(test_file[0].task, 'macs2', 'sig_fc'))\n",
    "import base64\n",
    "a\n",
    "# base64.b64encode(acc.backend.blob_from_filename(a.filename).download_as_string())"
   ]
  },
  {
   "cell_type": "code",
   "execution_count": 9,
   "metadata": {},
   "outputs": [],
   "source": [
    "def search_up(task, task_name, filekey, inputs=False):\n",
    "        if task_name == task.task_name:\n",
    "            if inputs:\n",
    "                for file in task.input_files:\n",
    "                    if filekey in file.filekeys:\n",
    "                        yield file\n",
    "            else:\n",
    "                for file in task.output_files:\n",
    "                    if filekey in file.filekeys:\n",
    "                        yield file\n",
    "        for task_item in set(map(lambda x: x.task, task.input_files)):\n",
    "            if task_item:\n",
    "                yield from search_up(task_item, task_name, filekey)"
   ]
  },
  {
   "cell_type": "code",
   "execution_count": 10,
   "metadata": {},
   "outputs": [
    {
     "data": {
      "text/plain": [
       "[<accession.GSFile at 0x10ae5c4a8>, <accession.GSFile at 0x10ae5c710>]"
      ]
     },
     "execution_count": 10,
     "metadata": {},
     "output_type": "execute_result"
    }
   ],
   "source": [
    "list(search_up(test_file[0].task, 'trim_adapter', 'fastqs', inputs=True))"
   ]
  },
  {
   "cell_type": "code",
   "execution_count": null,
   "metadata": {},
   "outputs": [],
   "source": []
  },
  {
   "cell_type": "code",
   "execution_count": null,
   "metadata": {},
   "outputs": [],
   "source": []
  },
  {
   "cell_type": "code",
   "execution_count": 11,
   "metadata": {},
   "outputs": [
    {
     "data": {
      "text/plain": [
       "[<accession.GSFile at 0x10ae642e8>,\n",
       " <accession.GSFile at 0x10ae644e0>,\n",
       " <accession.GSFile at 0x10ae642e8>,\n",
       " <accession.GSFile at 0x10ae644e0>]"
      ]
     },
     "execution_count": 11,
     "metadata": {},
     "output_type": "execute_result"
    }
   ],
   "source": [
    "list(acc.raw_fastq_inputs(test_file[0]))"
   ]
  },
  {
   "cell_type": "code",
   "execution_count": null,
   "metadata": {},
   "outputs": [],
   "source": []
  },
  {
   "cell_type": "code",
   "execution_count": null,
   "metadata": {},
   "outputs": [],
   "source": []
  },
  {
   "cell_type": "code",
   "execution_count": null,
   "metadata": {},
   "outputs": [],
   "source": []
  },
  {
   "cell_type": "code",
   "execution_count": null,
   "metadata": {},
   "outputs": [],
   "source": []
  },
  {
   "cell_type": "code",
   "execution_count": null,
   "metadata": {},
   "outputs": [],
   "source": []
  },
  {
   "cell_type": "code",
   "execution_count": 12,
   "metadata": {},
   "outputs": [],
   "source": [
    "import mimetypes\n",
    "import magic"
   ]
  },
  {
   "cell_type": "code",
   "execution_count": null,
   "metadata": {},
   "outputs": [],
   "source": [
    "contents = acc.backend.read_file(a.filename).decode('utf-8', errors='replace')\n",
    "#bcontents = base64.b64encode(contents)\n",
    "original_contents = acc.backend.read_file(a.filename)"
   ]
  },
  {
   "cell_type": "code",
   "execution_count": null,
   "metadata": {},
   "outputs": [],
   "source": [
    "fastqs = acc.analysis.search_up(test_file[0].task, None, 'fastq')"
   ]
  },
  {
   "cell_type": "code",
   "execution_count": null,
   "metadata": {},
   "outputs": [],
   "source": [
    "list(fastqs)"
   ]
  },
  {
   "cell_type": "code",
   "execution_count": null,
   "metadata": {},
   "outputs": [],
   "source": []
  },
  {
   "cell_type": "code",
   "execution_count": null,
   "metadata": {},
   "outputs": [],
   "source": []
  },
  {
   "cell_type": "code",
   "execution_count": null,
   "metadata": {},
   "outputs": [],
   "source": [
    "None == None"
   ]
  },
  {
   "cell_type": "code",
   "execution_count": null,
   "metadata": {},
   "outputs": [],
   "source": []
  },
  {
   "cell_type": "code",
   "execution_count": null,
   "metadata": {},
   "outputs": [],
   "source": []
  },
  {
   "cell_type": "code",
   "execution_count": null,
   "metadata": {},
   "outputs": [],
   "source": []
  },
  {
   "cell_type": "code",
   "execution_count": null,
   "metadata": {},
   "outputs": [],
   "source": []
  },
  {
   "cell_type": "code",
   "execution_count": null,
   "metadata": {},
   "outputs": [],
   "source": []
  },
  {
   "cell_type": "code",
   "execution_count": null,
   "metadata": {},
   "outputs": [],
   "source": []
  },
  {
   "cell_type": "code",
   "execution_count": null,
   "metadata": {},
   "outputs": [],
   "source": []
  },
  {
   "cell_type": "code",
   "execution_count": null,
   "metadata": {},
   "outputs": [],
   "source": []
  },
  {
   "cell_type": "code",
   "execution_count": null,
   "metadata": {},
   "outputs": [],
   "source": []
  },
  {
   "cell_type": "code",
   "execution_count": null,
   "metadata": {},
   "outputs": [],
   "source": []
  },
  {
   "cell_type": "code",
   "execution_count": null,
   "metadata": {},
   "outputs": [],
   "source": []
  },
  {
   "cell_type": "code",
   "execution_count": null,
   "metadata": {},
   "outputs": [],
   "source": []
  },
  {
   "cell_type": "code",
   "execution_count": null,
   "metadata": {},
   "outputs": [],
   "source": []
  },
  {
   "cell_type": "code",
   "execution_count": null,
   "metadata": {},
   "outputs": [],
   "source": []
  },
  {
   "cell_type": "code",
   "execution_count": null,
   "metadata": {},
   "outputs": [],
   "source": []
  },
  {
   "cell_type": "code",
   "execution_count": null,
   "metadata": {},
   "outputs": [],
   "source": []
  },
  {
   "cell_type": "code",
   "execution_count": null,
   "metadata": {},
   "outputs": [],
   "source": []
  },
  {
   "cell_type": "code",
   "execution_count": null,
   "metadata": {},
   "outputs": [],
   "source": []
  },
  {
   "cell_type": "code",
   "execution_count": null,
   "metadata": {},
   "outputs": [],
   "source": []
  },
  {
   "cell_type": "code",
   "execution_count": null,
   "metadata": {},
   "outputs": [],
   "source": []
  },
  {
   "cell_type": "code",
   "execution_count": null,
   "metadata": {},
   "outputs": [],
   "source": []
  },
  {
   "cell_type": "code",
   "execution_count": null,
   "metadata": {},
   "outputs": [],
   "source": []
  },
  {
   "cell_type": "code",
   "execution_count": null,
   "metadata": {},
   "outputs": [],
   "source": []
  },
  {
   "cell_type": "code",
   "execution_count": null,
   "metadata": {},
   "outputs": [],
   "source": []
  },
  {
   "cell_type": "code",
   "execution_count": null,
   "metadata": {},
   "outputs": [],
   "source": []
  },
  {
   "cell_type": "code",
   "execution_count": null,
   "metadata": {},
   "outputs": [],
   "source": []
  },
  {
   "cell_type": "code",
   "execution_count": null,
   "metadata": {},
   "outputs": [],
   "source": []
  },
  {
   "cell_type": "code",
   "execution_count": null,
   "metadata": {},
   "outputs": [],
   "source": []
  },
  {
   "cell_type": "code",
   "execution_count": null,
   "metadata": {},
   "outputs": [],
   "source": []
  },
  {
   "cell_type": "code",
   "execution_count": null,
   "metadata": {},
   "outputs": [],
   "source": []
  },
  {
   "cell_type": "code",
   "execution_count": null,
   "metadata": {},
   "outputs": [],
   "source": []
  },
  {
   "cell_type": "code",
   "execution_count": null,
   "metadata": {},
   "outputs": [],
   "source": []
  },
  {
   "cell_type": "code",
   "execution_count": null,
   "metadata": {},
   "outputs": [],
   "source": []
  },
  {
   "cell_type": "code",
   "execution_count": null,
   "metadata": {},
   "outputs": [],
   "source": []
  },
  {
   "cell_type": "code",
   "execution_count": null,
   "metadata": {},
   "outputs": [],
   "source": []
  }
 ],
 "metadata": {
  "kernelspec": {
   "display_name": "Python 3",
   "language": "python",
   "name": "python3"
  },
  "language_info": {
   "codemirror_mode": {
    "name": "ipython",
    "version": 3
   },
   "file_extension": ".py",
   "mimetype": "text/x-python",
   "name": "python",
   "nbconvert_exporter": "python",
   "pygments_lexer": "ipython3",
   "version": "3.5.3"
  }
 },
 "nbformat": 4,
 "nbformat_minor": 2
}
