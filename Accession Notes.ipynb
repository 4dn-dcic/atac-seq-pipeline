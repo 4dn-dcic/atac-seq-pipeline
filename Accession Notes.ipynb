{
 "cells": [
  {
   "cell_type": "code",
   "execution_count": 1,
   "metadata": {},
   "outputs": [],
   "source": [
    "from accession import Accession"
   ]
  },
  {
   "cell_type": "code",
   "execution_count": 2,
   "metadata": {},
   "outputs": [
    {
     "name": "stdout",
     "output_type": "stream",
     "text": [
      "2018-09-26 00:18:56,264:debug:\tConnecting to test.encodedcc.org\n",
      "2018-09-26 00:18:56,267:debug:\tsubmission=False: In non-submission mode.\n"
     ]
    }
   ],
   "source": [
    "acc = Accession('ENCSR609OHJ',\n",
    "                'output_ENCSR609OHJ_metadata.json',\n",
    "                'atac-seq-accessioning-samples',\n",
    "                'dev')"
   ]
  },
  {
   "cell_type": "code",
   "execution_count": 3,
   "metadata": {},
   "outputs": [
    {
     "name": "stdout",
     "output_type": "stream",
     "text": [
      "2018-09-26 00:18:56,275:debug:\t\n",
      "IN post().\n",
      "2018-09-26 00:18:56,276:debug:\t<<<<<< POSTING anshul-kundaje:atac-seq-trim-align-filter-step-run-single-rep-v1-97940d0951cf2c3df554584f18ee8e6f1ac9bd39aa39326c6a0f7110d8037398 To DCC with URL https://test.encodedcc.org/analysis_step_run and this payload:\n",
      "\n",
      "{\n",
      "  \"aliases\": [\n",
      "    \"anshul-kundaje:atac-seq-trim-align-filter-step-run-single-rep-v1-97940d0951cf2c3df554584f18ee8e6f1ac9bd39aa39326c6a0f7110d8037398\"\n",
      "  ],\n",
      "  \"analysis_step_version\": \"anshul-kundaje:atac-seq-trim-align-filter-step-version-single-rep-v1\",\n",
      "  \"status\": \"released\"\n",
      "}\n",
      "\n",
      "\n",
      "2018-09-26 00:18:56,587:debug:\t{'description': 'There was a conflict when trying to complete your request.', 'title': 'Conflict', 'detail': \"Keys conflict: [('alias', 'anshul-kundaje:atac-seq-trim-align-filter-step-run-single-rep-v1-97940d0951cf2c3df554584f18ee8e6f1ac9bd39aa39326c6a0f7110d8037398')]\", 'status': 'error', '@type': ['HTTPConflict', 'Error'], 'code': 409}\n",
      "2018-09-26 00:18:56,588:debug:\t>>>>>>GETTING anshul-kundaje:atac-seq-trim-align-filter-step-run-single-rep-v1-97940d0951cf2c3df554584f18ee8e6f1ac9bd39aa39326c6a0f7110d8037398 From DCC with URL https://test.encodedcc.org/anshul-kundaje:atac-seq-trim-align-filter-step-run-single-rep-v1-97940d0951cf2c3df554584f18ee8e6f1ac9bd39aa39326c6a0f7110d8037398/?format=json\n",
      "2018-09-26 00:18:56,937:debug:\tWill not POST 'anshul-kundaje:atac-seq-trim-align-filter-step-run-single-rep-v1-97940d0951cf2c3df554584f18ee8e6f1ac9bd39aa39326c6a0f7110d8037398' since it already exists with aliases '['anshul-kundaje:atac-seq-trim-align-filter-step-run-single-rep-v1-97940d0951cf2c3df554584f18ee8e6f1ac9bd39aa39326c6a0f7110d8037398']'.\n",
      "2018-09-26 00:18:56,983:debug:\tSearching DCC with query https://test.encodedcc.org/search/?md5sum=be3288a9e40c30a086c2b72a7cecdb9e&type=File&limit=all.\n",
      "2018-09-26 00:18:57,335:debug:\tSearching DCC with query https://test.encodedcc.org/search/?md5sum=24eebed0eb2cb031d05d0d67f373ac02&type=File&limit=all.\n",
      "2018-09-26 00:18:57,709:debug:\tSearching DCC with query https://test.encodedcc.org/search/?md5sum=74f42bbdcd25b992a16a520fafb0fb55&type=File&limit=all.\n",
      "{'output_category': 'alignment', 'analysis_step_version': {'schema_version': '4', 'name': 'kundaje-lab-atac-seq-trim-align-filter-single-rep-step-v-1-0', 'software_versions': [{'schema_version': '4', 'software': {'schema_version': '5', 'url': 'http://bowtie-bio.sourceforge.net/bowtie2/index.shtml', 'name': 'bowtie2', '@id': '/software/bowtie2/', 'references': ['/publications/5b64d8ad-0b79-4694-a7d2-dc13033f9504/'], 'award': '/awards/ENCODE/', 'submitted_by': '/users/332d0e03-a907-4f53-8358-bb00118277c8/', 'description': 'Bowtie 2 is an ultrafast and memory-efficient tool for aligning sequencing reads to long reference sequences. It is particularly good at aligning reads of about 50 up to 100s or 1,000s of characters, and particularly good at aligning to relatively long (e.g. mammalian) genomes. Bowtie 2 indexes the genome with an FM Index to keep its memory footprint small: for the human genome, its memory footprint is typically around 3.2 GB. Bowtie 2 supports gapped, local, and paired-end alignment modes.', 'date_created': '2016-12-07T21:59:25.746320+00:00', 'uuid': '9a935746-3c3f-46d7-8b0a-415c2b0cecd0', 'used_by': ['ENCODE'], 'lab': '/labs/encode-consortium/', 'title': 'Bowtie 2', 'purpose': ['ChIP-seq', 'RNA-seq'], 'status': 'released', '@type': ['Software', 'Item'], 'versions': ['/software-versions/da7c531b-26f1-40a5-aa1a-5ed4f99e4d90/', '/software-versions/9c51ea8f-ac73-4a25-8783-d31bce2d5aac/', '/software-versions/b38b963c-dbe8-4de7-a2dc-ee2c593a67c6/', '/software-versions/e7dc5254-5485-44ca-afc0-0677413cde47/', '/software-versions/12c34690-5edd-4da8-a3bc-0790b0d38e14/', '/software-versions/6584bfb8-8dcd-4f46-b098-55eebc85a369/', '/software-versions/a8abe783-46a9-46cd-b5fb-23ebf39b6f71/'], 'aliases': []}, 'date_created': '2016-12-07T21:32:28.581220+00:00', 'uuid': '6584bfb8-8dcd-4f46-b098-55eebc85a369', 'submitted_by': '/users/332d0e03-a907-4f53-8358-bb00118277c8/', '@type': ['SoftwareVersion', 'Item'], 'status': 'in progress', 'version': '2.2.6', '@id': '/software-versions/6584bfb8-8dcd-4f46-b098-55eebc85a369/', 'aliases': ['encode:bowtie 2.2.6']}, {'schema_version': '4', 'software': {'name': 'preseq', 'schema_version': '5', 'url': 'http://smithlabresearch.org/software/preseq/', 'software_type': ['other'], 'source_url': 'https://github.com/smithlabcode/preseq', 'description': 'From the Smith lab: \"The preseq package is aimed at predicting and estimating the complexity of a genomic sequencing library, equivalent to predicting and estimating the number of redundant reads from a given sequencing depth and how many will be expected from additional sequencing using an initial sequencing experiment.\"', 'references': ['/publications/0718d1cf-f205-48cf-8615-7244a4d62265/'], 'award': '/awards/ENCODE/', 'submitted_by': '/users/9851ccbc-2df9-4529-a4f3-90edee981fc0/', '@id': '/software/preseq/', 'date_created': '2016-03-08T17:04:02.963554+00:00', 'uuid': '98ecd9b6-5612-497d-b739-802bb95ac27f', 'used_by': ['ENCODE'], 'lab': '/labs/encode-consortium/', 'title': 'Preseq', 'purpose': [], 'status': 'released', '@type': ['Software', 'Item'], 'versions': ['/software-versions/23314364-3fa2-4b1b-a829-5adcebe8f735/', '/software-versions/a0d1cf06-6aa6-4f87-9aab-a0b747005bbe/', '/software-versions/daf1898a-d376-48fb-b24d-24075202be19/'], 'aliases': []}, 'date_created': '2016-12-07T21:35:59.474189+00:00', 'uuid': 'daf1898a-d376-48fb-b24d-24075202be19', 'submitted_by': '/users/332d0e03-a907-4f53-8358-bb00118277c8/', '@type': ['SoftwareVersion', 'Item'], 'status': 'in progress', 'version': '2.0.2', '@id': '/software-versions/daf1898a-d376-48fb-b24d-24075202be19/', 'aliases': ['encode:preseq 2.0.2']}], 'submitted_by': '/users/4c23ec32-c7c8-4ac0-affb-04befcc881d4/', '@id': '/analysis-step-versions/kundaje-lab-atac-seq-trim-align-filter-single-rep-step-v-1-0/', 'date_created': '2017-03-09T18:54:58.809144+00:00', 'uuid': 'f5e138c5-68f5-4699-803e-17b1519fff93', 'minor_version': 0, 'analysis_step': {'current_version': '/analysis-step-versions/kundaje-lab-atac-seq-trim-align-filter-single-rep-step-v-1-0/', 'schema_version': '6', 'output_file_types': ['alignments', 'unfiltered alignments'], 'documents': [], 'name': 'kundaje-lab-atac-seq-trim-align-filter-single-rep-step-v-1', 'major_version': 1, 'analysis_step_types': ['read trimming', 'alignment', 'filtering'], 'submitted_by': '/users/4c23ec32-c7c8-4ac0-affb-04befcc881d4/', '@id': '/analysis-steps/kundaje-lab-atac-seq-trim-align-filter-single-rep-step-v-1/', 'date_created': '2017-03-08T18:27:08.908742+00:00', 'uuid': '26d9c212-b06f-43ff-afb0-c4abdf5019c4', 'title': 'Kundaje lab single replicate ATAC-seq trim, align, and filter step', 'input_file_types': ['reads'], 'step_label': 'kundaje-lab-atac-seq-trim-align-filter-single-rep-step', 'status': 'released', '@type': ['AnalysisStep', 'Item'], 'versions': ['/analysis-step-versions/kundaje-lab-atac-seq-trim-align-filter-single-rep-step-v-1-0/'], 'aliases': ['anshul-kundaje:atac-seq-trim-align-filter-step-single-rep-v1'], 'pipelines': [{'schema_version': '9', 'documents': ['/documents/c008d7bd-5d60-4a23-a833-67c5dfab006a/'], 'award': '/awards/ENCODE/', 'description': 'Single replicate ATAC-seq pipeline for ENCODE data, developed by Anshul Kundaje and the ENCODE DAC', 'analysis_steps': ['/analysis-steps/kundaje-lab-atac-seq-trim-align-filter-single-rep-step-v-1/', '/analysis-steps/kundaje-lab-atac-seq-peak-call-single-rep-step-v-1/', '/analysis-steps/kundaje-lab-atac-seq-filtered-peaks-conversion-single-rep-step-v-1/', '/analysis-steps/kundaje-lab-atac-seq-signals-single-rep-step-v-1/', '/analysis-steps/kundaje-lab-atac-seq-unreplicated-idr-single-rep-step-v-1/', '/analysis-steps/kundaje-lab-atac-seq-overlap-peaks-single-rep-step-v-1/', '/analysis-steps/kundaje-lab-atac-seq-stable-peaks-conversion-single-rep-step-v-1/', '/analysis-steps/kundaje-lab-atac-seq-pseudoreplicated-idr-peaks-conversion-single-rep-step-v-1/'], 'alternate_accessions': [], 'source_url': 'https://github.com/kundajelab/atac_dnase_pipelines', '@id': '/pipelines/ENCPL583EZV/', 'submitted_by': '/users/4c23ec32-c7c8-4ac0-affb-04befcc881d4/', 'assay_term_names': ['ATAC-seq'], 'accession': 'ENCPL583EZV', 'date_created': '2017-03-08T20:18:53.828228+00:00', 'uuid': '1e566d74-0a70-411f-8b2f-6e9f4cbf71f9', 'lab': '/labs/encode-awg/', 'title': 'Kundaje lab ATAC-seq pipeline (single replicate)', 'status': 'released', '@type': ['Pipeline', 'Item'], 'references': [], 'aliases': ['anshul-kundaje:ATAC-seq-pipeline-single-replicate']}]}, 'status': 'in progress', '@type': ['AnalysisStepVersion', 'Item'], 'aliases': ['anshul-kundaje:atac-seq-trim-align-filter-step-version-single-rep-v1']}, 'step_run': {'schema_version': '5', 'analysis_step_version': '/analysis-step-versions/kundaje-lab-atac-seq-trim-align-filter-single-rep-step-v-1-0/', 'date_created': '2018-09-10T17:10:21.223173+00:00', 'uuid': 'ce8ed9d4-2de6-41fe-ba64-09033c553ddb', 'submitted_by': '/users/45cd6450-c5f0-49dc-9a68-d233f51039c5/', 'status': 'released', '@type': ['AnalysisStepRun', 'Item'], '@id': '/analysis-step-runs/ce8ed9d4-2de6-41fe-ba64-09033c553ddb/', 'aliases': ['anshul-kundaje:atac-seq-trim-align-filter-step-run-single-rep-v1-97940d0951cf2c3df554584f18ee8e6f1ac9bd39aa39326c6a0f7110d8037398']}, 'date_created': '2018-09-14T18:57:14.724203+00:00', 'audit': {'INTERNAL_ACTION': [{'path': '/files/TSTFF062707/', 'name': 'audit_file', 'level_name': 'INTERNAL_ACTION', 'detail': 'File /files/TSTFF062707/ has more than one SamtoolsFlagstatsQualityMetric quality metric', 'category': 'duplicate quality metric', 'level': 30}, {'path': '/files/TSTFF062707/', 'name': 'audit_file', 'level_name': 'INTERNAL_ACTION', 'detail': 'File /files/TSTFF062707/ has more than one ComplexityXcorrQualityMetric quality metric', 'category': 'duplicate quality metric', 'level': 30}]}, 'lab': {'address1': '300 Pasteur Dr., Lane Building, L301', 'schema_version': '5', 'phone1': '(650)-723-2353', 'fax': '(650)-725-1534', 'pi': '/users/5ee9af15-8447-47d5-9ef1-06d425b828eb/', 'city': 'Stanford', 'state': 'CA', 'awards': [], '@id': '/labs/anshul-kundaje/', 'country': 'USA', 'institute_name': 'Stanford University', 'uuid': 'c7833572-0bba-4835-9d22-a45f39250d8d', 'name': 'anshul-kundaje', 'title': 'Anshul Kundaje, Stanford', 'postal_code': '', 'institute_label': 'Stanford', 'status': 'current', '@type': ['Lab', 'Item'], 'phone2': ''}, 'title': 'TSTFF062707', '@type': ['File', 'Item'], 'assembly': 'mm10', 'accession': 'TSTFF062707', 'href': '/files/TSTFF062707/@@download/TSTFF062707.bam', 'file_size': 3266937226, 'quality_metrics': [{'schema_version': '7', 'total_qc_failed': 0, 'diff_chroms': 281484, 'singletons_qc_failed': 0, 'paired_properly': 132880666, 'paired_qc_failed': 0, 'duplicates_qc_failed': 0, 'paired_properly_qc_failed': 0, 'step_run': '/analysis-step-runs/ce8ed9d4-2de6-41fe-ba64-09033c553ddb/', 'paired_properly_pct': '94.79%', 'quality_metric_of': ['/files/TSTFF062707/'], 'date_created': '2018-09-14T19:08:57.604256+00:00', 'uuid': '917e0287-9558-447e-b830-9a120023ef2d', 'lab': '/labs/anshul-kundaje/', 'with_itself': 133901556, 'read2': 70091736, 'aliases': [], 'read2_qc_failed': 0, 'singletons': 466377, 'diff_chroms_qc_failed': 0, 'duplicates': 0, 'status': 'released', 'paired': 140183472, 'total': 220600873, '@id': '/samtools-flagstats-quality-metrics/917e0287-9558-447e-b830-9a120023ef2d/', 'with_itself_qc_failed': 0, 'read1': 70091736, 'mapped': 214785334, 'singletons_pct': '0.33%', 'submitted_by': '/users/45cd6450-c5f0-49dc-9a68-d233f51039c5/', 'mapped_qc_failed': 0, 'read1_qc_failed': 0, '@type': ['SamtoolsFlagstatsQualityMetric', 'QualityMetric', 'Item'], 'award': '/awards/U41HG007000/', 'mapped_pct': '97.36%'}, {'schema_version': '7', 'total_qc_failed': 0, 'diff_chroms': 0, 'singletons_qc_failed': 0, 'paired_properly': 73312840, 'paired_qc_failed': 0, 'duplicates_qc_failed': 0, 'paired_properly_qc_failed': 0, 'step_run': '/analysis-step-runs/ce8ed9d4-2de6-41fe-ba64-09033c553ddb/', 'paired_properly_pct': '100.0%', 'quality_metric_of': ['/files/TSTFF062707/'], 'date_created': '2018-09-26T06:39:29.702927+00:00', 'uuid': '38056a5b-ec9e-4e4c-9738-afe83884739b', 'lab': '/labs/anshul-kundaje/', 'with_itself': 73312840, 'read2': 36656420, 'aliases': [], 'read2_qc_failed': 0, 'singletons': 0, 'diff_chroms_qc_failed': 0, 'duplicates': 0, 'status': 'released', 'paired': 73312840, 'total': 73312840, '@id': '/samtools-flagstats-quality-metrics/38056a5b-ec9e-4e4c-9738-afe83884739b/', 'with_itself_qc_failed': 0, 'read1': 36656420, 'mapped': 73312840, 'singletons_pct': '0.0%', 'submitted_by': '/users/45cd6450-c5f0-49dc-9a68-d233f51039c5/', 'mapped_qc_failed': 0, 'read1_qc_failed': 0, '@type': ['SamtoolsFlagstatsQualityMetric', 'QualityMetric', 'Item'], 'award': '/awards/U41HG007000/', 'mapped_pct': '100.0%'}, {'schema_version': '7', 'total_qc_failed': 0, 'diff_chroms': 0, 'singletons_qc_failed': 0, 'paired_properly': 73312840, 'paired_qc_failed': 0, 'duplicates_qc_failed': 0, 'paired_properly_qc_failed': 0, 'step_run': '/analysis-step-runs/ce8ed9d4-2de6-41fe-ba64-09033c553ddb/', 'paired_properly_pct': '100.0%', 'quality_metric_of': ['/files/TSTFF062707/'], 'date_created': '2018-09-26T06:40:14.181095+00:00', 'uuid': '91a2d2a2-6a64-430d-bcda-849c2314bc3a', 'lab': '/labs/anshul-kundaje/', 'with_itself': 73312840, 'read2': 36656420, 'aliases': [], 'read2_qc_failed': 0, 'singletons': 0, 'diff_chroms_qc_failed': 0, 'duplicates': 0, 'status': 'released', 'paired': 73312840, 'total': 73312840, '@id': '/samtools-flagstats-quality-metrics/91a2d2a2-6a64-430d-bcda-849c2314bc3a/', 'with_itself_qc_failed': 0, 'read1': 36656420, 'mapped': 73312840, 'singletons_pct': '0.0%', 'submitted_by': '/users/45cd6450-c5f0-49dc-9a68-d233f51039c5/', 'mapped_qc_failed': 0, 'read1_qc_failed': 0, '@type': ['SamtoolsFlagstatsQualityMetric', 'QualityMetric', 'Item'], 'award': '/awards/U41HG007000/', 'mapped_pct': '100.0%'}, {'schema_version': '7', 'total_qc_failed': 0, 'diff_chroms': 0, 'singletons_qc_failed': 0, 'paired_properly': 73312840, 'paired_qc_failed': 0, 'duplicates_qc_failed': 0, 'paired_properly_qc_failed': 0, 'step_run': '/analysis-step-runs/ce8ed9d4-2de6-41fe-ba64-09033c553ddb/', 'paired_properly_pct': '100.0%', 'quality_metric_of': ['/files/TSTFF062707/'], 'date_created': '2018-09-26T06:46:53.031337+00:00', 'uuid': 'b6812895-14bb-48ac-aba7-f43b9e0cd431', 'lab': '/labs/anshul-kundaje/', 'with_itself': 73312840, 'read2': 36656420, 'aliases': [], 'read2_qc_failed': 0, 'singletons': 0, 'diff_chroms_qc_failed': 0, 'duplicates': 0, 'status': 'released', 'paired': 73312840, 'total': 73312840, '@id': '/samtools-flagstats-quality-metrics/b6812895-14bb-48ac-aba7-f43b9e0cd431/', 'with_itself_qc_failed': 0, 'read1': 36656420, 'mapped': 73312840, 'singletons_pct': '0.0%', 'submitted_by': '/users/45cd6450-c5f0-49dc-9a68-d233f51039c5/', 'mapped_qc_failed': 0, 'read1_qc_failed': 0, '@type': ['SamtoolsFlagstatsQualityMetric', 'QualityMetric', 'Item'], 'award': '/awards/U41HG007000/', 'mapped_pct': '100.0%'}, {'schema_version': '7', 'total_qc_failed': 0, 'diff_chroms': 0, 'singletons_qc_failed': 0, 'paired_properly': 73312840, 'paired_qc_failed': 0, 'duplicates_qc_failed': 0, 'paired_properly_qc_failed': 0, 'step_run': '/analysis-step-runs/ce8ed9d4-2de6-41fe-ba64-09033c553ddb/', 'paired_properly_pct': '100.0%', 'quality_metric_of': ['/files/TSTFF062707/'], 'date_created': '2018-09-26T06:04:43.249806+00:00', 'uuid': '7b4fb37c-8fdf-41bd-8290-244434c78742', 'lab': '/labs/anshul-kundaje/', 'with_itself': 73312840, 'read2': 36656420, 'aliases': [], 'read2_qc_failed': 0, 'singletons': 0, 'diff_chroms_qc_failed': 0, 'duplicates': 0, 'status': 'released', 'paired': 73312840, 'total': 73312840, '@id': '/samtools-flagstats-quality-metrics/7b4fb37c-8fdf-41bd-8290-244434c78742/', 'with_itself_qc_failed': 0, 'read1': 36656420, 'mapped': 73312840, 'singletons_pct': '0.0%', 'submitted_by': '/users/45cd6450-c5f0-49dc-9a68-d233f51039c5/', 'mapped_qc_failed': 0, 'read1_qc_failed': 0, '@type': ['SamtoolsFlagstatsQualityMetric', 'QualityMetric', 'Item'], 'award': '/awards/U41HG007000/', 'mapped_pct': '100.0%'}, {'schema_version': '7', 'total_qc_failed': 0, 'diff_chroms': 0, 'singletons_qc_failed': 0, 'paired_properly': 73312840, 'paired_qc_failed': 0, 'duplicates_qc_failed': 0, 'paired_properly_qc_failed': 0, 'step_run': '/analysis-step-runs/ce8ed9d4-2de6-41fe-ba64-09033c553ddb/', 'paired_properly_pct': '100.0%', 'quality_metric_of': ['/files/TSTFF062707/'], 'date_created': '2018-09-26T06:33:07.975760+00:00', 'uuid': '0976a9b3-d0da-48e1-b607-a09d231bd8a7', 'lab': '/labs/anshul-kundaje/', 'with_itself': 73312840, 'read2': 36656420, 'aliases': [], 'read2_qc_failed': 0, 'singletons': 0, 'diff_chroms_qc_failed': 0, 'duplicates': 0, 'status': 'released', 'paired': 73312840, 'total': 73312840, '@id': '/samtools-flagstats-quality-metrics/0976a9b3-d0da-48e1-b607-a09d231bd8a7/', 'with_itself_qc_failed': 0, 'read1': 36656420, 'mapped': 73312840, 'singletons_pct': '0.0%', 'submitted_by': '/users/45cd6450-c5f0-49dc-9a68-d233f51039c5/', 'mapped_qc_failed': 0, 'read1_qc_failed': 0, '@type': ['SamtoolsFlagstatsQualityMetric', 'QualityMetric', 'Item'], 'award': '/awards/U41HG007000/', 'mapped_pct': '100.0%'}, {'schema_version': '7', 'total_qc_failed': 0, 'diff_chroms': 0, 'singletons_qc_failed': 0, 'paired_properly': 73312840, 'paired_qc_failed': 0, 'duplicates_qc_failed': 0, 'paired_properly_qc_failed': 0, 'step_run': '/analysis-step-runs/ce8ed9d4-2de6-41fe-ba64-09033c553ddb/', 'paired_properly_pct': '100.0%', 'quality_metric_of': ['/files/TSTFF062707/'], 'date_created': '2018-09-26T06:36:11.010954+00:00', 'uuid': '24a9a0a6-a2cb-44eb-94b9-5b052cc905c8', 'lab': '/labs/anshul-kundaje/', 'with_itself': 73312840, 'read2': 36656420, 'aliases': [], 'read2_qc_failed': 0, 'singletons': 0, 'diff_chroms_qc_failed': 0, 'duplicates': 0, 'status': 'released', 'paired': 73312840, 'total': 73312840, '@id': '/samtools-flagstats-quality-metrics/24a9a0a6-a2cb-44eb-94b9-5b052cc905c8/', 'with_itself_qc_failed': 0, 'read1': 36656420, 'mapped': 73312840, 'singletons_pct': '0.0%', 'submitted_by': '/users/45cd6450-c5f0-49dc-9a68-d233f51039c5/', 'mapped_qc_failed': 0, 'read1_qc_failed': 0, '@type': ['SamtoolsFlagstatsQualityMetric', 'QualityMetric', 'Item'], 'award': '/awards/U41HG007000/', 'mapped_pct': '100.0%'}, {'schema_version': '7', 'total_qc_failed': 0, 'diff_chroms': 0, 'singletons_qc_failed': 0, 'paired_properly': 73312840, 'paired_qc_failed': 0, 'duplicates_qc_failed': 0, 'paired_properly_qc_failed': 0, 'step_run': '/analysis-step-runs/ce8ed9d4-2de6-41fe-ba64-09033c553ddb/', 'paired_properly_pct': '100.0%', 'quality_metric_of': ['/files/TSTFF062707/'], 'date_created': '2018-09-26T06:50:00.762938+00:00', 'uuid': 'dc3beaa6-55d7-47f0-8567-2eea10656b30', 'lab': '/labs/anshul-kundaje/', 'with_itself': 73312840, 'read2': 36656420, 'aliases': [], 'read2_qc_failed': 0, 'singletons': 0, 'diff_chroms_qc_failed': 0, 'duplicates': 0, 'status': 'released', 'paired': 73312840, 'total': 73312840, '@id': '/samtools-flagstats-quality-metrics/dc3beaa6-55d7-47f0-8567-2eea10656b30/', 'with_itself_qc_failed': 0, 'read1': 36656420, 'mapped': 73312840, 'singletons_pct': '0.0%', 'submitted_by': '/users/45cd6450-c5f0-49dc-9a68-d233f51039c5/', 'mapped_qc_failed': 0, 'read1_qc_failed': 0, '@type': ['SamtoolsFlagstatsQualityMetric', 'QualityMetric', 'Item'], 'award': '/awards/U41HG007000/', 'mapped_pct': '100.0%'}, {'schema_version': '7', 'total_qc_failed': 0, 'diff_chroms': 0, 'singletons_qc_failed': 0, 'paired_properly': 73312840, 'paired_qc_failed': 0, 'duplicates_qc_failed': 0, 'paired_properly_qc_failed': 0, 'step_run': '/analysis-step-runs/ce8ed9d4-2de6-41fe-ba64-09033c553ddb/', 'paired_properly_pct': '100.0%', 'quality_metric_of': ['/files/TSTFF062707/'], 'date_created': '2018-09-26T07:10:01.949399+00:00', 'uuid': '27451c3f-cd54-4a9c-8714-a6d11f291103', 'lab': '/labs/anshul-kundaje/', 'with_itself': 73312840, 'read2': 36656420, 'aliases': [], 'read2_qc_failed': 0, 'singletons': 0, 'diff_chroms_qc_failed': 0, 'duplicates': 0, 'status': 'released', 'paired': 73312840, 'total': 73312840, '@id': '/samtools-flagstats-quality-metrics/27451c3f-cd54-4a9c-8714-a6d11f291103/', 'with_itself_qc_failed': 0, 'read1': 36656420, 'mapped': 73312840, 'singletons_pct': '0.0%', 'submitted_by': '/users/45cd6450-c5f0-49dc-9a68-d233f51039c5/', 'mapped_qc_failed': 0, 'read1_qc_failed': 0, '@type': ['SamtoolsFlagstatsQualityMetric', 'QualityMetric', 'Item'], 'award': '/awards/U41HG007000/', 'mapped_pct': '100.0%'}, {'schema_version': '7', 'sample size': 25000000, 'PBC1': 0.833545, 'paired-end': True, 'RSC': 1.363795, 'PBC2': 6.324828, 'award': '/awards/U41HG007000/', 'read length': 51, 'step_run': '/analysis-step-runs/ce8ed9d4-2de6-41fe-ba64-09033c553ddb/', 'NRF': 0.792035, 'NSC': 2.850403, '@id': '/complexity-xcorr-quality-metrics/c5e9827a-91c0-4d47-8903-9ca0c999a4b7/', 'submitted_by': '/users/45cd6450-c5f0-49dc-9a68-d233f51039c5/', 'date_created': '2018-09-26T06:04:43.760776+00:00', 'uuid': 'c5e9827a-91c0-4d47-8903-9ca0c999a4b7', 'fragment length': 0, 'lab': '/labs/anshul-kundaje/', 'quality_metric_of': ['/files/TSTFF062707/'], 'status': 'released', '@type': ['ComplexityXcorrQualityMetric', 'QualityMetric', 'Item'], 'aliases': []}, {'schema_version': '7', 'total_qc_failed': 0, 'diff_chroms': 0, 'singletons_qc_failed': 0, 'paired_properly': 73312840, 'paired_qc_failed': 0, 'duplicates_qc_failed': 0, 'paired_properly_qc_failed': 0, 'step_run': '/analysis-step-runs/ce8ed9d4-2de6-41fe-ba64-09033c553ddb/', 'paired_properly_pct': '100.0%', 'quality_metric_of': ['/files/TSTFF062707/'], 'date_created': '2018-09-26T06:09:27.402359+00:00', 'uuid': '9540c52f-984a-43a3-8f43-b33a6e4e8c40', 'lab': '/labs/anshul-kundaje/', 'with_itself': 73312840, 'read2': 36656420, 'aliases': [], 'read2_qc_failed': 0, 'singletons': 0, 'diff_chroms_qc_failed': 0, 'duplicates': 0, 'status': 'released', 'paired': 73312840, 'total': 73312840, '@id': '/samtools-flagstats-quality-metrics/9540c52f-984a-43a3-8f43-b33a6e4e8c40/', 'with_itself_qc_failed': 0, 'read1': 36656420, 'mapped': 73312840, 'singletons_pct': '0.0%', 'submitted_by': '/users/45cd6450-c5f0-49dc-9a68-d233f51039c5/', 'mapped_qc_failed': 0, 'read1_qc_failed': 0, '@type': ['SamtoolsFlagstatsQualityMetric', 'QualityMetric', 'Item'], 'award': '/awards/U41HG007000/', 'mapped_pct': '100.0%'}, {'schema_version': '7', 'total_qc_failed': 0, 'diff_chroms': 0, 'singletons_qc_failed': 0, 'paired_properly': 73312840, 'paired_qc_failed': 0, 'duplicates_qc_failed': 0, 'paired_properly_qc_failed': 0, 'step_run': '/analysis-step-runs/ce8ed9d4-2de6-41fe-ba64-09033c553ddb/', 'paired_properly_pct': '100.0%', 'quality_metric_of': ['/files/TSTFF062707/'], 'date_created': '2018-09-26T07:12:54.971551+00:00', 'uuid': 'a382511a-fe48-476b-afd5-de1dfb893dab', 'lab': '/labs/anshul-kundaje/', 'with_itself': 73312840, 'read2': 36656420, 'aliases': [], 'read2_qc_failed': 0, 'singletons': 0, 'diff_chroms_qc_failed': 0, 'duplicates': 0, 'status': 'released', 'paired': 73312840, 'total': 73312840, '@id': '/samtools-flagstats-quality-metrics/a382511a-fe48-476b-afd5-de1dfb893dab/', 'with_itself_qc_failed': 0, 'read1': 36656420, 'mapped': 73312840, 'singletons_pct': '0.0%', 'submitted_by': '/users/45cd6450-c5f0-49dc-9a68-d233f51039c5/', 'mapped_qc_failed': 0, 'read1_qc_failed': 0, '@type': ['SamtoolsFlagstatsQualityMetric', 'QualityMetric', 'Item'], 'award': '/awards/U41HG007000/', 'mapped_pct': '100.0%'}, {'schema_version': '7', 'sample size': 25000000, 'PBC1': 0.807628, 'paired-end': True, 'RSC': 1.363795, 'PBC2': 5.353944, 'award': '/awards/U41HG007000/', 'read length': 51, 'step_run': '/analysis-step-runs/ce8ed9d4-2de6-41fe-ba64-09033c553ddb/', 'NRF': 0.767801, 'NSC': 2.850403, '@id': '/complexity-xcorr-quality-metrics/e11458cd-8184-4576-9c02-3a1f4c3fe88a/', 'submitted_by': '/users/45cd6450-c5f0-49dc-9a68-d233f51039c5/', 'date_created': '2018-09-26T05:25:09.641778+00:00', 'uuid': 'e11458cd-8184-4576-9c02-3a1f4c3fe88a', 'fragment length': 0, 'lab': '/labs/anshul-kundaje/', 'quality_metric_of': ['/files/TSTFF062707/'], 'status': 'released', '@type': ['ComplexityXcorrQualityMetric', 'QualityMetric', 'Item'], 'aliases': []}], 'file_format': 'bam', 'derived_from': ['/files/ENCFF599TJR/', '/files/ENCFF176IZG/'], 'output_type': 'alignments', '@id': '/files/TSTFF062707/', 'award': {'project': 'ENCODE'}, 'dataset': '/experiments/ENCSR609OHJ/', 'technical_replicates': ['1_1'], 'status': 'uploading', 'biological_replicates': [1], 'file_type': 'bam'}\n",
      "2018-09-26 00:18:58,198:debug:\t\n",
      "IN post().\n"
     ]
    },
    {
     "name": "stdout",
     "output_type": "stream",
     "text": [
      "2018-09-26 00:18:58,201:debug:\t<<<<<< POSTING N/A To DCC with URL https://test.encodedcc.org/samtools_flagstats_quality_metric and this payload:\n",
      "\n",
      "{\n",
      "  \"award\": \"U41HG007000\",\n",
      "  \"diff_chroms\": 0,\n",
      "  \"diff_chroms_qc_failed\": 0,\n",
      "  \"duplicates\": 0,\n",
      "  \"duplicates_qc_failed\": 0,\n",
      "  \"lab\": \"/labs/anshul-kundaje/\",\n",
      "  \"mapped\": 73312840,\n",
      "  \"mapped_pct\": \"100.0%\",\n",
      "  \"mapped_qc_failed\": 0,\n",
      "  \"paired\": 73312840,\n",
      "  \"paired_properly\": 73312840,\n",
      "  \"paired_properly_pct\": \"100.0%\",\n",
      "  \"paired_properly_qc_failed\": 0,\n",
      "  \"paired_qc_failed\": 0,\n",
      "  \"quality_metric_of\": [\n",
      "    \"/files/TSTFF062707/\"\n",
      "  ],\n",
      "  \"read1\": 36656420,\n",
      "  \"read1_qc_failed\": 0,\n",
      "  \"read2\": 36656420,\n",
      "  \"read2_qc_failed\": 0,\n",
      "  \"singletons\": 0,\n",
      "  \"singletons_pct\": \"0.0%\",\n",
      "  \"singletons_qc_failed\": 0,\n",
      "  \"status\": \"released\",\n",
      "  \"step_run\": \"/analysis-step-runs/ce8ed9d4-2de6-41fe-ba64-09033c553ddb/\",\n",
      "  \"total\": 73312840,\n",
      "  \"total_qc_failed\": 0,\n",
      "  \"with_itself\": 73312840,\n",
      "  \"with_itself_qc_failed\": 0\n",
      "}\n",
      "\n",
      "\n",
      "2018-09-26 00:18:58,464:debug:\tSuccess.\n",
      "b'%PDF-1.4\\n%\\x81\\xe2\\x81\\xe3\\x81\\xcf\\x81\\xd3\\\\r\\n1 0 obj\\n<<\\n/CreationDate (D:20180821203949)\\n/ModDate (D:20180821203949)\\n/Title (R Graphics Output)\\n/Producer (R 3.2.3)\\n/Creator (R)\\n>>\\nendobj\\n2 0 obj\\n<< /Type /Catalog /Pages 3 0 R >>\\nendobj\\n7 0 obj\\n<< /Type /Page /Parent 3 0 R /Contents 8 0 R /Resources 4 0 R >>\\nendobj\\n8 0 obj\\n<<\\n/Length 3189 /Filter /FlateDecode\\n>>\\nstream\\nx\\x9c\\xadY\\xddoW\\xc7\\x15|\\xff\\xfd\\x15\\xf7\\x11\\xa4p\\xb3g\\xbf\\xf7!\\x0f\\r\\n\\x95\\x90@\\nX\\xcaC\\x12U\\x08\\x08\\x01\\x81ilW\\x95\\xfa\\xd7wf\\xce\\xb9\\xb6A\\x14\\xc5m\\x1f@\\x1e\\xef\\xdd\\xdd9{\\xbef\\xd7\\xb6=\\xdel{\\xb7\\xfdq\\xfaq\\xfbc\\xabi/y\\xab}Os+V\\xf6\\x95\\xb7\\xbc\\xd2>\\xe7v\\xf1z\\xfbi;?}{\\xf9\\xec\\xaf\\xdfo\\x0f\\x9f\\x9f\\xd2\\x9eR\\xdan\\xff\\xff\\xfc\\xe1S\\xfcv\\xb4\\xed\\x9f\\xa7\\x9f\\x7f\\xdd\\xd2\\xf6\\xead\\xdbc\\xfc{w2~\\xb0=95\\xdbW\\xdbf\\xe2\\xea\\x1fN-\\xef}\\x10\\xb5\\xb4\\xbd?\\xb5\\xb2\\xd7D4\\x1bQ\\xdd\\xadl\\xd3\\xf6\\x9c\\x1d\\xe1\\xb7@C_\\xb6\\xbdM\\xa2\\xd5\\x89\\xfa^l\\x9b9V\\x19{\\xc2\\xbc\\xc2\\xfd\\x84F\\'jZs\\xeeu\\x11-#Z{\\xc6\\xbc\\xba\\xb7\\xe2h\\xd5m\\xb6\\xdd8\\xaf\\'1k>\\xd6m/\\x98\\xd7\\xb92P\\xde-\\x13\\xf5\\xe4\\x88\\xcc\\xb0+\\xb9t\\xec4\\x88\\xba\\xbe\\xac{\\x81E\\x93\\xdf\\x0351\\x9b\\xfb0G8\\xa8\\xb9v\\xd3\\xbc\\xbe\\xd7I4\\xc8\\xb3\\x0f2\\xc3\\xa9\\xe7\\xe1h\\x15\\xa2\\xa5\\xb1\\xb9\\xf7\\xbe-\\xdb\\x9b\\xd6\\\\d\\xb6\\xb2\\xaf2\\xd2nF4\\x02\\xcd\\xba\\xad\\xb2\\x17r\\x19Ff@\\x93k\\x8e\\xbcg\\xcc\\x83\\xed\\x95\\x08\\xa7\\x95\\xb7\\xd5\\xf6\\xdc\\x1d\\x81\\x05\\x90x\\x8e\\xbaW\\xcc\\xc3\\x19O\"|\\x93\\xb65\\xfct\\x81\\xc8L\\xfc\\x80p\"\\x987\\xf7\\xac/\\x07g\\x00M\\xad9\\xc5l\\xed\\xd5\\x1c\\xcd\\xb2YB\\xa8i\\xfb\\xb5\\xb7.\\xa8u\\x10\\x01\\xe0f\\xc9H\\x1f\\xd0\\xf6d\\x80\\xd9?f\\x0cT\\xc0\\xb2g}\\x9cI\\x8fP>\\x85o\\x8dsk,\\xa5\\xf8\\xb5\\xd4b\\xa9J\\x86\\x96\\xfa>x\\x08po\\xe1\\xdc\\xf0\\x16<\\n\\xdf[\\x9a~\\xb4\\x80\"\\xb9\\xe8\\x19\\xc0\\xc1\\x182\\x04\\xb2\\x8f\\xcaL3\\xf3\\x13\\x84\\xe7H\\xd2\\x14\\xd0\\x82\\x03s\\x91>\\x8d\\xd6\\xc3w\\x15\\x06Zu\\x1ap\\x1eIZcV\\t.\\xce\\x1d\\x1e&p_\\x87\\x816\\x99\\x87\\x80E$m\\xb9\\x1b\\xe1\\xb2\\x84\\xb99h\\x00N\\x18\\x98\\xf3\\x9e\\xb8/\\x9cF\\x92\\xb9x<\\xc0k\\x88 \\xcb\\xd5S\\xc3\\xddf\\xb9\\xc7\\xc7C$\\xf3 \\x1b@$\\x07\\xe7\\xc27<I\\xf8\\xca``IL.A\\x92,\\xe6\\xfe\\xa4\\xb3phV\\n\\xbdA\\x8c\\x14\\x81\\x89\\xa5y\\x9c\\xd0]\\xe4Y\\x06s\\xda\\xf1\\xe4\\xfc\\xe5T\\xe80\\x1c\\x9cU\\xd8>\\x84\\xab\\xa8V\\x99\\xe7xa>\\xea\\xd0\\xc8\\xc2\\x8d?XE\\xce6\\xe1.\\xb6\\xa8 \\xcd\\xe7\\xc3\\n\\xccor\\xa9\\xe3\\x05[\\x91\\xf1\\xd3\\xf1\\x14\\xdf\\x1e\\x15\\x84n-\\x98\\x8f,\\xacZ\\xcfT\\x92\\x0c\\xd9\\xe5\\xeb\\x01\\x93/\\xf3\\xc4\\xc7\\x8d\\xa5\\xc0\\x18\\xf1\\xe2\\x07O#Y\\x8c\\x95\\xcc\\x02\\x93/\\x02n8\\xd6\\x0f\\x86\\xa8\\x19\\xfe=\\xd2\\x08\\xf6\\xc2\\xd7\\xdd\\xd7o\\xe2\\x0b\\x87\\xad\\x1ax\\xae-\\xa7\\xe4\\x99e\\x86dB\\xe5\\xc51\\xc8\\xcf\\x8c\\x0e\\xf0\\xcd0\\xc3\\x9c\\xcf\\xa4\\x133\\xb7\\x1d\\x81g\\x02\\xee\\x1e\\xcb\\x8c\\x17\\xf0\\xcd\\xd9\\xc2~\\x04\\x0c\\x0c\\xc9\\xf0}\\xad\\x81\\xd7\\xdc2\\xfc\\xa9\\xb02|\\x08\\xbe\\xb9t\\x8fIFT\\xc5\\xfcZb\\x7f\\x0f\\xa9\\x8c\\xf35\\x0bL\\xbe8_\\xb7\\x071\\xd6m+X_\\xc1d\\xb91]3*\\xa0\\xaad\\x04\\x1dqi\\x81\\x07\\xe7_\\xef7\\xb8Qn\\x91O\\x0cC\\xf2m\\x89\\xf1\\xed\\x18\\x86r<\\xf6_t$\\xf1\\xd2\\xfa\\x88S\\xf2m9\\xe2\\x07\\x86\\x19\\xe7\\x97\\xe0\\xc7\\xc0\\x85\\xbd\\xe8#\\xaa\"V2\\xf9\\xca\\x1e\\xff^eRX|JeA\\'\\x1e#\\xb0\\xf8F%a\\xa07\\x9f\\xafBc8\\xb8\\\\\\x85=^\\x80\\xc5\\xf7z}\\x14\\x99\\xa5\\xfd\\x93\\xec)\\xc8\\xb6,~\\xeaaL\\x0c\\xf1\\xcd^m\\x88\\xa7\\xdb\\xeb\\xfeC[\\xeeI\\xe7\\xd1\\xb4^\\x95\\xe3r]q\\x9e\\x15\\x86c~\\x9d\\xde\\xbf\\x88\\x07\\xec\\xad\\xc3\\xcb\\xa4\\xd1\\x91\\xe0[\\x0f\\xfeH\\xb4\\xcc\\xf9\\xf5X\\xaf\\x92\\x88\\xfc->\\xf8\\x90|\\xb1L\\xf1\\xf1\\xce\\xd2\\x9d\\xb1\\xad\\xf3\\xc3\\xc2\\x06{AK\\x15\\x9d\\x98|A\\xbb\\xfb\\xfc\\xc9\\x85s9\\xf2\\x8fD\\xb3\\xb0\\xaf\\x07C\\xc8\\x17\\xc72f\\xe01\\x84M|\\x19\\x08I\\xf1Xd\\x0f\\x0e\\x86|K\\x8bz\\x00\\xbc\\x9a\\xb0\\xc7\\x03\\x1d\\xcdx\\xae\\xc7x\\x15_`\\xf7\\'\\x1d\\xc1\\xf9G<\\xd3\\x91\\xb0\\x17a\\xe0\\xf1\\x86@\\x14\\xdf\\xccc\"\\x1e\\xac{\\xcc\\x8fX\\x0f\\xf9\\x06{\\x19f+0\\xf9\\xe6\\x15\\xf6A>`\\x80\\xd8\\xe3\\x0f\\x02\\x02\\xc2%3\\x8c-0\\xf9\"\\xcc\\xbd\\xfet\\x15\\x02\\xe6\\xa3\\xfb\\x032\\x02\\x85\\x92\\xd8\\x1c\\x17\\xf1e\\x1aY\\xe0\\xc9\\xf95\\xce\\x1b\\x89\\x04\\t\\x94\\x91\\x86R\\x05,d\\xe4\\x0b,\\xbdd]b%#\\x8dK\\x0f\\x0cQ\\xa0z\\xe0\\xe3\\xc3\\xf9&\\x96\\rb\\x11%\\x8e\\xf9\\x93\\x85)\\xb3\\xed\\xf8~K|\\xed\\xf0\\'\\xc4\\x05\\x1cI\\xec\\xf5\\n\\xf2\\x02\\xdd\\x8b\\xf5g\\xe5\\xc0\\xe4\\x8b\\xb2\\x16X\\x85\\x9a\\xd8\\xeb?DFa\\xbd\\xaa\\x11\\x0f\\x90\\x19\\xe4k\\xa1\\xd4\\x88GS}s~(\\xbc\\x08\\xbc\\x8c2\\xec\\xf1\\x00\\xb1A\\xbe\\xa6\\xb4w\\x8cD\\xccG\\xb76\\xc8\\x0f\\x04\"\\xeb\\xa5\\xd7\\xbb\\xa1\\xc0\\xcbh\\x1b^\\xbf\\xa19\\x108\\x99me\\x06\\x86#Xo=\\xdf)J\\xc1\\x17m\\xca\\xfdM!\\xca\\xf99\\xce\\x07\\xba#\\xb1>[\\xc4+0\\xf8\\x1a\\xdb\\xa4\\xe3\"]\\x82\\xa6\\xea\\xfd\\x11\\xd2\\x03\\xc2\\xc9\\xd0s\\xbd>L)\\x14c\\x87\\xf6\\xef\\x9b\\xa4\\xc9\\x92B!\\x96\\xe0\\xb2U\\xa2\\x1f\\xa1\\x91\\x80/\\xfb\\xc7l\\x81\\xa9N\\xa0,\\xe2\\xfb)\\r\\x05\\xe1\\xd1\\x9d\\xdf\\x92\\x88\\x9aG\\xbe-5*N\\x93\\xc6#\\xa6\\x8c\\x9a-\\xfa9\\x16&_\\xd0\\xf2\\xf8\\xa4\\xa4\\xf4~\\xe6\\xfd\\x06\\x98J\\nf\\xfa\\xfa F\\xbe\\xf3\\xa8G N\\x99\\xc2ct,!\\xcdc\\xaf90\\xf9\\xc2-\\xd9\\xc7\\xbb\\x94\\n\\xdc\\xe6\\xf1\\xc9\\x83\\x81\\xbdp{\\xac?\\xc5w\\x1c\\xf1\\xc0\\x83,\\xea\\xc7\\x9e\\xcf\\x94\\x92\\xb0w\\x84fd\\xe3$\\xdf\\xbe\\\\\\xb1\\x13S\\xaf \\x8c\\xa5G\\xe8(\\xaa*\\xa4A\\x8cg\\xf1e\\xda$\\xe1\"\\xbd\\x82\\xb4R\\xfe\\x11SX1-\\x1dW\\xf1E\\xda&_\\xafI\\xaf \\xed\\xbb\\twi+\\x94\\x05\\xe9\\x0fb\\xf2EYQ\\xfcd\\xe8\\x11\\xe9\\x95\\xe6\\xf6\\xab\\x91\\xc3\\xdeV\\xdc\\x7f\\xc4\\xe4\\xdb\\xa2\\xde2\\x90\\xa9WZ\\xf2\\xfe\\xc8@\\xa7\\xbe\\xaa\\xc7~H\\x04\\xf2E\\xd9U\\xff \\xa6^\\xa9QO\\x988\\xd2W\\xcd\\xd58\\x13+\\xf4\\x95\\xf5\\xc0\\xd2WqW`\"J_Y\\xd8k\\x12Fl;\\xd2\\x8aLl\\xea\\x15\\xd4o\\xe7\\xcbDO7\\xfa.\\xdbp=\\xd8\\xfd\\xce\\xc2\\xc2@}\\x85\\xfa\\x1c\\xf3\\x97\\xf4\\x15\\xeao\\xac\\xbf\\\\\\x0ff\\xcf_\\x16\\x1e\\xea+\\xea\\x11\\xf1E\\xa1\\xa2\\xbeB\\xbd\\xb5\\x03\\x93/\\xeb\\xab\\xe6\\xa3\\xb0Q_\\xe5\\xb8[\\xb1\\xf0Q_\\xe5\\xeez\\x80\\x85\\x92|Q?G\\r<\\x97\\xa4\\xb0\\x9f\\'\\x06z\\x96R\\x96^c\\xe1%\\xdf\\x9c=\\xbfX\\xa8\\x13\\xe7\\xc7%\\x84x&a\\xd5w\\x16v\\xf2\\x85\\x19\\xcb\\xb1\\x84)q\\xf0[\\xd4W\\x94m\\xaa\\x7fl\\x1c#D\\xbe\\xf6\\x83\\xa1\\xb5\\xe8\\x0e\\x10\\xe3\\xba\\xc2I\\x16\\xf6\\xc0\\xe4\\x0b\\xb7x\\xbc\\xe1\\xe0\\xba\\xe9F\\xe1\\xf1S$d(;=\\x9e\\xfd\\xa0)S\\xfb\\x0c<\\x96\\xae+\\xaa\\xd7l\\xa4-\\xeb6\\xe3\\xf9RT\\x88\\x88c\\xbdA\\xbdB\\x99\\xec\\xfe\\x84\\xa3G\\xd2\\xdd\\xa8\\xfa\\xfc%\\xbe\\xa9G\\xbc 0\\xcc\\xafR~\\xfeU\\x81J\\x99\\xaezF\\xa1@\\xbe)\\xf4\\x85\\x84D\\xd1=M\\xf5\\x85B#ua\\xcf7`\\xf2EZ\\xc6\\xf7\\x95\\x8d\\x98\\xd7\\x8a\\xee\\xdf7\\xea+\\xdd\\x11G`\\xf1M\\x91o\\x08|\\xe8\\x15T\\x057\\x1fy\\x81\\xba\\xb3\\xa2\\x1bK\\x16\\xe9jZr@\\x9c\\nJN|\\xbc\\xb8\\xc9\\x1a~\\xbd\\xa7\\xc6\\x02\\xd5ud.\\x94H\\xd2ux\\x1e\\x10\\x1dc\\x1d~j\\x12\\x0c,\\xdb>\\xaak\\xe9:\\xbc\\xe6\\xf2\\x0e\\xb5RE\\x90\\xea\\xaf\\xeb\\xb6\\xae\\x1eCqXu]WK\\xa7\\x16\\xc6Y\\xacP\\x1c\\x92\\xc6\\x83\\xd0\\x03\\x06\\x82\\x04\\'\\xb3\\x92\\xf7\\x03\\no\\xd8\\xb2\\xe2\\xba\\x90Q\\x87\\x92^\\x13\\x82\\xf3\\xe2\\x16(\\xfe\\xce\\xb9\\xeb\\x85\\x05\\xd07B\\x11\\x03Iv\\x90\\x15p\\xe9\\x05C\\xca8\\xa3\\xe4\\xe1Xx\\xfbU\"@x`\\x16\\xef\\xc6\\xb2\\xa8\\xfb\\xb3\\xcc\\x91V\\x80\\xe8\\x1f\\xf3\\xa8j(\\xa7 \\xc9k\\xb6\\x0e\\xa7\\xfb\\xcbL\\xa5\\xeb\\x08\\x07\\x93c\\x16\\x7f\\xe4 $\\xc9#\\xa2\\xbb?\\xce\\xe4HHTrt\\xda\\x19\\xfa\\x85p\\xe9\\x01\\xc8\\xd3{\\xf8\\xfb\\x8cE\\xb5\\x84\\xda\\xf0\\xa7#]\\xa62\\xbbD\\xb9~W\"\\x9c\\xfe\\xe8\\xa4\\xa3cO\\x99\\x1b\\x1f\\x1dD\\x03-\\x07$\\xc7\\n\\x03\\x87^iF\\xf4mB\\x04<`,\\xa5\\xa8\\x18\\xf1\\xe2\\x91\\x87\\x1ej\\xc6\\x11H\\xfc}%t{\\x87.G\\x982}\\xae\\xdej\\xb8\\x82 \\xf8 uF<*e\\x7f\\xf7\\xc2v\\xee\\xdf\\xa9\\xe7\\x9aq\\x1c,\\xcf!m\\xa0\\xea\\xd5\\x82\\xcf[\\x85\\xb0\\xd7\\x808R@\\xaf\\xf58p\\x88 \\x98\\xb9\\x1c6\\x91<*\\xef\\xd4\\x95\\x05\\xd0\\xe3\\x8a\\xefX00\\xee\\x91\\x99a\\xb0\\x08\\xbd\\xacL\\xbd\\xdb\\x8c\\xec\\xb7\\x18B\\x94Cj;7a\\x89d\\xdc\\t\\xf8L\\x08\\xb6\\x80n>B\\x17\\x12i\\x1c\\x15\\x88\\x81\\xdd\\x08=\\xc1\\x97\\x1enF\\xe8\\xcd\\x8c\\x1c\\x81>\\xeaGy\\x02\\xc4\\x0f\\x14\\x9d\\xfe\\xb1dQ_\\xc7Fze\\xe8+L@\\xaa\\xe2\\x07\\xc4\\xcf\\xcc\\x01!5\\xf8N\\xe64\\x06\\x95\\x11\\x85\\x80\\xaf<I\\xb2\\x1fuy\\xe9\\xe1\\x86\\xa1x@\\xf8\\xbdG\\xd5+(/\\xf8\\x01P\\x97\\xaa\\x92\\xf4p\\x83\\xa8V\\x98\\x11b\\x91\\x1eW\\xee\\x82\\xdaE\\x92\\xf1RV\\x92\\x1en\\x00\\xb3\\xc3\\xcaE\\x90 +\\x05$\\xc9\\xe6r\\xa7$=\\xdc\\xf4\\xe6\\x19Z\\x92f\\xf5\\xe6\\x97\\x87\\x82*L\\x92\\xd5}D\\x08mA\\xe8KMJ\\xa1\\x1eoy\\x05%\\x9d$\\xab\\xbb\\x8cpi\\xae\\xde)\\n\\x1a\\x02\\x8e\\xa5\\x177\\xbfPO\\x0fBU\\xe5b\\xba>\\xf7\\x10\\xbd\\x848\\xd2^\\xbc\\xa7\\x17\\x17\\xe7=\"\\xa7\\x98\\x9elz\\xf6c/h]\\xa8E=^\\xc0\\x08I2\\x02\\xa9\\x98\\xdek(\\xa7\\xfc\\xe3\\xc1t\\x03t\\x03\\xd9&\\x8dP\\xcd\\xb3\\x98\\x1ekz\\xf4\\xde\\xc2KH\\'T\\x96\\x15H\\x05\\x924\\xaf\\x0c\\x84P\\x12\\xaci\\xda7\\xeb\\x05\\xa1\\xabh\\x13f\\x91\\x8cg\\x04B\\xf4\\xeb\\x1eAX\\xd8\\xfe3a\\xf5\\x8f\\xabH&o\\x13%\\xeb\\x8d\\x867\\xb9\\x19\\x10\\x07\\x0e\\xe8\\xc1\\x90\\xe5w\\xc0\\xe4\\x1f\\xeb\\x81\\x86\\x85W\\x16A\\x1f\\xa0\\x05\\xb4\\x90\\xa3\\xc5_\\xd5\\xda\\xf2zU\\xb2~\\xdf\\x96\\x07\\x7f\\x818\\x80\\xd8a\\r? H\\xa2\\xc2KZ\\x94\\xa2\\xa7\\x19\\xbfp\\x12J\\x92\\xb6\\x08\\xef\\x02a\\x00\\x92\\x84)\\xe0\\xd4\\\\E{)\\xd2\\xd3-\\x1a_\\xe1\\xf3\\\\#t\\x0f\\x16=\\xca\\xf0j[\\x02\"\\xaf\\xd1h\\xa6\\x8f\\x0e\\x91\\x1cqtE/2\\x80\\xfd\\x80(/m\\x84\\x81E\\x86\\xf3\\xd6\\xac\\xd1\\xaa{\\x19\\xa1F\\xa1\\x06\\xd0.\\x01\\xdd^@\\x92\\x8cW\\xe4R\\xf5\\x16\\xd3\\xa2\\xe3<\\xe7\\x9f!\\xfe\\x1f\\x7fe\\xf0\\xbfa|\\xd8b}\\x87\\xef\\xb7\\xe7\\x9f\\r\\x07r\\xa7c4\\x9e\\xb2\\x8e\\xe1\\x03\\xde\\x8c\\xfbU\\xe5z<\\xe0\\xf5x\\xb4\\xaac\\xfc\\x80\\xd7\\xe3\\x9f\\xd0\\xb9aw=\\xfe\\xfdY\\x18\\xff\\xf2\\xf2\\x0b\\xc6_\\xbe<?}\\xfb\\x08Jn;\\xfbms{o\\xfes\\xcc\\xa7\\xa2\\xb5\\xf1\\x01,mg\\x1f\\xb6{\\x0fZJ\\xf7\\xb7\\xb3w\\xa7\\x1f\\xce\\xb4\\xf8\\xd7gK\\xf2\\x96[\\xd3\\xef2w\\xea\\xd5\\xe0f\\xee\\x9dv\\xa6\\xa6\\xf9dg\\xa8\\xbb;Lg\\x9e\\xd4\\xdbv\\xdb\\xad\\xdd\\xfdx\\xa95:\\xce\\xdc\\x91Z\\x81\\xe9\\xcc?\\x1dF\\xd2\\xb4\\x1e\\xe8f\\x94w\\x0b$\\xc01\\x1c\\xf0\\xd68\\x15K\\xbd\\x19wx3\\xce+\\x19d\\xd71\\x1e\\xf0\\xd68\\xef\\x86\\xf9f\\xdc\\xe1\\xadq\\xa7{=~\\xc3\\xfe\\xf6\\xd9\\xdc:\\x90\\x07\\xb7\\xce\\xa9\\xe8\\xb9\\x9a\\xca\\xa7\\xb8S\\xd1m\\xbft\\xb4_\\x9d\\xceGi\\\\\"b~\\xbb\\xfb|\\x96C\\x8b\\xf9\\xe5\\xee\\xfb\\xf3\\xd2\\xde\\xd21\\xff\\xee\\xfb\\xf3\\xd2\\x80\\x08\\xf1\\xf9\\xf5\\xbf\\xd8\\x9f\\nz\\x1e\\xf3\\xdb\\xa7\\xb1\\x15\\xf9|*Mr7\\xaa\\xcd\\x01Y[uQ\\xf7\\x8f?\\x83\\xc7\\xc7^\\xfa\\xfe\\xe7\\x02\\x10\\x8f\\x85\\xfc\\x13\\x80\\xd8\\xfe|\\xef\\xf2\\xea\\xe2>\\x06\\xb7{/\\xce_=\\xb8\\xfc\\xfd\\xedoW\\xdb/\\xf7\\xd2/\\xf7\\xef\\xff\\xba\\x9d=\\xfe\\x93g\\x90\\xfd\\xc5\\x08W\\x9a\\xe21\\xf0\\xf2\\xe2\\xe3\\xe5\\xe5\\x83\\x97\\x1f/.^\\xbf\\x7fq\\xf5\\xf6\\xe3\\xf9q w\\xfb3\\xb2}\\xb5\\xc0o\\xfa\\x03\\x0c\\xf5\\xed\\x97K\\xfd\\x97\\xab\\xf5q\\xbe\\xdb\\xa7\\xfd\\xc3\\xae\\x97\\x8f\\xbf\\x07\\\\Osxk\\xda\\x9fuD\\tG\\xe4\\xcf\\x1c\\x91\\xbd\\x1e\\xf2\\xc8J\\xd5[\\x84\\x1c\\xf1\\xc3\\xd3\\x87\\x8f\\x1e\\xb5\\xb5\\xce\\x1e?\\xdb?\\xbc\\xa6S\\xdav\\xef\\xcd}\\x1e\\xf4v\\xef\\xf5\\xab\\xfd\\xfc\\xe3\\xab\\x7f\\xfc}\\xbf:o\\xf8\\xe9o/\\xddg\\xbf_<\\xd9\\x9fA\\xde\\xb4\\'\\xfb\\xd5\\x0b\\xff\\xd5\\x9b\\xbf\\xbc\\x7f\\xfb\\xe6|\\x7f\\xf3\\xaf/:\\xf0?\\x15v\\xf5\\xe4\\xc9{7\\xdd\\xf7\\xf4\\xf9\\xc3\\xefx1J\\xf5\\x9bg\\xf8\\x91r\\xaa\\xcco~\\xbcz\\xf1\\xe6;\\xbb\\xf6\\xe4\\xe9\\xdf\\x04\\xd0QCendstream\\nendobj\\n3 0 obj\\n<< /Type /Pages /Kids [ 7 0 R ] /Count 1 /MediaBox [0 0 360 360] >>\\nendobj\\n4 0 obj\\n<<\\n/ProcSet [/PDF /Text]\\n/Font <</F2 10 0 R /F3 11 0 R >>\\n/ExtGState << >>\\n/ColorSpace << /sRGB 5 0 R >>\\n>>\\nendobj\\n5 0 obj\\n[/ICCBased 6 0 R]\\nendobj\\n6 0 obj\\n<< /Alternate /DeviceRGB /N 3 /Length 2596 /Filter /FlateDecode >>\\nstream\\nx\\x9c\\x9d\\x96wTS\\xd9\\x16\\x87\\xcf\\xbd7\\xbdP\\x92\\x10\\x8a\\x94\\xd0khR\\x02H\\r\\xbdH\\x91.*1\\t\\x10J\\xc0\\x90\\x00\"6DTpDQ\\x91\\xa6\\x082(\\xe0\\x80\\xa3C\\x91\\xb1\"\\x8a\\x85\\x01Q\\xb1\\xeb\\x04\\x19D\\xd4qp\\x14\\x1b\\x96Id\\xad\\x19\\xdf\\xbcy\\xef\\xcd\\x9b\\xdf\\x1f\\xf7~k\\x9f\\xbd\\xcf\\xddg\\xef}\\xd6\\xba\\x00\\x90\\xfc\\x83\\x05\\xc2LX\\t\\x80\\x0c\\xa1X\\x14\\xe1\\xe7\\xc5\\x88\\x8d\\x8bg`\\x07\\x01\\x0c\\xf0\\x00\\x03l\\x00\\xe0p\\xb3\\xb3B\\x16\\xf8F\\x02\\x99\\x02|\\xd8\\x8cl\\x99\\x13\\xf8\\x17\\xbd\\xba\\x0e \\xf9\\xfb*\\xd3?\\x8c\\xc1\\x00\\xff\\x9f\\x94\\xb9Y\"1\\x00P\\x98\\x8c\\xe7\\xf2\\xf8\\xd9\\\\\\x19\\x17\\xc98=W\\x9c%\\xb7O\\xc9\\x98\\xb64M\\xce0J\\xce\"Y\\x822V\\x93s\\xf2,[|\\xf6\\x99e\\x0f9\\xf32\\x84<\\x19\\xcbs\\xce\\xe2e\\xf0\\xe4\\xdc\\'\\xe3\\x8d9\\x12\\xbe\\x8c\\x91`\\x19\\x17\\xe7\\x08\\xf8\\xb92\\xbe&c\\x83tI\\x86@\\xc6o\\xe4\\xb1\\x19|N6\\x00(\\x92\\xdc.\\xe6sSdl-c\\x92(2\\x82-\\xe3y\\x00\\xe0H\\xc9_\\xf0\\xd2/X\\xcc\\xcf\\x13\\xcb\\x0f\\xc5\\xce\\xccZ.\\x12$\\xa7\\x88\\x19&\\\\S\\x86\\x8d\\x93\\x13\\x8b\\xe1\\xcf\\xcfM\\xe7\\x8b\\xc5\\xcc0\\x0e7\\x8d#\\xe21\\xd8\\x99\\x19Y\\x1c\\xe1r\\x00f\\xcf\\xfcY\\x14ym\\x19\\xb2\";\\xd88980m-m\\xbe(\\xd4\\x7f]\\xfc\\x9b\\x92\\xf7v\\x96^\\x84\\x7f\\xee\\x19D\\x1f\\xf8\\xc3\\xf6W~\\x99\\r\\x00\\xb0\\xa6e\\xb5\\xd9\\xfa\\x87mi\\x15\\x00]\\xeb\\x01P\\xbb\\xfd\\x87\\xcd`/\\x00\\x8a\\xb2\\xbeu\\x0e}q\\x1e\\xba|^R\\xc4\\xe2,g+\\xab\\xdc\\xdc\\\\K\\x01\\x9fk)/\\xe8\\xef\\xfa\\x9f\\x0e\\x7fC_|\\xcfR\\xbe\\xdd\\xef\\xe5ax\\xf3\\x938\\x92t1C^7nfz\\xa6D\\xc4\\xc8\\xce\\xe2p\\xf9\\x0c\\xe6\\x9f\\x87\\xf8\\x1f\\x07\\xfeu\\x1e\\x16\\x11\\xfc$\\xbe\\x88/\\x94ED\\xcb\\xa6L L\\x96\\xb5[\\xc8\\x13\\x88\\x05\\x99B\\x86@\\xf8\\x9f\\x9a\\xf8\\x0f\\xc3\\xfe\\xa4\\xd9\\xb9\\x96\\x89\\xda\\xf8\\x11\\xd0\\x96X\\x02\\xa5!\\x1a@~\\x1e\\x00(*\\x11 \\t{d+\\xd0\\xef}\\x0b\\xc6G\\x03\\xf9\\xcd\\x8b\\xd1\\x99\\x98\\x9d\\xfb\\xcf\\x82\\xfe}W\\xb8L\\xfe\\xc8\\x16$\\x7f\\x8ecGD2\\xb8\\x12Q\\xce\\xec\\x9a\\xfcZ\\x024 \\x00E@\\x03\\xea@\\x1b\\xe8\\x03\\x13\\xc0\\x04\\xb6\\xc0\\x11\\xb8\\x00\\x0f\\xe0\\x03\\x02A(\\x88\\x04q`1\\xe0\\x82\\x14\\x90\\x01D \\x17\\x14\\x80\\xb5\\xa0\\x18\\x94\\x82\\xad`\\'\\xa8\\x06u\\xa0\\x114\\x836p\\x18t\\x81c\\xe048\\x07.\\x81\\xcb`\\x04\\xdc\\x01R0\\x0e\\x9e\\x80)\\xf0\\n\\xcc@\\x10\\x84\\x85\\xc8\\x10\\x15R\\x87t C\\xc8\\x1c\\xb2\\x85X\\x90\\x1b\\xe4\\x03\\x05C\\x11P\\x1c\\x94\\x08%CBH\\x02\\x15@\\xeb\\xa0R\\xa8\\x1c\\xaa\\x86\\xea\\xa1f\\xe8[\\xe8(t\\x1a\\xba\\x00\\rC\\xb7\\xa0Qh\\x12\\xfa\\x15z\\x07#0\\t\\xa6\\xc1Z\\xb0\\x11l\\x05\\xb3`O8\\x08\\x8e\\x84\\x17\\xc1\\xc9\\xf028\\x1f.\\x82\\xb7\\xc0\\x95p\\x03|\\x10\\xee\\x84O\\xc3\\x97\\xe0\\x11X\\n?\\x81\\xa7\\x11\\x80\\x10\\x11:\\xa2\\x8b0\\x11\\x16\\xc2FB\\x91x$\\t\\x11!\\xab\\x90\\x12\\xa4\\x02i@\\xda\\x90\\x1e\\xa4\\x1f\\xb9\\x8aH\\x91\\xa7\\xc8[\\x14\\x06EE1PL\\x94\\x0b\\xca\\x1f\\x15\\x85\\xe2\\xa2\\x96\\xa1V\\xa16\\xa3\\xaaQ\\x07P\\x9d\\xa8>\\xd4U\\xd4(j\\n\\xf5\\x11MFk\\xa2\\xcd\\xd1\\xce\\xe8\\x00t,:\\x19\\x9d\\x8b.FW\\xa0\\x9b\\xd0\\x1d\\xe8\\xb3\\xe8\\x11\\xf48\\xfa\\x15\\x06\\x83\\xa1c\\x8c1\\x8e\\x18\\x7fL\\x1c&\\x15\\xb3\\x02\\xb3\\x19\\xb3\\x1b\\xd3\\x8e9\\x85\\x19\\xc6\\x8ca\\xa6\\xb1X\\xac:\\xd6\\x1c\\xeb\\x8a\\r\\xc5r\\xb0bl1\\xb6\\n{\\x10{\\x12{\\x05;\\x8e}\\x83#\\xe2tp\\xb68_\\\\<N\\x88+\\xc4U\\xe0Zp\\'pWp\\x13\\xb8\\x19\\xbc\\x12\\xde\\x10\\xef\\x8c\\x0f\\xc5\\xf3\\xf0\\xcb\\xf1e\\xf8F|\\x0f~\\x08?\\x8e\\x9f!(\\x13\\x8c\\t\\xae\\x84HB*a-\\xa1\\x92\\xd0F8K\\xb8KxA$\\x12\\xf5\\x88N\\xc4p\\xa2\\x80\\xb8\\x86XI<D<O\\x1c%\\xbe%QHf$6)\\x81$!m!\\xed\\'\\x9d\"\\xdd\"\\xbd \\x93\\xc9Fd\\x0fr<YL\\xdeBn&\\x9f!\\xdf\\'\\xbfQ\\xa0*X*\\x04(\\xf0\\x14V+\\xd4(t*\\\\Qx\\xa6\\x88W4T\\xf4T\\\\\\xac\\x98\\xafX\\xa1xDqH\\xf1\\xa9\\x12^\\xc9H\\x89\\xad\\xc4QZ\\xa5T\\xa3tT\\xe9\\x86\\xd2\\xb42U\\xd9F9T9Cy\\xb3r\\x8b\\xf2\\x05\\xe5G\\x14,\\xc5\\x88\\xe2C\\xe1Q\\x8a(\\xfb(g(cT\\x84\\xaaOeS\\xb9\\xd4u\\xd4F\\xeaY\\xea8\\rC3\\xa6\\x05\\xd0Ri\\xa5\\xb4oh\\x83\\xb4)\\x15\\x8a\\x8a\\x9dJ\\xb4J\\x9eJ\\x8d\\xcaq\\x15)\\x1d\\xa1\\x1b\\xd1\\x03\\xe8\\xe9\\xf42\\xfaa\\xfau\\xfa;U-UOU\\xbe\\xea&\\xd56\\xd5+\\xaa\\xaf\\xd5\\xe6\\xa8y\\xa8\\xf1\\xd5J\\xd4\\xda\\xd5F\\xd4\\xde\\xa93\\xd4}\\xd4\\xd3\\xd4\\xb7\\xa9w\\xa9\\xdf\\xd3@i\\x98i\\x84k\\xe4j\\xec\\xd18\\xab\\xf1t\\x0em\\x8e\\xcb\\x1c\\xee\\x9c\\x929\\x87\\xe7\\xdc\\xd6\\x845\\xcd4#4Wh\\xee\\xd3\\x1c\\xd0\\x9c\\xd6\\xd2\\xd6\\xf2\\xd3\\xca\\xd2\\xaa\\xd2:\\xa3\\xf5T\\x9b\\xae\\xed\\xa1\\x9d\\xaa\\xbdC\\xfb\\x84\\xf6\\xa4\\x0eU\\xc7MG\\xa0\\xb3C\\xe7\\xa4\\xcec\\x86\\n\\xc3\\x93\\x91\\xce\\xa8d\\xf41\\xa6t5u\\xfdu%\\xba\\xf5\\xba\\x83\\xba3z\\xc6zQz\\x85z\\xedz\\xf7\\xf4\\t\\xfa,\\xfd$\\xfd\\x1d\\xfa\\xbd\\xfaS\\x06:\\x06!\\x06\\x05\\x06\\xad\\x06\\xb7\\r\\xf1\\x86,\\xc3\\x14\\xc3]\\x86\\xfd\\x86\\xaf\\x8d\\x8c\\x8db\\x8c6\\x18u\\x19=2V3\\x0e0\\xce7n5\\xbekB6q7Yf\\xd2`r\\xcd\\x14c\\xca2M3\\xddmz\\xd9\\x0c6\\xb37K1\\xab1\\x1b2\\x87\\xcd\\x1d\\xcc\\x05\\xe6\\xbb\\xcd\\x87-\\xd0\\x16N\\x16B\\x8b\\x06\\x8b\\x1bL\\x12\\xd3\\x93\\x99\\xc3le\\x8eZ\\xd2-\\x83-\\x0b-\\xbb,\\x9fY\\x19X\\xc5[m\\xb3\\xea\\xb7\\xfahmo\\x9dn\\xddh}\\xc7\\x86b\\x13hSh\\xd3c\\xf3\\xab\\xad\\x99-\\xd7\\xb6\\xc6\\xf6\\xda\\\\\\xf2\\\\\\xdf\\xb9\\xab\\xe7v\\xcf}ngn\\xc7\\xb7\\xdbcw\\xd3\\x9ej\\x1fb\\xbf\\xc1\\xbe\\xd7\\xfe\\x83\\x83\\xa3\\x83\\xc8\\xa1\\xcda\\xd2\\xd1\\xc01\\xd1\\xb1\\xd6\\xf1\\x06\\x8b\\xc6\\ncmf\\x9dwB;y9\\xadv:\\xe6\\xf4\\xd6\\xd9\\xc1Y\\xec|\\xd8\\xf9\\x17\\x17\\xa6K\\x9aK\\x8b\\xcb\\xa3y\\xc6\\xf3\\xf8\\xf3\\x1a\\xe7\\x8d\\xb9\\xea\\xb9r\\\\\\xeb]\\xa5n\\x0c\\xb7D\\xb7\\xbdnRw]w\\x8e{\\x83\\xfb\\x03\\x0f}\\x0f\\x9eG\\x93\\xc7\\x84\\xa7\\xa9g\\xaa\\xe7A\\xcfg^\\xd6^\"\\xaf\\x0e\\xaf\\xd7lg\\xf6J\\xf6)o\\xc4\\xdb\\xcf\\xbb\\xc4{\\xd0\\x87\\xe2\\x13\\xe5S\\xeds\\xdfW\\xcf7\\xd9\\xb7\\xd5w\\xca\\xcf\\xdeo\\x85\\xdf)\\x7f\\xb4\\x7f\\x90\\xff6\\xff\\x1b\\x01Z\\x01\\xdc\\x80\\xe6\\x80\\xa9@\\xc7\\xc0\\x95\\x81}A\\xa4\\xa0\\x05A\\xd5A\\x0f\\x82\\xcd\\x82E\\xc1=!pH`\\xc8\\xf6\\x90\\xbb\\xf3\\r\\xe7\\x0b\\xe7w\\x85\\x82\\xd0\\x80\\xd0\\xed\\xa1\\xf7\\xc2\\x8c\\xc3\\x96\\x85}\\x1f\\x8e\\t\\x0f\\x0b\\xaf\\t\\x7f\\x18a\\x13Q\\x10\\xd1\\xbf\\x80\\xba`\\xc9\\x82\\x96\\x05\\xaf\"\\xbd\"\\xcb\"\\xefD\\x99DI\\xa2z\\xa3\\x15\\xa3\\x13\\xa2\\x9b\\xa3_\\xc7x\\xc7\\x94\\xc7Hc\\xadbW\\xc6^\\x8a\\xd3\\x88\\x13\\xc4u\\xc7c\\xe3\\xa3\\xe3\\x9b\\xe2\\xa7\\x17\\xfa,\\xdc\\xb9p<\\xc1>\\xa18\\xe1\\xfa\"\\xe3Ey\\x8b.,\\xd6X\\x9c\\xbe\\xf8\\xf8\\x12\\xc5%\\x9c%G\\x12\\xd1\\x891\\x89-\\x89\\xef9\\xa1\\x9c\\x06\\xce\\xf4\\xd2\\x80\\xa5\\xb5K\\xa7\\xb8l\\xee.\\xee\\x13\\x9e\\x07o\\x07o\\x92\\xef\\xca/\\xe7O$\\xb9&\\x95\\'=JvM\\xde\\x9e<\\x99\\xe2\\x9eR\\x91\\xf2T\\xc0\\x16T\\x0b\\x9e\\xa7\\xfa\\xa7\\xd6\\xa5\\xbeN\\x0bM\\xdb\\x9f\\xf6)=&\\xbd=\\x03\\x97\\x91\\x98qTH\\x11\\xa6\\t\\xfb2\\xb53\\xf32\\x87\\xb3\\xcc\\xb3\\x8a\\xb3\\xa4\\xcb\\x9c\\x97\\xed\\\\6%\\n\\x125eC\\xd9\\x8b\\xb2\\xbb\\xc54\\xd9\\xcf\\xd4\\x80\\xc4D\\xb2^2\\x9a\\xe3\\x96S\\x93\\xf3&7:\\xf7H\\x9er\\x9e0o`\\xb9\\xd9\\xf2M\\xcb\\'\\xf2}\\xf3\\xbf^\\x81Z\\xc1]\\xd1[\\xa0[\\xb0\\xb6`t\\xa5\\xe7\\xca\\xfaU\\xd0\\xaa\\xa5\\xabzW\\xeb\\xaf.Z=\\xbe\\xc6o\\xcd\\x81\\xb5\\x84\\xb5ik\\x7f(\\xb4.,/|\\xb9.f]O\\x91V\\xd1\\x9a\\xa2\\xb1\\xf5~\\xeb[\\x8b\\x15\\x8aE\\xc576\\xb8l\\xa8\\xdb\\x88\\xda(\\xd88\\xb8i\\xee\\xa6\\xaaM\\x1fKx%\\x17K\\xadK+J\\xdfo\\xe6n\\xbe\\xf8\\x95\\xcdW\\x95_}\\xda\\x92\\xb4e\\xb0\\xcc\\xa1l\\xcfV\\xccV\\xe1\\xd6\\xeb\\xdb\\xdc\\xb7\\x1d(W.\\xcf/\\x1f\\xdb\\x1e\\xb2\\xbds\\x07cG\\xc9\\x8e\\x97;\\x97\\xec\\xbcPaWQ\\xb7\\x8b\\xb0K\\xb2KZ\\x19\\\\\\xd9]eP\\xb5\\xb5\\xea}uJ\\xf5H\\x8dWM{\\xadf\\xed\\xa6\\xda\\xd7\\xbby\\xbb\\xaf\\xec\\xf1\\xd8\\xd3V\\xa7UWZ\\xf7n\\xaf`\\xef\\xcdz\\xbf\\xfa\\xce\\x06\\xa3\\x86\\x8a}\\x98}9\\xfb\\x1e6F7\\xf6\\x7f\\xcd\\xfa\\xba\\xb9I\\xa3\\xa9\\xb4\\xe9\\xc3~\\xe1~\\xe9\\x81\\x88\\x03}\\xcd\\x8e\\xcd\\xcd-\\x9a-e\\xadp\\xab\\xa4u\\xf2`\\xc2\\xc1\\xcb\\xdfx\\x7f\\xd3\\xdd\\xc6l\\xabo\\xa7\\xb7\\x97\\x1e\\x02\\x87$\\x87\\x1e\\x7f\\x9b\\xf8\\xed\\xf5\\xc3A\\x87{\\x8f\\xb0\\x8e\\xb4}g\\xf8]m\\x07\\xb5\\xa3\\xa4\\x13\\xea\\\\\\xde9\\xd5\\x95\\xd2%\\xed\\x8e\\xeb\\x1e>\\x1ax\\xb4\\xb7\\xc7\\xa5\\xa7\\xe3{\\xcb\\xef\\xf7\\x1f\\xd3=Vs\\\\\\xe5x\\xd9\\t\\xc2\\x89\\xa2\\x13\\x9fN\\xe6\\x9f\\x9c>\\x95u\\xea\\xe9\\xe9\\xe4\\xd3c\\xbdKz\\xef\\x9c\\x89=s\\xad/\\xbco\\xf0l\\xd0\\xd9\\xf3\\xe7|\\xcf\\x9d\\xe9\\xf7\\xec?y\\xde\\xf5\\xfc\\xb1\\x0b\\xce\\x17\\x8e^d]\\xec\\xba\\xe4p\\xa9s\\xc0~\\xa0\\xe3\\x07\\xfb\\x1f:\\x06\\x1d\\x06;\\x87\\x1c\\x87\\xba/;]\\xee\\x19\\x9e7|\\xe2\\x8a\\xfb\\x95\\xd3W\\xbd\\xaf\\x9e\\xbb\\x16p\\xed\\xd2\\xc8\\xfc\\x91\\xe1\\xebQ\\xd7o\\xdeH\\xb8!\\xbd\\xc9\\xbb\\xf9\\xe8V\\xfa\\xad\\xe7\\xb7sn\\xcf\\xdcYs\\x17}\\xb7\\xe4\\x9e\\xd2\\xbd\\x8a\\xfb\\x9a\\xf7\\x1b~4\\xfd\\xb1]\\xea =>\\xea=:\\xf0`\\xc1\\x83;c\\xdc\\xb1\\'?e\\xff\\xf4~\\xbc\\xe8!\\xf9a\\xc5\\x84\\xceD\\xf3#\\xdbG\\xc7&}\\'/?^\\xf8x\\xfcI\\xd6\\x93\\x99\\xa7\\xc5?+\\xff\\\\\\xfb\\xcc\\xe4\\xd9w\\xbfx\\xfc20\\x15;5\\xfe\\\\\\xf4\\xfc\\xd3\\xaf\\x9b_\\xa8\\xbf\\xd8\\xff\\xd2\\xeee\\xeft\\xd8\\xf4\\xfdW\\x19\\xaff^\\x97\\xbcQ\\x7fs\\xe0-\\xebm\\xff\\xbb\\x98w\\x133\\xb9\\xef\\xb1\\xef+?\\x98~\\xe8\\xf9\\x18\\xf4\\xf1\\xee\\xa7\\x8cO\\x9f~\\x03\\xf7\\x84\\xf3\\xfbendstream\\nendobj\\n9 0 obj\\n<<\\n/Type /Encoding /BaseEncoding /WinAnsiEncoding\\n/Differences [ 45/minus 96/quoteleft\\n144/dotlessi /grave /acute /circumflex /tilde /macron /breve /dotaccent\\n/dieresis /.notdef /ring /cedilla /.notdef /hungarumlaut /ogonek /caron /space]\\n>>\\nendobj\\n10 0 obj\\n<< /Type /Font /Subtype /Type1 /Name /F2 /BaseFont /Helvetica\\n/Encoding 9 0 R >>\\nendobj\\n11 0 obj\\n<< /Type /Font /Subtype /Type1 /Name /F3 /BaseFont /Helvetica-Bold\\n/Encoding 9 0 R >>\\nendobj\\nxref\\n0 12\\n0000000000 65535 f \\n0000000021 00000 n \\n0000000163 00000 n \\n0000003553 00000 n \\n0000003636 00000 n \\n0000003759 00000 n \\n0000003792 00000 n \\n0000000212 00000 n \\n0000000292 00000 n \\n0000006487 00000 n \\n0000006744 00000 n \\n0000006841 00000 n \\ntrailer\\n<< /Size 12 /Info 1 0 R /Root 2 0 R >>\\nstartxref\\n6943\\n%%EOF\\n'\n",
      "2018-09-26 00:18:58,819:debug:\t\n",
      "IN post().\n"
     ]
    },
    {
     "name": "stdout",
     "output_type": "stream",
     "text": [
      "2018-09-26 00:18:58,822:debug:\t<<<<<< POSTING N/A To DCC with URL https://test.encodedcc.org/complexity_xcorr_quality_metric and this payload:\n",
      "\n",
      "{\n",
      "  \"NRF\": 0.792035,\n",
      "  \"NSC\": 2.850403,\n",
      "  \"PBC1\": 0.833545,\n",
      "  \"PBC2\": 6.324828,\n",
      "  \"RSC\": 1.363795,\n",
      "  \"award\": \"U41HG007000\",\n",
      "  \"cross_correlation_plot\": {\n",
      "    \"download\": \"ENCFF599TJR.merged.nodup.tn5.no_chrM.R1.25M.cc.plot.pdf\",\n",
      "    \"href\": \"data:application/pdf;charset=,b'%PDF-1.4\\\\n%\\\\x81\\\\xe2\\\\x81\\\\xe3\\\\x81\\\\xcf\\\\x81\\\\xd3\\\\\\\\r\\\\n1 0 obj\\\\n<<\\\\n/CreationDate (D:20180821203949)\\\\n/ModDate (D:20180821203949)\\\\n/Title (R Graphics Output)\\\\n/Producer (R 3.2.3)\\\\n/Creator (R)\\\\n>>\\\\nendobj\\\\n2 0 obj\\\\n<< /Type /Catalog /Pages 3 0 R >>\\\\nendobj\\\\n7 0 obj\\\\n<< /Type /Page /Parent 3 0 R /Contents 8 0 R /Resources 4 0 R >>\\\\nendobj\\\\n8 0 obj\\\\n<<\\\\n/Length 3189 /Filter /FlateDecode\\\\n>>\\\\nstream\\\\nx\\\\x9c\\\\xadY\\\\xddoW\\\\xc7\\\\x15|\\\\xff\\\\xfd\\\\x15\\\\xf7\\\\x11\\\\xa4p\\\\xb3g\\\\xbf\\\\xf7!\\\\x0f\\\\r\\\\n\\\\x95\\\\x90@\\\\nX\\\\xcaC\\\\x12U\\\\x08\\\\x08\\\\x01\\\\x81ilW\\\\x95\\\\xfa\\\\xd7wf\\\\xce\\\\xb9\\\\xb6A\\\\x14\\\\xc5m\\\\x1f@\\\\x1e\\\\xef\\\\xdd\\\\xdd9{\\\\xbef\\\\xd7\\\\xb6=\\\\xdel{\\\\xb7\\\\xfdq\\\\xfaq\\\\xfbc\\\\xabi/y\\\\xab}Os+V\\\\xf6\\\\x95\\\\xb7\\\\xbc\\\\xd2>\\\\xe7v\\\\xf1z\\\\xfbi;?}{\\\\xf9\\\\xec\\\\xaf\\\\xdfo\\\\x0f\\\\x9f\\\\x9f\\\\xd2\\\\x9eR\\\\xdan\\\\xff\\\\xff\\\\xfc\\\\xe1S\\\\xfcv\\\\xb4\\\\xed\\\\x9f\\\\xa7\\\\x9f\\\\x7f\\\\xdd\\\\xd2\\\\xf6\\\\xead\\\\xdbc\\\\xfc{w2~\\\\xb0=95\\\\xdbW\\\\xdbf\\\\xe2\\\\xea\\\\x1fN-\\\\xef}\\\\x10\\\\xb5\\\\xb4\\\\xbd?\\\\xb5\\\\xb2\\\\xd7D4\\\\x1bQ\\\\xdd\\\\xadl\\\\xd3\\\\xf6\\\\x9c\\\\x1d\\\\xe1\\\\xb7@C_\\\\xb6\\\\xbdM\\\\xa2\\\\xd5\\\\x89\\\\xfa^l\\\\x9b9V\\\\x19{\\\\xc2\\\\xbc\\\\xc2\\\\xfd\\\\x84F\\\\'jZs\\\\xeeu\\\\x11-#Z{\\\\xc6\\\\xbc\\\\xba\\\\xb7\\\\xe2h\\\\xd5m\\\\xb6\\\\xdd8\\\\xaf\\\\'1k>\\\\xd6m/\\\\x98\\\\xd7\\\\xb92P\\\\xde-\\\\x13\\\\xf5\\\\xe4\\\\x88\\\\xcc\\\\xb0+\\\\xb9t\\\\xec4\\\\x88\\\\xba\\\\xbe\\\\xac{\\\\x81E\\\\x93\\\\xdf\\\\x0351\\\\x9b\\\\xfb0G8\\\\xa8\\\\xb9v\\\\xd3\\\\xbc\\\\xbe\\\\xd7I4\\\\xc8\\\\xb3\\\\x0f2\\\\xc3\\\\xa9\\\\xe7\\\\xe1h\\\\x15\\\\xa2\\\\xa5\\\\xb1\\\\xb9\\\\xf7\\\\xbe-\\\\xdb\\\\x9b\\\\xd6\\\\\\\\d\\\\xb6\\\\xb2\\\\xaf2\\\\xd2nF4\\\\x02\\\\xcd\\\\xba\\\\xad\\\\xb2\\\\x17r\\\\x19Ff@\\\\x93k\\\\x8e\\\\xbcg\\\\xcc\\\\x83\\\\xed\\\\x95\\\\x08\\\\xa7\\\\x95\\\\xb7\\\\xd5\\\\xf6\\\\xdc\\\\x1d\\\\x81\\\\x05\\\\x90x\\\\x8e\\\\xbaW\\\\xcc\\\\xc3\\\\x19O\\\"|\\\\x93\\\\xb65\\\\xfct\\\\x81\\\\xc8L\\\\xfc\\\\x80p\\\"\\\\x987\\\\xf7\\\\xac/\\\\x07g\\\\x00M\\\\xad9\\\\xc5l\\\\xed\\\\xd5\\\\x1c\\\\xcd\\\\xb2YB\\\\xa8i\\\\xfb\\\\xb5\\\\xb7.\\\\xa8u\\\\x10\\\\x01\\\\xe0f\\\\xc9H\\\\x1f\\\\xd0\\\\xf6d\\\\x80\\\\xd9?f\\\\x0cT\\\\xc0\\\\xb2g}\\\\x9cI\\\\x8fP>\\\\x85o\\\\x8dsk,\\\\xa5\\\\xf8\\\\xb5\\\\xd4b\\\\xa9J\\\\x86\\\\x96\\\\xfa>x\\\\x08po\\\\xe1\\\\xdc\\\\xf0\\\\x16<\\\\n\\\\xdf[\\\\x9a~\\\\xb4\\\\x80\\\"\\\\xb9\\\\xe8\\\\x19\\\\xc0\\\\xc1\\\\x182\\\\x04\\\\xb2\\\\x8f\\\\xcaL3\\\\xf3\\\\x13\\\\x84\\\\xe7H\\\\xd2\\\\x14\\\\xd0\\\\x82\\\\x03s\\\\x91>\\\\x8d\\\\xd6\\\\xc3w\\\\x15\\\\x06Zu\\\\x1ap\\\\x1eIZcV\\\\t.\\\\xce\\\\x1d\\\\x1e&p_\\\\x87\\\\x816\\\\x99\\\\x87\\\\x80E$m\\\\xb9\\\\x1b\\\\xe1\\\\xb2\\\\x84\\\\xb99h\\\\x00N\\\\x18\\\\x98\\\\xf3\\\\x9e\\\\xb8/\\\\x9cF\\\\x92\\\\xb9x<\\\\xc0k\\\\x88 \\\\xcb\\\\xd5S\\\\xc3\\\\xddf\\\\xb9\\\\xc7\\\\xc7C$\\\\xf3 \\\\x1b@$\\\\x07\\\\xe7\\\\xc27<I\\\\xf8\\\\xca``IL.A\\\\x92,\\\\xe6\\\\xfe\\\\xa4\\\\xb3phV\\\\n\\\\xbdA\\\\x8c\\\\x14\\\\x81\\\\x89\\\\xa5y\\\\x9c\\\\xd0]\\\\xe4Y\\\\x06s\\\\xda\\\\xf1\\\\xe4\\\\xfc\\\\xe5T\\\\xe80\\\\x1c\\\\x9cU\\\\xd8>\\\\x84\\\\xab\\\\xa8V\\\\x99\\\\xe7xa>\\\\xea\\\\xd0\\\\xc8\\\\xc2\\\\x8d?XE\\\\xce6\\\\xe1.\\\\xb6\\\\xa8 \\\\xcd\\\\xe7\\\\xc3\\\\n\\\\xccor\\\\xa9\\\\xe3\\\\x05[\\\\x91\\\\xf1\\\\xd3\\\\xf1\\\\x14\\\\xdf\\\\x1e\\\\x15\\\\x84n-\\\\x98\\\\x8f,\\\\xacZ\\\\xcfT\\\\x92\\\\x0c\\\\xd9\\\\xe5\\\\xeb\\\\x01\\\\x93/\\\\xf3\\\\xc4\\\\xc7\\\\x8d\\\\xa5\\\\xc0\\\\x18\\\\xf1\\\\xe2\\\\x07O#Y\\\\x8c\\\\x95\\\\xcc\\\\x02\\\\x93/\\\\x02n8\\\\xd6\\\\x0f\\\\x86\\\\xa8\\\\x19\\\\xfe=\\\\xd2\\\\x08\\\\xf6\\\\xc2\\\\xd7\\\\xdd\\\\xd7o\\\\xe2\\\\x0b\\\\x87\\\\xad\\\\x1ax\\\\xae-\\\\xa7\\\\xe4\\\\x99e\\\\x86dB\\\\xe5\\\\xc51\\\\xc8\\\\xcf\\\\x8c\\\\x0e\\\\xf0\\\\xcd0\\\\xc3\\\\x9c\\\\xcf\\\\xa4\\\\x133\\\\xb7\\\\x1d\\\\x81g\\\\x02\\\\xee\\\\x1e\\\\xcb\\\\x8c\\\\x17\\\\xf0\\\\xcd\\\\xd9\\\\xc2~\\\\x04\\\\x0c\\\\x0c\\\\xc9\\\\xf0}\\\\xad\\\\x81\\\\xd7\\\\xdc2\\\\xfc\\\\xa9\\\\xb02|\\\\x08\\\\xbe\\\\xb9t\\\\x8fIFT\\\\xc5\\\\xfcZb\\\\x7f\\\\x0f\\\\xa9\\\\x8c\\\\xf35\\\\x0bL\\\\xbe8_\\\\xb7\\\\x071\\\\xd6m+X_\\\\xc1d\\\\xb91]3*\\\\xa0\\\\xaad\\\\x04\\\\x1dqi\\\\x81\\\\x07\\\\xe7_\\\\xef7\\\\xb8Qn\\\\x91O\\\\x0cC\\\\xf2m\\\\x89\\\\xf1\\\\xed\\\\x18\\\\x86r<\\\\xf6_t$\\\\xf1\\\\xd2\\\\xfa\\\\x88S\\\\xf2m9\\\\xe2\\\\x07\\\\x86\\\\x19\\\\xe7\\\\x97\\\\xe0\\\\xc7\\\\xc0\\\\x85\\\\xbd\\\\xe8#\\\\xaa\\\"V2\\\\xf9\\\\xca\\\\x1e\\\\xff^eRX|JeA\\\\'\\\\x1e#\\\\xb0\\\\xf8F%a\\\\xa07\\\\x9f\\\\xafBc8\\\\xb8\\\\\\\\\\\\x85=^\\\\x80\\\\xc5\\\\xf7z}\\\\x14\\\\x99\\\\xa5\\\\xfd\\\\x93\\\\xec)\\\\xc8\\\\xb6,~\\\\xeaaL\\\\x0c\\\\xf1\\\\xcd^m\\\\x88\\\\xa7\\\\xdb\\\\xeb\\\\xfeC[\\\\xeeI\\\\xe7\\\\xd1\\\\xb4^\\\\x95\\\\xe3r]q\\\\x9e\\\\x15\\\\x86c~\\\\x9d\\\\xde\\\\xbf\\\\x88\\\\x07\\\\xec\\\\xad\\\\xc3\\\\xcb\\\\xa4\\\\xd1\\\\x91\\\\xe0[\\\\x0f\\\\xfeH\\\\xb4\\\\xcc\\\\xf9\\\\xf5X\\\\xaf\\\\x92\\\\x88\\\\xfc->\\\\xf8\\\\x90|\\\\xb1L\\\\xf1\\\\xf1\\\\xce\\\\xd2\\\\x9d\\\\xb1\\\\xad\\\\xf3\\\\xc3\\\\xc2\\\\x06{AK\\\\x15\\\\x9d\\\\x98|A\\\\xbb\\\\xfb\\\\xfc\\\\xc9\\\\x85s9\\\\xf2\\\\x8fD\\\\xb3\\\\xb0\\\\xaf\\\\x07C\\\\xc8\\\\x17\\\\xc72f\\\\xe01\\\\x84M|\\\\x19\\\\x08I\\\\xf1Xd\\\\x0f\\\\x0e\\\\x86|K\\\\x8bz\\\\x00\\\\xbc\\\\x9a\\\\xb0\\\\xc7\\\\x03\\\\x1d\\\\xcdx\\\\xae\\\\xc7x\\\\x15_`\\\\xf7\\\\'\\\\x1d\\\\xc1\\\\xf9G<\\\\xd3\\\\x91\\\\xb0\\\\x17a\\\\xe0\\\\xf1\\\\x86@\\\\x14\\\\xdf\\\\xccc\\\"\\\\x1e\\\\xac{\\\\xcc\\\\x8fX\\\\x0f\\\\xf9\\\\x06{\\\\x19f+0\\\\xf9\\\\xe6\\\\x15\\\\xf6A>`\\\\x80\\\\xd8\\\\xe3\\\\x0f\\\\x02\\\\x02\\\\xc2%3\\\\x8c-0\\\\xf9\\\"\\\\xcc\\\\xbd\\\\xfet\\\\x15\\\\x02\\\\xe6\\\\xa3\\\\xfb\\\\x032\\\\x02\\\\x85\\\\x92\\\\xd8\\\\x1c\\\\x17\\\\xf1e\\\\x1aY\\\\xe0\\\\xc9\\\\xf95\\\\xce\\\\x1b\\\\x89\\\\x04\\\\t\\\\x94\\\\x91\\\\x86R\\\\x05,d\\\\xe4\\\\x0b,\\\\xbdd]b%#\\\\x8dK\\\\x0f\\\\x0cQ\\\\xa0z\\\\xe0\\\\xe3\\\\xc3\\\\xf9&\\\\x96\\\\rb\\\\x11%\\\\x8e\\\\xf9\\\\x93\\\\x85)\\\\xb3\\\\xed\\\\xf8~K|\\\\xed\\\\xf0\\\\'\\\\xc4\\\\x05\\\\x1cI\\\\xec\\\\xf5\\\\n\\\\xf2\\\\x02\\\\xdd\\\\x8b\\\\xf5g\\\\xe5\\\\xc0\\\\xe4\\\\x8b\\\\xb2\\\\x16X\\\\x85\\\\x9a\\\\xd8\\\\xeb?DFa\\\\xbd\\\\xaa\\\\x11\\\\x0f\\\\x90\\\\x19\\\\xe4k\\\\xa1\\\\xd4\\\\x88GS}s~(\\\\xbc\\\\x08\\\\xbc\\\\x8c2\\\\xec\\\\xf1\\\\x00\\\\xb1A\\\\xbe\\\\xa6\\\\xb4w\\\\x8cD\\\\xccG\\\\xb76\\\\xc8\\\\x0f\\\\x04\\\"\\\\xeb\\\\xa5\\\\xd7\\\\xbb\\\\xa1\\\\xc0\\\\xcbh\\\\x1b^\\\\xbf\\\\xa19\\\\x108\\\\x99me\\\\x06\\\\x86#Xo=\\\\xdf)J\\\\xc1\\\\x17m\\\\xca\\\\xfdM!\\\\xca\\\\xf99\\\\xce\\\\x07\\\\xba#\\\\xb1>[\\\\xc4+0\\\\xf8\\\\x1a\\\\xdb\\\\xa4\\\\xe3\\\"]\\\\x82\\\\xa6\\\\xea\\\\xfd\\\\x11\\\\xd2\\\\x03\\\\xc2\\\\xc9\\\\xd0s\\\\xbd>L)\\\\x14c\\\\x87\\\\xf6\\\\xef\\\\x9b\\\\xa4\\\\xc9\\\\x92B!\\\\x96\\\\xe0\\\\xb2U\\\\xa2\\\\x1f\\\\xa1\\\\x91\\\\x80/\\\\xfb\\\\xc7l\\\\x81\\\\xa9N\\\\xa0,\\\\xe2\\\\xfb)\\\\r\\\\x05\\\\xe1\\\\xd1\\\\x9d\\\\xdf\\\\x92\\\\x88\\\\x9aG\\\\xbe-5*N\\\\x93\\\\xc6#\\\\xa6\\\\x8c\\\\x9a-\\\\xfa9\\\\x16&_\\\\xd0\\\\xf2\\\\xf8\\\\xa4\\\\xa4\\\\xf4~\\\\xe6\\\\xfd\\\\x06\\\\x98J\\\\nf\\\\xfa\\\\xfa F\\\\xbe\\\\xf3\\\\xa8G N\\\\x99\\\\xc2ct,!\\\\xcdc\\\\xaf90\\\\xf9\\\\xc2-\\\\xd9\\\\xc7\\\\xbb\\\\x94\\\\n\\\\xdc\\\\xe6\\\\xf1\\\\xc9\\\\x83\\\\x81\\\\xbdp{\\\\xac?\\\\xc5w\\\\x1c\\\\xf1\\\\xc0\\\\x83,\\\\xea\\\\xc7\\\\x9e\\\\xcf\\\\x94\\\\x92\\\\xb0w\\\\x84fd\\\\xe3$\\\\xdf\\\\xbe\\\\\\\\\\\\xb1\\\\x13S\\\\xaf \\\\x8c\\\\xa5G\\\\xe8(\\\\xaa*\\\\xa4A\\\\x8cg\\\\xf1e\\\\xda$\\\\xe1\\\"\\\\xbd\\\\x82\\\\xb4R\\\\xfe\\\\x11SX1-\\\\x1dW\\\\xf1E\\\\xda&_\\\\xafI\\\\xaf \\\\xed\\\\xbb\\\\twi+\\\\x94\\\\x05\\\\xe9\\\\x0fb\\\\xf2EYQ\\\\xfcd\\\\xe8\\\\x11\\\\xe9\\\\x95\\\\xe6\\\\xf6\\\\xab\\\\x91\\\\xc3\\\\xdeV\\\\xdc\\\\x7f\\\\xc4\\\\xe4\\\\xdb\\\\xa2\\\\xde2\\\\x90\\\\xa9WZ\\\\xf2\\\\xfe\\\\xc8@\\\\xa7\\\\xbe\\\\xaa\\\\xc7~H\\\\x04\\\\xf2E\\\\xd9U\\\\xff \\\\xa6^\\\\xa9QO\\\\x988\\\\xd2W\\\\xcd\\\\xd58\\\\x13+\\\\xf4\\\\x95\\\\xf5\\\\xc0\\\\xd2WqW`\\\"J_Y\\\\xd8k\\\\x12Fl;\\\\xd2\\\\x8aLl\\\\xea\\\\x15\\\\xd4o\\\\xe7\\\\xcbDO7\\\\xfa.\\\\xdbp=\\\\xd8\\\\xfd\\\\xce\\\\xc2\\\\xc2@}\\\\x85\\\\xfa\\\\x1c\\\\xf3\\\\x97\\\\xf4\\\\x15\\\\xeao\\\\xac\\\\xbf\\\\\\\\\\\\x0ff\\\\xcf_\\\\x16\\\\x1e\\\\xea+\\\\xea\\\\x11\\\\xf1E\\\\xa1\\\\xa2\\\\xbeB\\\\xbd\\\\xb5\\\\x03\\\\x93/\\\\xeb\\\\xab\\\\xe6\\\\xa3\\\\xb0Q_\\\\xe5\\\\xb8[\\\\xb1\\\\xf0Q_\\\\xe5\\\\xeez\\\\x80\\\\x85\\\\x92|Q?G\\\\r<\\\\x97\\\\xa4\\\\xb0\\\\x9f\\\\'\\\\x06z\\\\x96R\\\\x96^c\\\\xe1%\\\\xdf\\\\x9c=\\\\xbfX\\\\xa8\\\\x13\\\\xe7\\\\xc7%\\\\x84x&a\\\\xd5w\\\\x16v\\\\xf2\\\\x85\\\\x19\\\\xcb\\\\xb1\\\\x84)q\\\\xf0[\\\\xd4W\\\\x94m\\\\xaa\\\\x7fl\\\\x1c#D\\\\xbe\\\\xf6\\\\x83\\\\xa1\\\\xb5\\\\xe8\\\\x0e\\\\x10\\\\xe3\\\\xba\\\\xc2I\\\\x16\\\\xf6\\\\xc0\\\\xe4\\\\x0b\\\\xb7x\\\\xbc\\\\xe1\\\\xe0\\\\xba\\\\xe9F\\\\xe1\\\\xf1S$d(;=\\\\x9e\\\\xfd\\\\xa0)S\\\\xfb\\\\x0c<\\\\x96\\\\xae+\\\\xaa\\\\xd7l\\\\xa4-\\\\xeb6\\\\xe3\\\\xf9RT\\\\x88\\\\x88c\\\\xbdA\\\\xbdB\\\\x99\\\\xec\\\\xfe\\\\x84\\\\xa3G\\\\xd2\\\\xdd\\\\xa8\\\\xfa\\\\xfc%\\\\xbe\\\\xa9G\\\\xbc 0\\\\xcc\\\\xafR~\\\\xfeU\\\\x81J\\\\x99\\\\xaezF\\\\xa1@\\\\xbe)\\\\xf4\\\\x85\\\\x84D\\\\xd1=M\\\\xf5\\\\x85B#ua\\\\xcf7`\\\\xf2EZ\\\\xc6\\\\xf7\\\\x95\\\\x8d\\\\x98\\\\xd7\\\\x8a\\\\xee\\\\xdf7\\\\xea+\\\\xdd\\\\x11G`\\\\xf1M\\\\x91o\\\\x08|\\\\xe8\\\\x15T\\\\x057\\\\x1fy\\\\x81\\\\xba\\\\xb3\\\\xa2\\\\x1bK\\\\x16\\\\xe9jZr@\\\\x9c\\\\nJN|\\\\xbc\\\\xb8\\\\xc9\\\\x1a~\\\\xbd\\\\xa7\\\\xc6\\\\x02\\\\xd5ud.\\\\x94H\\\\xd2ux\\\\x1e\\\\x10\\\\x1dc\\\\x1d~j\\\\x12\\\\x0c,\\\\xdb>\\\\xaak\\\\xe9:\\\\xbc\\\\xe6\\\\xf2\\\\x0e\\\\xb5RE\\\\x90\\\\xea\\\\xaf\\\\xeb\\\\xb6\\\\xae\\\\x1eCqXu]WK\\\\xa7\\\\x16\\\\xc6Y\\\\xacP\\\\x1c\\\\x92\\\\xc6\\\\x83\\\\xd0\\\\x03\\\\x06\\\\x82\\\\x04\\\\'\\\\xb3\\\\x92\\\\xf7\\\\x03\\\\no\\\\xd8\\\\xb2\\\\xe2\\\\xba\\\\x90Q\\\\x87\\\\x92^\\\\x13\\\\x82\\\\xf3\\\\xe2\\\\x16(\\\\xfe\\\\xce\\\\xb9\\\\xeb\\\\x85\\\\x05\\\\xd07B\\\\x11\\\\x03Iv\\\\x90\\\\x15p\\\\xe9\\\\x05C\\\\xca8\\\\xa3\\\\xe4\\\\xe1Xx\\\\xfbU\\\"@x`\\\\x16\\\\xef\\\\xc6\\\\xb2\\\\xa8\\\\xfb\\\\xb3\\\\xcc\\\\x91V\\\\x80\\\\xe8\\\\x1f\\\\xf3\\\\xa8j(\\\\xa7 \\\\xc9k\\\\xb6\\\\x0e\\\\xa7\\\\xfb\\\\xcbL\\\\xa5\\\\xeb\\\\x08\\\\x07\\\\x93c\\\\x16\\\\x7f\\\\xe4 $\\\\xc9#\\\\xa2\\\\xbb?\\\\xce\\\\xe4HHTrt\\\\xda\\\\x19\\\\xfa\\\\x85p\\\\xe9\\\\x01\\\\xc8\\\\xd3{\\\\xf8\\\\xfb\\\\x8cE\\\\xb5\\\\x84\\\\xda\\\\xf0\\\\xa7#]\\\\xa62\\\\xbbD\\\\xb9~W\\\"\\\\x9c\\\\xfe\\\\xe8\\\\xa4\\\\xa3cO\\\\x99\\\\x1b\\\\x1f\\\\x1dD\\\\x03-\\\\x07$\\\\xc7\\\\n\\\\x03\\\\x87^iF\\\\xf4mB\\\\x04<`,\\\\xa5\\\\xa8\\\\x18\\\\xf1\\\\xe2\\\\x91\\\\x87\\\\x1ej\\\\xc6\\\\x11H\\\\xfc}%t{\\\\x87.G\\\\x982}\\\\xae\\\\xdej\\\\xb8\\\\x82 \\\\xf8 uF<*e\\\\x7f\\\\xf7\\\\xc2v\\\\xee\\\\xdf\\\\xa9\\\\xe7\\\\x9aq\\\\x1c,\\\\xcf!m\\\\xa0\\\\xea\\\\xd5\\\\x82\\\\xcf[\\\\x85\\\\xb0\\\\xd7\\\\x808R@\\\\xaf\\\\xf58p\\\\x88 \\\\x98\\\\xb9\\\\x1c6\\\\x91<*\\\\xef\\\\xd4\\\\x95\\\\x05\\\\xd0\\\\xe3\\\\x8a\\\\xefX00\\\\xee\\\\x91\\\\x99a\\\\xb0\\\\x08\\\\xbd\\\\xacL\\\\xbd\\\\xdb\\\\x8c\\\\xec\\\\xb7\\\\x18B\\\\x94Cj;7a\\\\x89d\\\\xdc\\\\t\\\\xf8L\\\\x08\\\\xb6\\\\x80n>B\\\\x17\\\\x12i\\\\x1c\\\\x15\\\\x88\\\\x81\\\\xdd\\\\x08=\\\\xc1\\\\x97\\\\x1enF\\\\xe8\\\\xcd\\\\x8c\\\\x1c\\\\x81>\\\\xeaGy\\\\x02\\\\xc4\\\\x0f\\\\x14\\\\x9d\\\\xfe\\\\xb1dQ_\\\\xc7Fze\\\\xe8+L@\\\\xaa\\\\xe2\\\\x07\\\\xc4\\\\xcf\\\\xcc\\\\x01!5\\\\xf8N\\\\xe64\\\\x06\\\\x95\\\\x11\\\\x85\\\\x80\\\\xaf<I\\\\xb2\\\\x1fuy\\\\xe9\\\\xe1\\\\x86\\\\xa1x@\\\\xf8\\\\xbdG\\\\xd5+(/\\\\xf8\\\\x01P\\\\x97\\\\xaa\\\\x92\\\\xf4p\\\\x83\\\\xa8V\\\\x98\\\\x11b\\\\x91\\\\x1eW\\\\xee\\\\x82\\\\xdaE\\\\x92\\\\xf1RV\\\\x92\\\\x1en\\\\x00\\\\xb3\\\\xc3\\\\xcaE\\\\x90 +\\\\x05$\\\\xc9\\\\xe6r\\\\xa7$=\\\\xdc\\\\xf4\\\\xe6\\\\x19Z\\\\x92f\\\\xf5\\\\xe6\\\\x97\\\\x87\\\\x82*L\\\\x92\\\\xd5}D\\\\x08mA\\\\xe8KMJ\\\\xa1\\\\x1eoy\\\\x05%\\\\x9d$\\\\xab\\\\xbb\\\\x8cpi\\\\xae\\\\xde)\\\\n\\\\x1a\\\\x02\\\\x8e\\\\xa5\\\\x177\\\\xbfPO\\\\x0fBU\\\\xe5b\\\\xba>\\\\xf7\\\\x10\\\\xbd\\\\x848\\\\xd2^\\\\xbc\\\\xa7\\\\x17\\\\x17\\\\xe7=\\\"\\\\xa7\\\\x98\\\\x9elz\\\\xf6c/h]\\\\xa8E=^\\\\xc0\\\\x08I2\\\\x02\\\\xa9\\\\x98\\\\xdek(\\\\xa7\\\\xfc\\\\xe3\\\\xc1t\\\\x03t\\\\x03\\\\xd9&\\\\x8dP\\\\xcd\\\\xb3\\\\x98\\\\x1ekz\\\\xf4\\\\xde\\\\xc2KH\\\\'T\\\\x96\\\\x15H\\\\x05\\\\x924\\\\xaf\\\\x0c\\\\x84P\\\\x12\\\\xaci\\\\xda7\\\\xeb\\\\x05\\\\xa1\\\\xabh\\\\x13f\\\\x91\\\\x8cg\\\\x04B\\\\xf4\\\\xeb\\\\x1eAX\\\\xd8\\\\xfe3a\\\\xf5\\\\x8f\\\\xabH&o\\\\x13%\\\\xeb\\\\x8d\\\\x867\\\\xb9\\\\x19\\\\x10\\\\x07\\\\x0e\\\\xe8\\\\xc1\\\\x90\\\\xe5w\\\\xc0\\\\xe4\\\\x1f\\\\xeb\\\\x81\\\\x86\\\\x85W\\\\x16A\\\\x1f\\\\xa0\\\\x05\\\\xb4\\\\x90\\\\xa3\\\\xc5_\\\\xd5\\\\xda\\\\xf2zU\\\\xb2~\\\\xdf\\\\x96\\\\x07\\\\x7f\\\\x818\\\\x80\\\\xd8a\\\\r? H\\\\xa2\\\\xc2KZ\\\\x94\\\\xa2\\\\xa7\\\\x19\\\\xbfp\\\\x12J\\\\x92\\\\xb6\\\\x08\\\\xef\\\\x02a\\\\x00\\\\x92\\\\x84)\\\\xe0\\\\xd4\\\\\\\\E{)\\\\xd2\\\\xd3-\\\\x1a_\\\\xe1\\\\xf3\\\\\\\\#t\\\\x0f\\\\x16=\\\\xca\\\\xf0j[\\\\x02\\\"\\\\xaf\\\\xd1h\\\\xa6\\\\x8f\\\\x0e\\\\x91\\\\x1cqtE/2\\\\x80\\\\xfd\\\\x80(/m\\\\x84\\\\x81E\\\\x86\\\\xf3\\\\xd6\\\\xac\\\\xd1\\\\xaa{\\\\x19\\\\xa1F\\\\xa1\\\\x06\\\\xd0.\\\\x01\\\\xdd^@\\\\x92\\\\x8cW\\\\xe4R\\\\xf5\\\\x16\\\\xd3\\\\xa2\\\\xe3<\\\\xe7\\\\x9f!\\\\xfe\\\\x1f\\\\x7fe\\\\xf0\\\\xbfa|\\\\xd8b}\\\\x87\\\\xef\\\\xb7\\\\xe7\\\\x9f\\\\r\\\\x07r\\\\xa7c4\\\\x9e\\\\xb2\\\\x8e\\\\xe1\\\\x03\\\\xde\\\\x8c\\\\xfbU\\\\xe5z<\\\\xe0\\\\xf5x\\\\xb4\\\\xaac\\\\xfc\\\\x80\\\\xd7\\\\xe3\\\\x9f\\\\xd0\\\\xb9aw=\\\\xfe\\\\xfdY\\\\x18\\\\xff\\\\xf2\\\\xf2\\\\x0b\\\\xc6_\\\\xbe<?}\\\\xfb\\\\x08Jn;\\\\xfbms{o\\\\xfes\\\\xcc\\\\xa7\\\\xa2\\\\xb5\\\\xf1\\\\x01,mg\\\\x1f\\\\xb6{\\\\x0fZJ\\\\xf7\\\\xb7\\\\xb3w\\\\xa7\\\\x1f\\\\xce\\\\xb4\\\\xf8\\\\xd7gK\\\\xf2\\\\x96[\\\\xd3\\\\xef2w\\\\xea\\\\xd5\\\\xe0f\\\\xee\\\\x9dv\\\\xa6\\\\xa6\\\\xf9dg\\\\xa8\\\\xbb;Lg\\\\x9e\\\\xd4\\\\xdbv\\\\xdb\\\\xad\\\\xdd\\\\xfdx\\\\xa95:\\\\xce\\\\xdc\\\\x91Z\\\\x81\\\\xe9\\\\xcc?\\\\x1dF\\\\xd2\\\\xb4\\\\x1e\\\\xe8f\\\\x94w\\\\x0b$\\\\xc01\\\\x1c\\\\xf0\\\\xd68\\\\x15K\\\\xbd\\\\x19wx3\\\\xce+\\\\x19d\\\\xd71\\\\x1e\\\\xf0\\\\xd68\\\\xef\\\\x86\\\\xf9f\\\\xdc\\\\xe1\\\\xadq\\\\xa7{=~\\\\xc3\\\\xfe\\\\xf6\\\\xd9\\\\xdc:\\\\x90\\\\x07\\\\xb7\\\\xce\\\\xa9\\\\xe8\\\\xb9\\\\x9a\\\\xca\\\\xa7\\\\xb8S\\\\xd1m\\\\xbft\\\\xb4_\\\\x9d\\\\xceGi\\\\\\\\\\\"b~\\\\xbb\\\\xfb|\\\\x96C\\\\x8b\\\\xf9\\\\xe5\\\\xee\\\\xfb\\\\xf3\\\\xd2\\\\xde\\\\xd21\\\\xff\\\\xee\\\\xfb\\\\xf3\\\\xd2\\\\x80\\\\x08\\\\xf1\\\\xf9\\\\xf5\\\\xbf\\\\xd8\\\\x9f\\\\nz\\\\x1e\\\\xf3\\\\xdb\\\\xa7\\\\xb1\\\\x15\\\\xf9|*Mr7\\\\xaa\\\\xcd\\\\x01Y[uQ\\\\xf7\\\\x8f?\\\\x83\\\\xc7\\\\xc7^\\\\xfa\\\\xfe\\\\xe7\\\\x02\\\\x10\\\\x8f\\\\x85\\\\xfc\\\\x13\\\\x80\\\\xd8\\\\xfe|\\\\xef\\\\xf2\\\\xea\\\\xe2>\\\\x06\\\\xb7{/\\\\xce_=\\\\xb8\\\\xfc\\\\xfd\\\\xedoW\\\\xdb/\\\\xf7\\\\xd2/\\\\xf7\\\\xef\\\\xff\\\\xba\\\\x9d=\\\\xfe\\\\x93g\\\\x90\\\\xfd\\\\xc5\\\\x08W\\\\x9a\\\\xe21\\\\xf0\\\\xf2\\\\xe2\\\\xe3\\\\xe5\\\\xe5\\\\x83\\\\x97\\\\x1f/.^\\\\xbf\\\\x7fq\\\\xf5\\\\xf6\\\\xe3\\\\xf9q w\\\\xfb3\\\\xb2}\\\\xb5\\\\xc0o\\\\xfa\\\\x03\\\\x0c\\\\xf5\\\\xed\\\\x97K\\\\xfd\\\\x97\\\\xab\\\\xf5q\\\\xbe\\\\xdb\\\\xa7\\\\xfd\\\\xc3\\\\xae\\\\x97\\\\x8f\\\\xbf\\\\x07\\\\\\\\Osxk\\\\xda\\\\x9fuD\\\\tG\\\\xe4\\\\xcf\\\\x1c\\\\x91\\\\xbd\\\\x1e\\\\xf2\\\\xc8J\\\\xd5[\\\\x84\\\\x1c\\\\xf1\\\\xc3\\\\xd3\\\\x87\\\\x8f\\\\x1e\\\\xb5\\\\xb5\\\\xce\\\\x1e?\\\\xdb?\\\\xbc\\\\xa6S\\\\xdav\\\\xef\\\\xcd}\\\\x1e\\\\xf4v\\\\xef\\\\xf5\\\\xab\\\\xfd\\\\xfc\\\\xe3\\\\xab\\\\x7f\\\\xfc}\\\\xbf:o\\\\xf8\\\\xe9o/\\\\xddg\\\\xbf_<\\\\xd9\\\\x9fA\\\\xde\\\\xb4\\\\'\\\\xfb\\\\xd5\\\\x0b\\\\xff\\\\xd5\\\\x9b\\\\xbf\\\\xbc\\\\x7f\\\\xfb\\\\xe6|\\\\x7f\\\\xf3\\\\xaf/:\\\\xf0?\\\\x15v\\\\xf5\\\\xe4\\\\xc9{7\\\\xdd\\\\xf7\\\\xf4\\\\xf9\\\\xc3\\\\xefx1J\\\\xf5\\\\x9bg\\\\xf8\\\\x91r\\\\xaa\\\\xcco~\\\\xbcz\\\\xf1\\\\xe6;\\\\xbb\\\\xf6\\\\xe4\\\\xe9\\\\xdf\\\\x04\\\\xd0QCendstream\\\\nendobj\\\\n3 0 obj\\\\n<< /Type /Pages /Kids [ 7 0 R ] /Count 1 /MediaBox [0 0 360 360] >>\\\\nendobj\\\\n4 0 obj\\\\n<<\\\\n/ProcSet [/PDF /Text]\\\\n/Font <</F2 10 0 R /F3 11 0 R >>\\\\n/ExtGState << >>\\\\n/ColorSpace << /sRGB 5 0 R >>\\\\n>>\\\\nendobj\\\\n5 0 obj\\\\n[/ICCBased 6 0 R]\\\\nendobj\\\\n6 0 obj\\\\n<< /Alternate /DeviceRGB /N 3 /Length 2596 /Filter /FlateDecode >>\\\\nstream\\\\nx\\\\x9c\\\\x9d\\\\x96wTS\\\\xd9\\\\x16\\\\x87\\\\xcf\\\\xbd7\\\\xbdP\\\\x92\\\\x10\\\\x8a\\\\x94\\\\xd0khR\\\\x02H\\\\r\\\\xbdH\\\\x91.*1\\\\t\\\\x10J\\\\xc0\\\\x90\\\\x00\\\"6DTpDQ\\\\x91\\\\xa6\\\\x082(\\\\xe0\\\\x80\\\\xa3C\\\\x91\\\\xb1\\\"\\\\x8a\\\\x85\\\\x01Q\\\\xb1\\\\xeb\\\\x04\\\\x19D\\\\xd4qp\\\\x14\\\\x1b\\\\x96Id\\\\xad\\\\x19\\\\xdf\\\\xbcy\\\\xef\\\\xcd\\\\x9b\\\\xdf\\\\x1f\\\\xf7~k\\\\x9f\\\\xbd\\\\xcf\\\\xddg\\\\xef}\\\\xd6\\\\xba\\\\x00\\\\x90\\\\xfc\\\\x83\\\\x05\\\\xc2LX\\\\t\\\\x80\\\\x0c\\\\xa1X\\\\x14\\\\xe1\\\\xe7\\\\xc5\\\\x88\\\\x8d\\\\x8bg`\\\\x07\\\\x01\\\\x0c\\\\xf0\\\\x00\\\\x03l\\\\x00\\\\xe0p\\\\xb3\\\\xb3B\\\\x16\\\\xf8F\\\\x02\\\\x99\\\\x02|\\\\xd8\\\\x8cl\\\\x99\\\\x13\\\\xf8\\\\x17\\\\xbd\\\\xba\\\\x0e \\\\xf9\\\\xfb*\\\\xd3?\\\\x8c\\\\xc1\\\\x00\\\\xff\\\\x9f\\\\x94\\\\xb9Y\\\"1\\\\x00P\\\\x98\\\\x8c\\\\xe7\\\\xf2\\\\xf8\\\\xd9\\\\\\\\\\\\x19\\\\x17\\\\xc98=W\\\\x9c%\\\\xb7O\\\\xc9\\\\x98\\\\xb64M\\\\xce0J\\\\xce\\\"Y\\\\x822V\\\\x93s\\\\xf2,[|\\\\xf6\\\\x99e\\\\x0f9\\\\xf32\\\\x84<\\\\x19\\\\xcbs\\\\xce\\\\xe2e\\\\xf0\\\\xe4\\\\xdc\\\\'\\\\xe3\\\\x8d9\\\\x12\\\\xbe\\\\x8c\\\\x91`\\\\x19\\\\x17\\\\xe7\\\\x08\\\\xf8\\\\xb92\\\\xbe&c\\\\x83tI\\\\x86@\\\\xc6o\\\\xe4\\\\xb1\\\\x19|N6\\\\x00(\\\\x92\\\\xdc.\\\\xe6sSdl-c\\\\x92(2\\\\x82-\\\\xe3y\\\\x00\\\\xe0H\\\\xc9_\\\\xf0\\\\xd2/X\\\\xcc\\\\xcf\\\\x13\\\\xcb\\\\x0f\\\\xc5\\\\xce\\\\xccZ.\\\\x12$\\\\xa7\\\\x88\\\\x19&\\\\\\\\S\\\\x86\\\\x8d\\\\x93\\\\x13\\\\x8b\\\\xe1\\\\xcf\\\\xcfM\\\\xe7\\\\x8b\\\\xc5\\\\xcc0\\\\x0e7\\\\x8d#\\\\xe21\\\\xd8\\\\x99\\\\x19Y\\\\x1c\\\\xe1r\\\\x00f\\\\xcf\\\\xfcY\\\\x14ym\\\\x19\\\\xb2\\\";\\\\xd88980m-m\\\\xbe(\\\\xd4\\\\x7f]\\\\xfc\\\\x9b\\\\x92\\\\xf7v\\\\x96^\\\\x84\\\\x7f\\\\xee\\\\x19D\\\\x1f\\\\xf8\\\\xc3\\\\xf6W~\\\\x99\\\\r\\\\x00\\\\xb0\\\\xa6e\\\\xb5\\\\xd9\\\\xfa\\\\x87mi\\\\x15\\\\x00]\\\\xeb\\\\x01P\\\\xbb\\\\xfd\\\\x87\\\\xcd`/\\\\x00\\\\x8a\\\\xb2\\\\xbeu\\\\x0e}q\\\\x1e\\\\xba|^R\\\\xc4\\\\xe2,g+\\\\xab\\\\xdc\\\\xdc\\\\\\\\K\\\\x01\\\\x9fk)/\\\\xe8\\\\xef\\\\xfa\\\\x9f\\\\x0e\\\\x7fC_|\\\\xcfR\\\\xbe\\\\xdd\\\\xef\\\\xe5ax\\\\xf3\\\\x938\\\\x92t1C^7nfz\\\\xa6D\\\\xc4\\\\xc8\\\\xce\\\\xe2p\\\\xf9\\\\x0c\\\\xe6\\\\x9f\\\\x87\\\\xf8\\\\x1f\\\\x07\\\\xfeu\\\\x1e\\\\x16\\\\x11\\\\xfc$\\\\xbe\\\\x88/\\\\x94ED\\\\xcb\\\\xa6L L\\\\x96\\\\xb5[\\\\xc8\\\\x13\\\\x88\\\\x05\\\\x99B\\\\x86@\\\\xf8\\\\x9f\\\\x9a\\\\xf8\\\\x0f\\\\xc3\\\\xfe\\\\xa4\\\\xd9\\\\xb9\\\\x96\\\\x89\\\\xda\\\\xf8\\\\x11\\\\xd0\\\\x96X\\\\x02\\\\xa5!\\\\x1a@~\\\\x1e\\\\x00(*\\\\x11 \\\\t{d+\\\\xd0\\\\xef}\\\\x0b\\\\xc6G\\\\x03\\\\xf9\\\\xcd\\\\x8b\\\\xd1\\\\x99\\\\x98\\\\x9d\\\\xfb\\\\xcf\\\\x82\\\\xfe}W\\\\xb8L\\\\xfe\\\\xc8\\\\x16$\\\\x7f\\\\x8ecGD2\\\\xb8\\\\x12Q\\\\xce\\\\xec\\\\x9a\\\\xfcZ\\\\x024 \\\\x00E@\\\\x03\\\\xea@\\\\x1b\\\\xe8\\\\x03\\\\x13\\\\xc0\\\\x04\\\\xb6\\\\xc0\\\\x11\\\\xb8\\\\x00\\\\x0f\\\\xe0\\\\x03\\\\x02A(\\\\x88\\\\x04q`1\\\\xe0\\\\x82\\\\x14\\\\x90\\\\x01D \\\\x17\\\\x14\\\\x80\\\\xb5\\\\xa0\\\\x18\\\\x94\\\\x82\\\\xad`\\\\'\\\\xa8\\\\x06u\\\\xa0\\\\x114\\\\x836p\\\\x18t\\\\x81c\\\\xe048\\\\x07.\\\\x81\\\\xcb`\\\\x04\\\\xdc\\\\x01R0\\\\x0e\\\\x9e\\\\x80)\\\\xf0\\\\n\\\\xcc@\\\\x10\\\\x84\\\\x85\\\\xc8\\\\x10\\\\x15R\\\\x87t C\\\\xc8\\\\x1c\\\\xb2\\\\x85X\\\\x90\\\\x1b\\\\xe4\\\\x03\\\\x05C\\\\x11P\\\\x1c\\\\x94\\\\x08%CBH\\\\x02\\\\x15@\\\\xeb\\\\xa0R\\\\xa8\\\\x1c\\\\xaa\\\\x86\\\\xea\\\\xa1f\\\\xe8[\\\\xe8(t\\\\x1a\\\\xba\\\\x00\\\\rC\\\\xb7\\\\xa0Qh\\\\x12\\\\xfa\\\\x15z\\\\x07#0\\\\t\\\\xa6\\\\xc1Z\\\\xb0\\\\x11l\\\\x05\\\\xb3`O8\\\\x08\\\\x8e\\\\x84\\\\x17\\\\xc1\\\\xc9\\\\xf028\\\\x1f.\\\\x82\\\\xb7\\\\xc0\\\\x95p\\\\x03|\\\\x10\\\\xee\\\\x84O\\\\xc3\\\\x97\\\\xe0\\\\x11X\\\\n?\\\\x81\\\\xa7\\\\x11\\\\x80\\\\x10\\\\x11:\\\\xa2\\\\x8b0\\\\x11\\\\x16\\\\xc2FB\\\\x91x$\\\\t\\\\x11!\\\\xab\\\\x90\\\\x12\\\\xa4\\\\x02i@\\\\xda\\\\x90\\\\x1e\\\\xa4\\\\x1f\\\\xb9\\\\x8aH\\\\x91\\\\xa7\\\\xc8[\\\\x14\\\\x06EE1PL\\\\x94\\\\x0b\\\\xca\\\\x1f\\\\x15\\\\x85\\\\xe2\\\\xa2\\\\x96\\\\xa1V\\\\xa16\\\\xa3\\\\xaaQ\\\\x07P\\\\x9d\\\\xa8>\\\\xd4U\\\\xd4(j\\\\n\\\\xf5\\\\x11MFk\\\\xa2\\\\xcd\\\\xd1\\\\xce\\\\xe8\\\\x00t,:\\\\x19\\\\x9d\\\\x8b.FW\\\\xa0\\\\x9b\\\\xd0\\\\x1d\\\\xe8\\\\xb3\\\\xe8\\\\x11\\\\xf48\\\\xfa\\\\x15\\\\x06\\\\x83\\\\xa1c\\\\x8c1\\\\x8e\\\\x18\\\\x7fL\\\\x1c&\\\\x15\\\\xb3\\\\x02\\\\xb3\\\\x19\\\\xb3\\\\x1b\\\\xd3\\\\x8e9\\\\x85\\\\x19\\\\xc6\\\\x8ca\\\\xa6\\\\xb1X\\\\xac:\\\\xd6\\\\x1c\\\\xeb\\\\x8a\\\\r\\\\xc5r\\\\xb0bl1\\\\xb6\\\\n{\\\\x10{\\\\x12{\\\\x05;\\\\x8e}\\\\x83#\\\\xe2tp\\\\xb68_\\\\\\\\<N\\\\x88+\\\\xc4U\\\\xe0Zp\\\\'pWp\\\\x13\\\\xb8\\\\x19\\\\xbc\\\\x12\\\\xde\\\\x10\\\\xef\\\\x8c\\\\x0f\\\\xc5\\\\xf3\\\\xf0\\\\xcb\\\\xf1e\\\\xf8F|\\\\x0f~\\\\x08?\\\\x8e\\\\x9f!(\\\\x13\\\\x8c\\\\t\\\\xae\\\\x84HB*a-\\\\xa1\\\\x92\\\\xd0F8K\\\\xb8KxA$\\\\x12\\\\xf5\\\\x88N\\\\xc4p\\\\xa2\\\\x80\\\\xb8\\\\x86XI<D<O\\\\x1c%\\\\xbe%QHf$6)\\\\x81$!m!\\\\xed\\\\'\\\\x9d\\\"\\\\xdd\\\"\\\\xbd \\\\x93\\\\xc9Fd\\\\x0fr<YL\\\\xdeBn&\\\\x9f!\\\\xdf\\\\'\\\\xbfQ\\\\xa0*X*\\\\x04(\\\\xf0\\\\x14V+\\\\xd4(t*\\\\\\\\Qx\\\\xa6\\\\x88W4T\\\\xf4T\\\\\\\\\\\\xac\\\\x98\\\\xafX\\\\xa1xDqH\\\\xf1\\\\xa9\\\\x12^\\\\xc9H\\\\x89\\\\xad\\\\xc4QZ\\\\xa5T\\\\xa3tT\\\\xe9\\\\x86\\\\xd2\\\\xb42U\\\\xd9F9T9Cy\\\\xb3r\\\\x8b\\\\xf2\\\\x05\\\\xe5G\\\\x14,\\\\xc5\\\\x88\\\\xe2C\\\\xe1Q\\\\x8a(\\\\xfb(g(cT\\\\x84\\\\xaaOeS\\\\xb9\\\\xd4u\\\\xd4F\\\\xeaY\\\\xea8\\\\rC3\\\\xa6\\\\x05\\\\xd0Ri\\\\xa5\\\\xb4oh\\\\x83\\\\xb4)\\\\x15\\\\x8a\\\\x8a\\\\x9dJ\\\\xb4J\\\\x9eJ\\\\x8d\\\\xcaq\\\\x15)\\\\x1d\\\\xa1\\\\x1b\\\\xd1\\\\x03\\\\xe8\\\\xe9\\\\xf42\\\\xfaa\\\\xfau\\\\xfa;U-UOU\\\\xbe\\\\xea&\\\\xd56\\\\xd5+\\\\xaa\\\\xaf\\\\xd5\\\\xe6\\\\xa8y\\\\xa8\\\\xf1\\\\xd5J\\\\xd4\\\\xda\\\\xd5F\\\\xd4\\\\xde\\\\xa93\\\\xd4}\\\\xd4\\\\xd3\\\\xd4\\\\xb7\\\\xa9w\\\\xa9\\\\xdf\\\\xd3@i\\\\x98i\\\\x84k\\\\xe4j\\\\xec\\\\xd18\\\\xab\\\\xf1t\\\\x0em\\\\x8e\\\\xcb\\\\x1c\\\\xee\\\\x9c\\\\x929\\\\x87\\\\xe7\\\\xdc\\\\xd6\\\\x845\\\\xcd4#4Wh\\\\xee\\\\xd3\\\\x1c\\\\xd0\\\\x9c\\\\xd6\\\\xd2\\\\xd6\\\\xf2\\\\xd3\\\\xca\\\\xd2\\\\xaa\\\\xd2:\\\\xa3\\\\xf5T\\\\x9b\\\\xae\\\\xed\\\\xa1\\\\x9d\\\\xaa\\\\xbdC\\\\xfb\\\\x84\\\\xf6\\\\xa4\\\\x0eU\\\\xc7MG\\\\xa0\\\\xb3C\\\\xe7\\\\xa4\\\\xcec\\\\x86\\\\n\\\\xc3\\\\x93\\\\x91\\\\xce\\\\xa8d\\\\xf41\\\\xa6t5u\\\\xfdu%\\\\xba\\\\xf5\\\\xba\\\\x83\\\\xba3z\\\\xc6zQz\\\\x85z\\\\xedz\\\\xf7\\\\xf4\\\\t\\\\xfa,\\\\xfd$\\\\xfd\\\\x1d\\\\xfa\\\\xbd\\\\xfaS\\\\x06:\\\\x06!\\\\x06\\\\x05\\\\x06\\\\xad\\\\x06\\\\xb7\\\\r\\\\xf1\\\\x86,\\\\xc3\\\\x14\\\\xc3]\\\\x86\\\\xfd\\\\x86\\\\xaf\\\\x8d\\\\x8c\\\\x8db\\\\x8c6\\\\x18u\\\\x19=2V3\\\\x0e0\\\\xce7n5\\\\xbekB6q7Yf\\\\xd2`r\\\\xcd\\\\x14c\\\\xca2M3\\\\xddmz\\\\xd9\\\\x0c6\\\\xb37K1\\\\xab1\\\\x1b2\\\\x87\\\\xcd\\\\x1d\\\\xcc\\\\x05\\\\xe6\\\\xbb\\\\xcd\\\\x87-\\\\xd0\\\\x16N\\\\x16B\\\\x8b\\\\x06\\\\x8b\\\\x1bL\\\\x12\\\\xd3\\\\x93\\\\x99\\\\xc3le\\\\x8eZ\\\\xd2-\\\\x83-\\\\x0b-\\\\xbb,\\\\x9fY\\\\x19X\\\\xc5[m\\\\xb3\\\\xea\\\\xb7\\\\xfahmo\\\\x9dn\\\\xddh}\\\\xc7\\\\x86b\\\\x13hSh\\\\xd3c\\\\xf3\\\\xab\\\\xad\\\\x99-\\\\xd7\\\\xb6\\\\xc6\\\\xf6\\\\xda\\\\\\\\\\\\xf2\\\\\\\\\\\\xdf\\\\xb9\\\\xab\\\\xe7v\\\\xcf}ngn\\\\xc7\\\\xb7\\\\xdbcw\\\\xd3\\\\x9ej\\\\x1fb\\\\xbf\\\\xc1\\\\xbe\\\\xd7\\\\xfe\\\\x83\\\\x83\\\\xa3\\\\x83\\\\xc8\\\\xa1\\\\xcda\\\\xd2\\\\xd1\\\\xc01\\\\xd1\\\\xb1\\\\xd6\\\\xf1\\\\x06\\\\x8b\\\\xc6\\\\ncmf\\\\x9dwB;y9\\\\xadv:\\\\xe6\\\\xf4\\\\xd6\\\\xd9\\\\xc1Y\\\\xec|\\\\xd8\\\\xf9\\\\x17\\\\x17\\\\xa6K\\\\x9aK\\\\x8b\\\\xcb\\\\xa3y\\\\xc6\\\\xf3\\\\xf8\\\\xf3\\\\x1a\\\\xe7\\\\x8d\\\\xb9\\\\xea\\\\xb9r\\\\\\\\\\\\xeb]\\\\xa5n\\\\x0c\\\\xb7D\\\\xb7\\\\xbdnRw]w\\\\x8e{\\\\x83\\\\xfb\\\\x03\\\\x0f}\\\\x0f\\\\x9eG\\\\x93\\\\xc7\\\\x84\\\\xa7\\\\xa9g\\\\xaa\\\\xe7A\\\\xcfg^\\\\xd6^\\\"\\\\xaf\\\\x0e\\\\xaf\\\\xd7lg\\\\xf6J\\\\xf6)o\\\\xc4\\\\xdb\\\\xcf\\\\xbb\\\\xc4{\\\\xd0\\\\x87\\\\xe2\\\\x13\\\\xe5S\\\\xeds\\\\xdfW\\\\xcf7\\\\xd9\\\\xb7\\\\xd5w\\\\xca\\\\xcf\\\\xdeo\\\\x85\\\\xdf)\\\\x7f\\\\xb4\\\\x7f\\\\x90\\\\xff6\\\\xff\\\\x1b\\\\x01Z\\\\x01\\\\xdc\\\\x80\\\\xe6\\\\x80\\\\xa9@\\\\xc7\\\\xc0\\\\x95\\\\x81}A\\\\xa4\\\\xa0\\\\x05A\\\\xd5A\\\\x0f\\\\x82\\\\xcd\\\\x82E\\\\xc1=!pH`\\\\xc8\\\\xf6\\\\x90\\\\xbb\\\\xf3\\\\r\\\\xe7\\\\x0b\\\\xe7w\\\\x85\\\\x82\\\\xd0\\\\x80\\\\xd0\\\\xed\\\\xa1\\\\xf7\\\\xc2\\\\x8c\\\\xc3\\\\x96\\\\x85}\\\\x1f\\\\x8e\\\\t\\\\x0f\\\\x0b\\\\xaf\\\\t\\\\x7f\\\\x18a\\\\x13Q\\\\x10\\\\xd1\\\\xbf\\\\x80\\\\xba`\\\\xc9\\\\x82\\\\x96\\\\x05\\\\xaf\\\"\\\\xbd\\\"\\\\xcb\\\"\\\\xefD\\\\x99DI\\\\xa2z\\\\xa3\\\\x15\\\\xa3\\\\x13\\\\xa2\\\\x9b\\\\xa3_\\\\xc7x\\\\xc7\\\\x94\\\\xc7Hc\\\\xadbW\\\\xc6^\\\\x8a\\\\xd3\\\\x88\\\\x13\\\\xc4u\\\\xc7c\\\\xe3\\\\xa3\\\\xe3\\\\x9b\\\\xe2\\\\xa7\\\\x17\\\\xfa,\\\\xdc\\\\xb9p<\\\\xc1>\\\\xa18\\\\xe1\\\\xfa\\\"\\\\xe3Ey\\\\x8b.,\\\\xd6X\\\\x9c\\\\xbe\\\\xf8\\\\xf8\\\\x12\\\\xc5%\\\\x9c%G\\\\x12\\\\xd1\\\\x891\\\\x89-\\\\x89\\\\xef9\\\\xa1\\\\x9c\\\\x06\\\\xce\\\\xf4\\\\xd2\\\\x80\\\\xa5\\\\xb5K\\\\xa7\\\\xb8l\\\\xee.\\\\xee\\\\x13\\\\x9e\\\\x07o\\\\x07o\\\\x92\\\\xef\\\\xca/\\\\xe7O$\\\\xb9&\\\\x95\\\\'=JvM\\\\xde\\\\x9e<\\\\x99\\\\xe2\\\\x9eR\\\\x91\\\\xf2T\\\\xc0\\\\x16T\\\\x0b\\\\x9e\\\\xa7\\\\xfa\\\\xa7\\\\xd6\\\\xa5\\\\xbeN\\\\x0bM\\\\xdb\\\\x9f\\\\xf6)=&\\\\xbd=\\\\x03\\\\x97\\\\x91\\\\x98qTH\\\\x11\\\\xa6\\\\t\\\\xfb2\\\\xb53\\\\xf32\\\\x87\\\\xb3\\\\xcc\\\\xb3\\\\x8a\\\\xb3\\\\xa4\\\\xcb\\\\x9c\\\\x97\\\\xed\\\\\\\\6%\\\\n\\\\x125eC\\\\xd9\\\\x8b\\\\xb2\\\\xbb\\\\xc54\\\\xd9\\\\xcf\\\\xd4\\\\x80\\\\xc4D\\\\xb2^2\\\\x9a\\\\xe3\\\\x96S\\\\x93\\\\xf3&7:\\\\xf7H\\\\x9er\\\\x9e0o`\\\\xb9\\\\xd9\\\\xf2M\\\\xcb\\\\'\\\\xf2}\\\\xf3\\\\xbf^\\\\x81Z\\\\xc1]\\\\xd1[\\\\xa0[\\\\xb0\\\\xb6`t\\\\xa5\\\\xe7\\\\xca\\\\xfaU\\\\xd0\\\\xaa\\\\xa5\\\\xabzW\\\\xeb\\\\xaf.Z=\\\\xbe\\\\xc6o\\\\xcd\\\\x81\\\\xb5\\\\x84\\\\xb5ik\\\\x7f(\\\\xb4.,/|\\\\xb9.f]O\\\\x91V\\\\xd1\\\\x9a\\\\xa2\\\\xb1\\\\xf5~\\\\xeb[\\\\x8b\\\\x15\\\\x8aE\\\\xc576\\\\xb8l\\\\xa8\\\\xdb\\\\x88\\\\xda(\\\\xd88\\\\xb8i\\\\xee\\\\xa6\\\\xaaM\\\\x1fKx%\\\\x17K\\\\xadK+J\\\\xdfo\\\\xe6n\\\\xbe\\\\xf8\\\\x95\\\\xcdW\\\\x95_}\\\\xda\\\\x92\\\\xb4e\\\\xb0\\\\xcc\\\\xa1l\\\\xcfV\\\\xccV\\\\xe1\\\\xd6\\\\xeb\\\\xdb\\\\xdc\\\\xb7\\\\x1d(W.\\\\xcf/\\\\x1f\\\\xdb\\\\x1e\\\\xb2\\\\xbds\\\\x07cG\\\\xc9\\\\x8e\\\\x97;\\\\x97\\\\xec\\\\xbcPaWQ\\\\xb7\\\\x8b\\\\xb0K\\\\xb2KZ\\\\x19\\\\\\\\\\\\xd9]eP\\\\xb5\\\\xb5\\\\xea}uJ\\\\xf5H\\\\x8dWM{\\\\xadf\\\\xed\\\\xa6\\\\xda\\\\xd7\\\\xbby\\\\xbb\\\\xaf\\\\xec\\\\xf1\\\\xd8\\\\xd3V\\\\xa7UWZ\\\\xf7n\\\\xaf`\\\\xef\\\\xcdz\\\\xbf\\\\xfa\\\\xce\\\\x06\\\\xa3\\\\x86\\\\x8a}\\\\x98}9\\\\xfb\\\\x1e6F7\\\\xf6\\\\x7f\\\\xcd\\\\xfa\\\\xba\\\\xb9I\\\\xa3\\\\xa9\\\\xb4\\\\xe9\\\\xc3~\\\\xe1~\\\\xe9\\\\x81\\\\x88\\\\x03}\\\\xcd\\\\x8e\\\\xcd\\\\xcd-\\\\x9a-e\\\\xadp\\\\xab\\\\xa4u\\\\xf2`\\\\xc2\\\\xc1\\\\xcb\\\\xdfx\\\\x7f\\\\xd3\\\\xdd\\\\xc6l\\\\xabo\\\\xa7\\\\xb7\\\\x97\\\\x1e\\\\x02\\\\x87$\\\\x87\\\\x1e\\\\x7f\\\\x9b\\\\xf8\\\\xed\\\\xf5\\\\xc3A\\\\x87{\\\\x8f\\\\xb0\\\\x8e\\\\xb4}g\\\\xf8]m\\\\x07\\\\xb5\\\\xa3\\\\xa4\\\\x13\\\\xea\\\\\\\\\\\\xde9\\\\xd5\\\\x95\\\\xd2%\\\\xed\\\\x8e\\\\xeb\\\\x1e>\\\\x1ax\\\\xb4\\\\xb7\\\\xc7\\\\xa5\\\\xa7\\\\xe3{\\\\xcb\\\\xef\\\\xf7\\\\x1f\\\\xd3=Vs\\\\\\\\\\\\xe5x\\\\xd9\\\\t\\\\xc2\\\\x89\\\\xa2\\\\x13\\\\x9fN\\\\xe6\\\\x9f\\\\x9c>\\\\x95u\\\\xea\\\\xe9\\\\xe9\\\\xe4\\\\xd3c\\\\xbdKz\\\\xef\\\\x9c\\\\x89=s\\\\xad/\\\\xbco\\\\xf0l\\\\xd0\\\\xd9\\\\xf3\\\\xe7|\\\\xcf\\\\x9d\\\\xe9\\\\xf7\\\\xec?y\\\\xde\\\\xf5\\\\xfc\\\\xb1\\\\x0b\\\\xce\\\\x17\\\\x8e^d]\\\\xec\\\\xba\\\\xe4p\\\\xa9s\\\\xc0~\\\\xa0\\\\xe3\\\\x07\\\\xfb\\\\x1f:\\\\x06\\\\x1d\\\\x06;\\\\x87\\\\x1c\\\\x87\\\\xba/;]\\\\xee\\\\x19\\\\x9e7|\\\\xe2\\\\x8a\\\\xfb\\\\x95\\\\xd3W\\\\xbd\\\\xaf\\\\x9e\\\\xbb\\\\x16p\\\\xed\\\\xd2\\\\xc8\\\\xfc\\\\x91\\\\xe1\\\\xebQ\\\\xd7o\\\\xdeH\\\\xb8!\\\\xbd\\\\xc9\\\\xbb\\\\xf9\\\\xe8V\\\\xfa\\\\xad\\\\xe7\\\\xb7sn\\\\xcf\\\\xdcYs\\\\x17}\\\\xb7\\\\xe4\\\\x9e\\\\xd2\\\\xbd\\\\x8a\\\\xfb\\\\x9a\\\\xf7\\\\x1b~4\\\\xfd\\\\xb1]\\\\xea =>\\\\xea=:\\\\xf0`\\\\xc1\\\\x83;c\\\\xdc\\\\xb1\\\\'?e\\\\xff\\\\xf4~\\\\xbc\\\\xe8!\\\\xf9a\\\\xc5\\\\x84\\\\xceD\\\\xf3#\\\\xdbG\\\\xc7&}\\\\'/?^\\\\xf8x\\\\xfcI\\\\xd6\\\\x93\\\\x99\\\\xa7\\\\xc5?+\\\\xff\\\\\\\\\\\\xfb\\\\xcc\\\\xe4\\\\xd9w\\\\xbfx\\\\xfc20\\\\x15;5\\\\xfe\\\\\\\\\\\\xf4\\\\xfc\\\\xd3\\\\xaf\\\\x9b_\\\\xa8\\\\xbf\\\\xd8\\\\xff\\\\xd2\\\\xeee\\\\xeft\\\\xd8\\\\xf4\\\\xfdW\\\\x19\\\\xaff^\\\\x97\\\\xbcQ\\\\x7fs\\\\xe0-\\\\xebm\\\\xff\\\\xbb\\\\x98w\\\\x133\\\\xb9\\\\xef\\\\xb1\\\\xef+?\\\\x98~\\\\xe8\\\\xf9\\\\x18\\\\xf4\\\\xf1\\\\xee\\\\xa7\\\\x8cO\\\\x9f~\\\\x03\\\\xf7\\\\x84\\\\xf3\\\\xfbendstream\\\\nendobj\\\\n9 0 obj\\\\n<<\\\\n/Type /Encoding /BaseEncoding /WinAnsiEncoding\\\\n/Differences [ 45/minus 96/quoteleft\\\\n144/dotlessi /grave /acute /circumflex /tilde /macron /breve /dotaccent\\\\n/dieresis /.notdef /ring /cedilla /.notdef /hungarumlaut /ogonek /caron /space]\\\\n>>\\\\nendobj\\\\n10 0 obj\\\\n<< /Type /Font /Subtype /Type1 /Name /F2 /BaseFont /Helvetica\\\\n/Encoding 9 0 R >>\\\\nendobj\\\\n11 0 obj\\\\n<< /Type /Font /Subtype /Type1 /Name /F3 /BaseFont /Helvetica-Bold\\\\n/Encoding 9 0 R >>\\\\nendobj\\\\nxref\\\\n0 12\\\\n0000000000 65535 f \\\\n0000000021 00000 n \\\\n0000000163 00000 n \\\\n0000003553 00000 n \\\\n0000003636 00000 n \\\\n0000003759 00000 n \\\\n0000003792 00000 n \\\\n0000000212 00000 n \\\\n0000000292 00000 n \\\\n0000006487 00000 n \\\\n0000006744 00000 n \\\\n0000006841 00000 n \\\\ntrailer\\\\n<< /Size 12 /Info 1 0 R /Root 2 0 R >>\\\\nstartxref\\\\n6943\\\\n%%EOF\\\\n'\",\n",
      "    \"type\": \"application/pdf\"\n",
      "  },\n",
      "  \"fragment length\": 0,\n",
      "  \"lab\": \"/labs/anshul-kundaje/\",\n",
      "  \"paired-end\": true,\n",
      "  \"quality_metric_of\": [\n",
      "    \"/files/TSTFF062707/\"\n",
      "  ],\n",
      "  \"read length\": 51,\n",
      "  \"sample size\": 25000000,\n",
      "  \"status\": \"released\",\n",
      "  \"step_run\": \"/analysis-step-runs/ce8ed9d4-2de6-41fe-ba64-09033c553ddb/\"\n",
      "}\n",
      "\n",
      "\n"
     ]
    },
    {
     "name": "stdout",
     "output_type": "stream",
     "text": [
      "2018-09-26 00:18:59,182:debug:\tFailed to POST N/A\n",
      "2018-09-26 00:18:59,184:debug:\t<<<<<< DCC POST RESPONSE: \n",
      "2018-09-26 00:18:59,186:debug:\t{\n",
      "  \"@type\": [\n",
      "    \"ValidationFailure\",\n",
      "    \"Error\"\n",
      "  ],\n",
      "  \"code\": 422,\n",
      "  \"description\": \"Failed validation\",\n",
      "  \"errors\": [\n",
      "    {\n",
      "      \"description\": \"Incorrect file type. (Appears to be application/octet-stream)\",\n",
      "      \"location\": \"body\",\n",
      "      \"name\": [\n",
      "        \"cross_correlation_plot\",\n",
      "        \"href\"\n",
      "      ]\n",
      "    }\n",
      "  ],\n",
      "  \"status\": \"error\",\n",
      "  \"title\": \"Unprocessable Entity\"\n",
      "}\n"
     ]
    },
    {
     "ename": "HTTPError",
     "evalue": "422 Client Error: Unprocessable Entity for url: https://test.encodedcc.org/complexity_xcorr_quality_metric",
     "output_type": "error",
     "traceback": [
      "\u001b[0;31m---------------------------------------------------------------------------\u001b[0m",
      "\u001b[0;31mHTTPError\u001b[0m                                 Traceback (most recent call last)",
      "\u001b[0;32m<ipython-input-3-fe1be9e16711>\u001b[0m in \u001b[0;36m<module>\u001b[0;34m()\u001b[0m\n\u001b[0;32m----> 1\u001b[0;31m \u001b[0malignment_bams\u001b[0m \u001b[0;34m=\u001b[0m \u001b[0macc\u001b[0m\u001b[0;34m.\u001b[0m\u001b[0maccession_alignment_outputs\u001b[0m\u001b[0;34m(\u001b[0m\u001b[0;34m)\u001b[0m\u001b[0;34m\u001b[0m\u001b[0m\n\u001b[0m",
      "\u001b[0;32m~/atac-seq-pipeline/accession.py\u001b[0m in \u001b[0;36maccession_alignment_outputs\u001b[0;34m(self, task_name, filekey)\u001b[0m\n\u001b[1;32m    377\u001b[0m                 \u001b[0;31m#                              in x['@type'],\u001b[0m\u001b[0;34m\u001b[0m\u001b[0;34m\u001b[0m\u001b[0m\n\u001b[1;32m    378\u001b[0m                 \u001b[0;31m#                    encode_bam_file['quality_metrics'])):\u001b[0m\u001b[0;34m\u001b[0m\u001b[0;34m\u001b[0m\u001b[0m\n\u001b[0;32m--> 379\u001b[0;31m                 \u001b[0mself\u001b[0m\u001b[0;34m.\u001b[0m\u001b[0mattach_cross_correlation_qc_to\u001b[0m\u001b[0;34m(\u001b[0m\u001b[0mencode_bam_file\u001b[0m\u001b[0;34m,\u001b[0m \u001b[0mbam\u001b[0m\u001b[0;34m)\u001b[0m\u001b[0;34m\u001b[0m\u001b[0m\n\u001b[0m\u001b[1;32m    380\u001b[0m                 \u001b[0maccessioned_alignment_bams\u001b[0m\u001b[0;34m.\u001b[0m\u001b[0mappend\u001b[0m\u001b[0;34m(\u001b[0m\u001b[0mencode_bam_file\u001b[0m\u001b[0;34m)\u001b[0m\u001b[0;34m\u001b[0m\u001b[0m\n\u001b[1;32m    381\u001b[0m         \u001b[0;32mreturn\u001b[0m \u001b[0maccessioned_alignment_bams\u001b[0m\u001b[0;34m\u001b[0m\u001b[0m\n",
      "\u001b[0;32m~/atac-seq-pipeline/accession.py\u001b[0m in \u001b[0;36mattach_cross_correlation_qc_to\u001b[0;34m(self, encode_bam_file, gs_file)\u001b[0m\n\u001b[1;32m    444\u001b[0m         \u001b[0mxcor_object\u001b[0m\u001b[0;34m.\u001b[0m\u001b[0mupdate\u001b[0m\u001b[0;34m(\u001b[0m\u001b[0mCOMMON_METADATA\u001b[0m\u001b[0;34m)\u001b[0m\u001b[0;34m\u001b[0m\u001b[0m\n\u001b[1;32m    445\u001b[0m         \u001b[0mxcor_object\u001b[0m\u001b[0;34m[\u001b[0m\u001b[0mConnection\u001b[0m\u001b[0;34m.\u001b[0m\u001b[0mPROFILE_KEY\u001b[0m\u001b[0;34m]\u001b[0m \u001b[0;34m=\u001b[0m \u001b[0;34m'complexity-xcorr-quality-metrics'\u001b[0m\u001b[0;34m\u001b[0m\u001b[0m\n\u001b[0;32m--> 446\u001b[0;31m         \u001b[0mposted_qc\u001b[0m \u001b[0;34m=\u001b[0m \u001b[0mself\u001b[0m\u001b[0;34m.\u001b[0m\u001b[0mconn\u001b[0m\u001b[0;34m.\u001b[0m\u001b[0mpost\u001b[0m\u001b[0;34m(\u001b[0m\u001b[0mxcor_object\u001b[0m\u001b[0;34m,\u001b[0m \u001b[0mrequire_aliases\u001b[0m\u001b[0;34m=\u001b[0m\u001b[0;32mFalse\u001b[0m\u001b[0;34m)\u001b[0m\u001b[0;34m\u001b[0m\u001b[0m\n\u001b[0m\u001b[1;32m    447\u001b[0m         \u001b[0;32mreturn\u001b[0m \u001b[0mposted_qc\u001b[0m\u001b[0;34m\u001b[0m\u001b[0m\n\u001b[1;32m    448\u001b[0m \u001b[0;34m\u001b[0m\u001b[0m\n",
      "\u001b[0;32m~/.pyenv/versions/3.5.3/lib/python3.5/site-packages/encode_utils/connection.py\u001b[0m in \u001b[0;36mpost\u001b[0;34m(self, payload, require_aliases)\u001b[0m\n\u001b[1;32m    965\u001b[0m             \u001b[0mself\u001b[0m\u001b[0;34m.\u001b[0m\u001b[0mdebug_logger\u001b[0m\u001b[0;34m.\u001b[0m\u001b[0mdebug\u001b[0m\u001b[0;34m(\u001b[0m\u001b[0;34m\"<<<<<< DCC POST RESPONSE: \"\u001b[0m\u001b[0;34m)\u001b[0m\u001b[0;34m\u001b[0m\u001b[0m\n\u001b[1;32m    966\u001b[0m             \u001b[0mself\u001b[0m\u001b[0;34m.\u001b[0m\u001b[0mdebug_logger\u001b[0m\u001b[0;34m.\u001b[0m\u001b[0mdebug\u001b[0m\u001b[0;34m(\u001b[0m\u001b[0meuu\u001b[0m\u001b[0;34m.\u001b[0m\u001b[0mprint_format_dict\u001b[0m\u001b[0;34m(\u001b[0m\u001b[0mresponse_json\u001b[0m\u001b[0;34m)\u001b[0m\u001b[0;34m)\u001b[0m\u001b[0;34m\u001b[0m\u001b[0m\n\u001b[0;32m--> 967\u001b[0;31m             \u001b[0mresponse\u001b[0m\u001b[0;34m.\u001b[0m\u001b[0mraise_for_status\u001b[0m\u001b[0;34m(\u001b[0m\u001b[0;34m)\u001b[0m\u001b[0;34m\u001b[0m\u001b[0m\n\u001b[0m\u001b[1;32m    968\u001b[0m \u001b[0;34m\u001b[0m\u001b[0m\n\u001b[1;32m    969\u001b[0m     \u001b[0;32mdef\u001b[0m \u001b[0mpatch\u001b[0m\u001b[0;34m(\u001b[0m\u001b[0mself\u001b[0m\u001b[0;34m,\u001b[0m \u001b[0mpayload\u001b[0m\u001b[0;34m,\u001b[0m \u001b[0mraise_403\u001b[0m\u001b[0;34m=\u001b[0m\u001b[0;32mTrue\u001b[0m\u001b[0;34m,\u001b[0m \u001b[0mextend_array_values\u001b[0m\u001b[0;34m=\u001b[0m\u001b[0;32mTrue\u001b[0m\u001b[0;34m)\u001b[0m\u001b[0;34m:\u001b[0m\u001b[0;34m\u001b[0m\u001b[0m\n",
      "\u001b[0;32m~/.pyenv/versions/3.5.3/lib/python3.5/site-packages/requests/models.py\u001b[0m in \u001b[0;36mraise_for_status\u001b[0;34m(self)\u001b[0m\n\u001b[1;32m    937\u001b[0m \u001b[0;34m\u001b[0m\u001b[0m\n\u001b[1;32m    938\u001b[0m         \u001b[0;32mif\u001b[0m \u001b[0mhttp_error_msg\u001b[0m\u001b[0;34m:\u001b[0m\u001b[0;34m\u001b[0m\u001b[0m\n\u001b[0;32m--> 939\u001b[0;31m             \u001b[0;32mraise\u001b[0m \u001b[0mHTTPError\u001b[0m\u001b[0;34m(\u001b[0m\u001b[0mhttp_error_msg\u001b[0m\u001b[0;34m,\u001b[0m \u001b[0mresponse\u001b[0m\u001b[0;34m=\u001b[0m\u001b[0mself\u001b[0m\u001b[0;34m)\u001b[0m\u001b[0;34m\u001b[0m\u001b[0m\n\u001b[0m\u001b[1;32m    940\u001b[0m \u001b[0;34m\u001b[0m\u001b[0m\n\u001b[1;32m    941\u001b[0m     \u001b[0;32mdef\u001b[0m \u001b[0mclose\u001b[0m\u001b[0;34m(\u001b[0m\u001b[0mself\u001b[0m\u001b[0;34m)\u001b[0m\u001b[0;34m:\u001b[0m\u001b[0;34m\u001b[0m\u001b[0m\n",
      "\u001b[0;31mHTTPError\u001b[0m: 422 Client Error: Unprocessable Entity for url: https://test.encodedcc.org/complexity_xcorr_quality_metric"
     ]
    }
   ],
   "source": [
    "alignment_bams = acc.accession_alignment_outputs()\n"
   ]
  },
  {
   "cell_type": "code",
   "execution_count": null,
   "metadata": {},
   "outputs": [],
   "source": [
    "list(filter(lambda x: 'SamtoolsFlagstatsQualityMetric'\n",
    "                                        in x['@type'],\n",
    "                              alignment_bams[0]['quality_metrics']))"
   ]
  },
  {
   "cell_type": "code",
   "execution_count": null,
   "metadata": {},
   "outputs": [],
   "source": [
    "tasks = acc.analysis.get_tasks('filter')"
   ]
  },
  {
   "cell_type": "code",
   "execution_count": null,
   "metadata": {},
   "outputs": [],
   "source": [
    "test_file = acc.analysis.get_files(filename=\"gs://atac-seq-accessioning-samples/atac/957638af-26f8-4bea-8280-2a088acf9783/call-filter/shard-0/glob-3bcbe4e7489c90f75e0523ac6f3a9385/ENCFF599TJR.merged.nodup.bam\")"
   ]
  },
  {
   "cell_type": "code",
   "execution_count": null,
   "metadata": {},
   "outputs": [],
   "source": []
  },
  {
   "cell_type": "code",
   "execution_count": null,
   "metadata": {},
   "outputs": [],
   "source": []
  },
  {
   "cell_type": "code",
   "execution_count": null,
   "metadata": {},
   "outputs": [],
   "source": [
    "from functools import reduce\n",
    "import operator\n",
    "test_file[0].used_by_tasks[0].task_name\n"
   ]
  },
  {
   "cell_type": "code",
   "execution_count": null,
   "metadata": {},
   "outputs": [],
   "source": [
    "a = next(acc.analysis.search_down(test_file[0].task, 'xcor', 'plot_pdf'))\n",
    "import base64\n",
    "# base64.b64encode(acc.backend.blob_from_filename(a.filename).download_as_string())"
   ]
  },
  {
   "cell_type": "code",
   "execution_count": null,
   "metadata": {},
   "outputs": [],
   "source": []
  },
  {
   "cell_type": "code",
   "execution_count": null,
   "metadata": {},
   "outputs": [],
   "source": []
  },
  {
   "cell_type": "code",
   "execution_count": null,
   "metadata": {},
   "outputs": [],
   "source": [
    "import mimetypes\n",
    "import magic"
   ]
  },
  {
   "cell_type": "code",
   "execution_count": null,
   "metadata": {},
   "outputs": [],
   "source": [
    "mimetypes.guess_type(a.filename.split('/')[-1])"
   ]
  },
  {
   "cell_type": "code",
   "execution_count": null,
   "metadata": {},
   "outputs": [],
   "source": [
    "contents = acc.backend.read_file(a.filename).decode('utf-8', errors='replace')\n",
    "#bcontents = base64.b64encode(contents)\n",
    "original_contents = acc.backend.read_file(a.filename)"
   ]
  },
  {
   "cell_type": "code",
   "execution_count": null,
   "metadata": {},
   "outputs": [],
   "source": []
  },
  {
   "cell_type": "code",
   "execution_count": null,
   "metadata": {},
   "outputs": [],
   "source": []
  },
  {
   "cell_type": "code",
   "execution_count": null,
   "metadata": {},
   "outputs": [],
   "source": []
  },
  {
   "cell_type": "code",
   "execution_count": null,
   "metadata": {},
   "outputs": [],
   "source": []
  },
  {
   "cell_type": "code",
   "execution_count": null,
   "metadata": {},
   "outputs": [],
   "source": [
    "original_contents"
   ]
  },
  {
   "cell_type": "code",
   "execution_count": null,
   "metadata": {},
   "outputs": [],
   "source": []
  },
  {
   "cell_type": "code",
   "execution_count": null,
   "metadata": {},
   "outputs": [],
   "source": [
    "contents"
   ]
  },
  {
   "cell_type": "code",
   "execution_count": null,
   "metadata": {},
   "outputs": [],
   "source": []
  },
  {
   "cell_type": "code",
   "execution_count": null,
   "metadata": {},
   "outputs": [],
   "source": []
  },
  {
   "cell_type": "code",
   "execution_count": null,
   "metadata": {},
   "outputs": [],
   "source": []
  },
  {
   "cell_type": "code",
   "execution_count": null,
   "metadata": {},
   "outputs": [],
   "source": []
  },
  {
   "cell_type": "code",
   "execution_count": null,
   "metadata": {},
   "outputs": [],
   "source": []
  },
  {
   "cell_type": "code",
   "execution_count": null,
   "metadata": {},
   "outputs": [],
   "source": []
  },
  {
   "cell_type": "code",
   "execution_count": null,
   "metadata": {},
   "outputs": [],
   "source": []
  },
  {
   "cell_type": "code",
   "execution_count": null,
   "metadata": {},
   "outputs": [],
   "source": []
  },
  {
   "cell_type": "code",
   "execution_count": null,
   "metadata": {},
   "outputs": [],
   "source": []
  },
  {
   "cell_type": "code",
   "execution_count": null,
   "metadata": {},
   "outputs": [],
   "source": [
    "contents"
   ]
  },
  {
   "cell_type": "code",
   "execution_count": null,
   "metadata": {},
   "outputs": [],
   "source": [
    "magic.from_buffer(contents, mime=True)"
   ]
  },
  {
   "cell_type": "code",
   "execution_count": null,
   "metadata": {},
   "outputs": [],
   "source": []
  },
  {
   "cell_type": "code",
   "execution_count": null,
   "metadata": {},
   "outputs": [],
   "source": []
  },
  {
   "cell_type": "code",
   "execution_count": null,
   "metadata": {},
   "outputs": [],
   "source": []
  },
  {
   "cell_type": "code",
   "execution_count": null,
   "metadata": {},
   "outputs": [],
   "source": []
  },
  {
   "cell_type": "code",
   "execution_count": null,
   "metadata": {},
   "outputs": [],
   "source": []
  },
  {
   "cell_type": "code",
   "execution_count": null,
   "metadata": {},
   "outputs": [],
   "source": []
  },
  {
   "cell_type": "code",
   "execution_count": null,
   "metadata": {},
   "outputs": [],
   "source": []
  },
  {
   "cell_type": "code",
   "execution_count": null,
   "metadata": {},
   "outputs": [],
   "source": []
  },
  {
   "cell_type": "code",
   "execution_count": null,
   "metadata": {},
   "outputs": [],
   "source": []
  },
  {
   "cell_type": "code",
   "execution_count": null,
   "metadata": {},
   "outputs": [],
   "source": [
    "a.filename"
   ]
  },
  {
   "cell_type": "code",
   "execution_count": null,
   "metadata": {},
   "outputs": [],
   "source": [
    "for file in acc.analysis.get_tasks('xcor')[0].output_files:\n",
    "    print(file.filekeys)"
   ]
  },
  {
   "cell_type": "code",
   "execution_count": null,
   "metadata": {},
   "outputs": [],
   "source": []
  },
  {
   "cell_type": "code",
   "execution_count": null,
   "metadata": {},
   "outputs": [],
   "source": []
  },
  {
   "cell_type": "code",
   "execution_count": null,
   "metadata": {},
   "outputs": [],
   "source": []
  },
  {
   "cell_type": "code",
   "execution_count": null,
   "metadata": {},
   "outputs": [],
   "source": []
  },
  {
   "cell_type": "code",
   "execution_count": null,
   "metadata": {},
   "outputs": [],
   "source": []
  },
  {
   "cell_type": "code",
   "execution_count": null,
   "metadata": {},
   "outputs": [],
   "source": []
  },
  {
   "cell_type": "code",
   "execution_count": null,
   "metadata": {},
   "outputs": [],
   "source": []
  },
  {
   "cell_type": "code",
   "execution_count": null,
   "metadata": {},
   "outputs": [],
   "source": []
  },
  {
   "cell_type": "code",
   "execution_count": null,
   "metadata": {},
   "outputs": [],
   "source": []
  },
  {
   "cell_type": "code",
   "execution_count": null,
   "metadata": {},
   "outputs": [],
   "source": []
  },
  {
   "cell_type": "code",
   "execution_count": null,
   "metadata": {},
   "outputs": [],
   "source": []
  },
  {
   "cell_type": "code",
   "execution_count": null,
   "metadata": {},
   "outputs": [],
   "source": []
  },
  {
   "cell_type": "code",
   "execution_count": null,
   "metadata": {},
   "outputs": [],
   "source": []
  },
  {
   "cell_type": "code",
   "execution_count": null,
   "metadata": {},
   "outputs": [],
   "source": []
  },
  {
   "cell_type": "code",
   "execution_count": null,
   "metadata": {},
   "outputs": [],
   "source": []
  },
  {
   "cell_type": "code",
   "execution_count": null,
   "metadata": {},
   "outputs": [],
   "source": [
    "acc.backend.blob_from_filename(a.filename).download_as_string()"
   ]
  },
  {
   "cell_type": "code",
   "execution_count": null,
   "metadata": {},
   "outputs": [],
   "source": []
  },
  {
   "cell_type": "code",
   "execution_count": null,
   "metadata": {},
   "outputs": [],
   "source": []
  },
  {
   "cell_type": "code",
   "execution_count": null,
   "metadata": {},
   "outputs": [],
   "source": []
  },
  {
   "cell_type": "code",
   "execution_count": null,
   "metadata": {},
   "outputs": [],
   "source": []
  },
  {
   "cell_type": "code",
   "execution_count": null,
   "metadata": {},
   "outputs": [],
   "source": []
  },
  {
   "cell_type": "code",
   "execution_count": null,
   "metadata": {},
   "outputs": [],
   "source": []
  },
  {
   "cell_type": "code",
   "execution_count": null,
   "metadata": {},
   "outputs": [],
   "source": []
  },
  {
   "cell_type": "code",
   "execution_count": null,
   "metadata": {},
   "outputs": [],
   "source": []
  },
  {
   "cell_type": "code",
   "execution_count": null,
   "metadata": {},
   "outputs": [],
   "source": [
    "acc.backend.read_file(\"gs://atac-seq-accessioning-samples/atac/957638af-26f8-4bea-8280-2a088acf9783/call-qc_report/glob-3440f922973abb7a616aaf203e0db08b/qc.json\"\n",
    "                     )"
   ]
  },
  {
   "cell_type": "code",
   "execution_count": null,
   "metadata": {},
   "outputs": [],
   "source": []
  },
  {
   "cell_type": "code",
   "execution_count": null,
   "metadata": {},
   "outputs": [],
   "source": []
  },
  {
   "cell_type": "code",
   "execution_count": null,
   "metadata": {},
   "outputs": [],
   "source": []
  },
  {
   "cell_type": "code",
   "execution_count": null,
   "metadata": {},
   "outputs": [],
   "source": []
  },
  {
   "cell_type": "code",
   "execution_count": null,
   "metadata": {},
   "outputs": [],
   "source": []
  },
  {
   "cell_type": "code",
   "execution_count": null,
   "metadata": {},
   "outputs": [],
   "source": []
  },
  {
   "cell_type": "code",
   "execution_count": null,
   "metadata": {},
   "outputs": [],
   "source": []
  },
  {
   "cell_type": "code",
   "execution_count": null,
   "metadata": {},
   "outputs": [],
   "source": []
  },
  {
   "cell_type": "code",
   "execution_count": null,
   "metadata": {},
   "outputs": [],
   "source": []
  },
  {
   "cell_type": "code",
   "execution_count": null,
   "metadata": {},
   "outputs": [],
   "source": []
  },
  {
   "cell_type": "code",
   "execution_count": null,
   "metadata": {},
   "outputs": [],
   "source": []
  },
  {
   "cell_type": "code",
   "execution_count": null,
   "metadata": {},
   "outputs": [],
   "source": []
  },
  {
   "cell_type": "code",
   "execution_count": null,
   "metadata": {},
   "outputs": [],
   "source": []
  },
  {
   "cell_type": "code",
   "execution_count": null,
   "metadata": {},
   "outputs": [],
   "source": []
  },
  {
   "cell_type": "code",
   "execution_count": null,
   "metadata": {},
   "outputs": [],
   "source": []
  },
  {
   "cell_type": "code",
   "execution_count": null,
   "metadata": {},
   "outputs": [],
   "source": []
  },
  {
   "cell_type": "code",
   "execution_count": null,
   "metadata": {},
   "outputs": [],
   "source": []
  },
  {
   "cell_type": "code",
   "execution_count": null,
   "metadata": {},
   "outputs": [],
   "source": []
  },
  {
   "cell_type": "code",
   "execution_count": null,
   "metadata": {},
   "outputs": [],
   "source": []
  },
  {
   "cell_type": "code",
   "execution_count": null,
   "metadata": {},
   "outputs": [],
   "source": []
  },
  {
   "cell_type": "code",
   "execution_count": null,
   "metadata": {},
   "outputs": [],
   "source": []
  },
  {
   "cell_type": "code",
   "execution_count": null,
   "metadata": {},
   "outputs": [],
   "source": []
  },
  {
   "cell_type": "code",
   "execution_count": null,
   "metadata": {},
   "outputs": [],
   "source": []
  },
  {
   "cell_type": "code",
   "execution_count": null,
   "metadata": {},
   "outputs": [],
   "source": []
  },
  {
   "cell_type": "code",
   "execution_count": null,
   "metadata": {},
   "outputs": [],
   "source": []
  },
  {
   "cell_type": "code",
   "execution_count": null,
   "metadata": {},
   "outputs": [],
   "source": []
  },
  {
   "cell_type": "code",
   "execution_count": null,
   "metadata": {},
   "outputs": [],
   "source": []
  },
  {
   "cell_type": "code",
   "execution_count": null,
   "metadata": {},
   "outputs": [],
   "source": []
  },
  {
   "cell_type": "code",
   "execution_count": null,
   "metadata": {},
   "outputs": [],
   "source": []
  },
  {
   "cell_type": "code",
   "execution_count": null,
   "metadata": {},
   "outputs": [],
   "source": []
  },
  {
   "cell_type": "code",
   "execution_count": null,
   "metadata": {},
   "outputs": [],
   "source": []
  },
  {
   "cell_type": "code",
   "execution_count": null,
   "metadata": {},
   "outputs": [],
   "source": []
  },
  {
   "cell_type": "code",
   "execution_count": null,
   "metadata": {},
   "outputs": [],
   "source": []
  },
  {
   "cell_type": "code",
   "execution_count": null,
   "metadata": {},
   "outputs": [],
   "source": []
  },
  {
   "cell_type": "code",
   "execution_count": null,
   "metadata": {},
   "outputs": [],
   "source": []
  },
  {
   "cell_type": "code",
   "execution_count": null,
   "metadata": {},
   "outputs": [],
   "source": []
  },
  {
   "cell_type": "code",
   "execution_count": null,
   "metadata": {},
   "outputs": [],
   "source": []
  },
  {
   "cell_type": "code",
   "execution_count": null,
   "metadata": {},
   "outputs": [],
   "source": []
  },
  {
   "cell_type": "code",
   "execution_count": null,
   "metadata": {},
   "outputs": [],
   "source": []
  },
  {
   "cell_type": "code",
   "execution_count": null,
   "metadata": {},
   "outputs": [],
   "source": []
  },
  {
   "cell_type": "code",
   "execution_count": null,
   "metadata": {},
   "outputs": [],
   "source": []
  },
  {
   "cell_type": "code",
   "execution_count": null,
   "metadata": {},
   "outputs": [],
   "source": []
  },
  {
   "cell_type": "code",
   "execution_count": null,
   "metadata": {},
   "outputs": [],
   "source": []
  },
  {
   "cell_type": "code",
   "execution_count": null,
   "metadata": {},
   "outputs": [],
   "source": []
  },
  {
   "cell_type": "code",
   "execution_count": null,
   "metadata": {},
   "outputs": [],
   "source": []
  },
  {
   "cell_type": "code",
   "execution_count": null,
   "metadata": {},
   "outputs": [],
   "source": []
  },
  {
   "cell_type": "code",
   "execution_count": null,
   "metadata": {},
   "outputs": [],
   "source": []
  },
  {
   "cell_type": "code",
   "execution_count": null,
   "metadata": {},
   "outputs": [],
   "source": []
  },
  {
   "cell_type": "code",
   "execution_count": null,
   "metadata": {},
   "outputs": [],
   "source": []
  },
  {
   "cell_type": "code",
   "execution_count": null,
   "metadata": {},
   "outputs": [],
   "source": []
  },
  {
   "cell_type": "code",
   "execution_count": null,
   "metadata": {},
   "outputs": [],
   "source": []
  },
  {
   "cell_type": "code",
   "execution_count": null,
   "metadata": {},
   "outputs": [],
   "source": []
  },
  {
   "cell_type": "code",
   "execution_count": null,
   "metadata": {},
   "outputs": [],
   "source": []
  },
  {
   "cell_type": "code",
   "execution_count": null,
   "metadata": {},
   "outputs": [],
   "source": []
  },
  {
   "cell_type": "code",
   "execution_count": null,
   "metadata": {},
   "outputs": [],
   "source": []
  },
  {
   "cell_type": "code",
   "execution_count": null,
   "metadata": {},
   "outputs": [],
   "source": []
  },
  {
   "cell_type": "code",
   "execution_count": null,
   "metadata": {},
   "outputs": [],
   "source": []
  },
  {
   "cell_type": "code",
   "execution_count": null,
   "metadata": {},
   "outputs": [],
   "source": []
  },
  {
   "cell_type": "code",
   "execution_count": null,
   "metadata": {},
   "outputs": [],
   "source": []
  },
  {
   "cell_type": "code",
   "execution_count": null,
   "metadata": {},
   "outputs": [],
   "source": []
  },
  {
   "cell_type": "code",
   "execution_count": null,
   "metadata": {},
   "outputs": [],
   "source": []
  },
  {
   "cell_type": "code",
   "execution_count": null,
   "metadata": {},
   "outputs": [],
   "source": []
  },
  {
   "cell_type": "code",
   "execution_count": null,
   "metadata": {},
   "outputs": [],
   "source": []
  },
  {
   "cell_type": "code",
   "execution_count": null,
   "metadata": {},
   "outputs": [],
   "source": []
  },
  {
   "cell_type": "code",
   "execution_count": null,
   "metadata": {},
   "outputs": [],
   "source": []
  },
  {
   "cell_type": "code",
   "execution_count": null,
   "metadata": {},
   "outputs": [],
   "source": []
  },
  {
   "cell_type": "code",
   "execution_count": null,
   "metadata": {},
   "outputs": [],
   "source": []
  },
  {
   "cell_type": "code",
   "execution_count": null,
   "metadata": {},
   "outputs": [],
   "source": []
  },
  {
   "cell_type": "code",
   "execution_count": null,
   "metadata": {},
   "outputs": [],
   "source": []
  },
  {
   "cell_type": "code",
   "execution_count": null,
   "metadata": {},
   "outputs": [],
   "source": []
  },
  {
   "cell_type": "code",
   "execution_count": null,
   "metadata": {},
   "outputs": [],
   "source": []
  },
  {
   "cell_type": "code",
   "execution_count": null,
   "metadata": {},
   "outputs": [],
   "source": []
  },
  {
   "cell_type": "code",
   "execution_count": null,
   "metadata": {},
   "outputs": [],
   "source": []
  },
  {
   "cell_type": "code",
   "execution_count": null,
   "metadata": {},
   "outputs": [],
   "source": []
  },
  {
   "cell_type": "code",
   "execution_count": null,
   "metadata": {},
   "outputs": [],
   "source": []
  },
  {
   "cell_type": "code",
   "execution_count": null,
   "metadata": {},
   "outputs": [],
   "source": []
  },
  {
   "cell_type": "code",
   "execution_count": null,
   "metadata": {},
   "outputs": [],
   "source": []
  },
  {
   "cell_type": "code",
   "execution_count": null,
   "metadata": {},
   "outputs": [],
   "source": []
  },
  {
   "cell_type": "code",
   "execution_count": null,
   "metadata": {},
   "outputs": [],
   "source": []
  },
  {
   "cell_type": "code",
   "execution_count": null,
   "metadata": {},
   "outputs": [],
   "source": []
  },
  {
   "cell_type": "code",
   "execution_count": null,
   "metadata": {},
   "outputs": [],
   "source": []
  },
  {
   "cell_type": "code",
   "execution_count": null,
   "metadata": {},
   "outputs": [],
   "source": []
  },
  {
   "cell_type": "code",
   "execution_count": null,
   "metadata": {},
   "outputs": [],
   "source": []
  },
  {
   "cell_type": "code",
   "execution_count": null,
   "metadata": {},
   "outputs": [],
   "source": []
  }
 ],
 "metadata": {
  "kernelspec": {
   "display_name": "Python 3",
   "language": "python",
   "name": "python3"
  },
  "language_info": {
   "codemirror_mode": {
    "name": "ipython",
    "version": 3
   },
   "file_extension": ".py",
   "mimetype": "text/x-python",
   "name": "python",
   "nbconvert_exporter": "python",
   "pygments_lexer": "ipython3",
   "version": "3.5.3"
  }
 },
 "nbformat": 4,
 "nbformat_minor": 2
}
