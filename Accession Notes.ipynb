{
 "cells": [
  {
   "cell_type": "code",
   "execution_count": 1,
   "metadata": {},
   "outputs": [],
   "source": [
    "from accession import Accession"
   ]
  },
  {
   "cell_type": "code",
   "execution_count": 2,
   "metadata": {},
   "outputs": [
    {
     "name": "stdout",
     "output_type": "stream",
     "text": [
      "2018-10-23 15:48:16,307:debug:\tConnecting to test.encodedcc.org\n",
      "2018-10-23 15:48:16,309:debug:\tsubmission=False: In non-submission mode.\n"
     ]
    }
   ],
   "source": [
    "acc = Accession('ENCSR609OHJ',\n",
    "                'output_ENCSR609OHJ_metadata.json',\n",
    "                'atac-seq-accessioning-samples',\n",
    "                'dev')"
   ]
  },
  {
   "cell_type": "code",
   "execution_count": 3,
   "metadata": {},
   "outputs": [],
   "source": [
    "step_run_id = '/analysis-step-runs/76762c04-4c63-4159-9e8a-047671f214f7/'"
   ]
  },
  {
   "cell_type": "code",
   "execution_count": 4,
   "metadata": {},
   "outputs": [
    {
     "name": "stdout",
     "output_type": "stream",
     "text": [
      "2018-10-23 15:48:16,326:debug:\t>>>>>>GETTING analysis-step-runs/76762c04-4c63-4159-9e8a-047671f214f7 From DCC with URL https://test.encodedcc.org/analysis-step-runs/76762c04-4c63-4159-9e8a-047671f214f7/?format=json\n"
     ]
    },
    {
     "data": {
      "text/plain": [
       "{'@context': '/terms/',\n",
       " '@id': '/analysis-step-runs/76762c04-4c63-4159-9e8a-047671f214f7/',\n",
       " '@type': ['AnalysisStepRun', 'Item'],\n",
       " 'actions': [{'href': '/analysis-step-runs/76762c04-4c63-4159-9e8a-047671f214f7/#!edit-json',\n",
       "   'name': 'edit-json',\n",
       "   'profile': '/profiles/AnalysisStepRun.json',\n",
       "   'title': 'Edit JSON'},\n",
       "  {'href': '/analysis-step-runs/76762c04-4c63-4159-9e8a-047671f214f7/#!edit',\n",
       "   'name': 'edit',\n",
       "   'profile': '/profiles/AnalysisStepRun.json',\n",
       "   'title': 'Edit'}],\n",
       " 'aliases': ['anshul-kundaje:atac-seq-trim-align-filter-step-run-v1'],\n",
       " 'analysis_step_version': {'@id': '/analysis-step-versions/kundaje-lab-atac-seq-trim-align-filter-step-v-1-0/',\n",
       "  '@type': ['AnalysisStepVersion', 'Item'],\n",
       "  'aliases': ['anshul-kundaje:atac-seq-trim-align-filter-step-version-v1'],\n",
       "  'analysis_step': {'@id': '/analysis-steps/kundaje-lab-atac-seq-trim-align-filter-step-v-1/',\n",
       "   '@type': ['AnalysisStep', 'Item'],\n",
       "   'aliases': ['anshul-kundaje:atac-seq-trim-align-filter-step-v1'],\n",
       "   'analysis_step_types': ['read trimming', 'alignment', 'filtering'],\n",
       "   'current_version': '/analysis-step-versions/kundaje-lab-atac-seq-trim-align-filter-step-v-1-0/',\n",
       "   'date_created': '2016-03-08T18:12:24.875270+00:00',\n",
       "   'documents': [],\n",
       "   'input_file_types': ['reads'],\n",
       "   'major_version': 1,\n",
       "   'name': 'kundaje-lab-atac-seq-trim-align-filter-step-v-1',\n",
       "   'output_file_types': ['unfiltered alignments', 'alignments'],\n",
       "   'pipelines': ['/pipelines/ENCPL792NWO/'],\n",
       "   'schema_version': '6',\n",
       "   'status': 'released',\n",
       "   'step_label': 'kundaje-lab-atac-seq-trim-align-filter-step',\n",
       "   'submitted_by': '/users/9851ccbc-2df9-4529-a4f3-90edee981fc0/',\n",
       "   'title': 'Kundaje lab ATAC-seq trim, align, and filter step',\n",
       "   'uuid': '4800cf73-ef3c-4e6d-8ac4-8453fb60f315',\n",
       "   'versions': ['/analysis-step-versions/kundaje-lab-atac-seq-trim-align-filter-step-v-1-0/']},\n",
       "  'date_created': '2016-12-07T01:00:09.351760+00:00',\n",
       "  'minor_version': 0,\n",
       "  'name': 'kundaje-lab-atac-seq-trim-align-filter-step-v-1-0',\n",
       "  'schema_version': '4',\n",
       "  'software_versions': ['/software-versions/6584bfb8-8dcd-4f46-b098-55eebc85a369/',\n",
       "   '/software-versions/daf1898a-d376-48fb-b24d-24075202be19/'],\n",
       "  'status': 'in progress',\n",
       "  'submitted_by': '/users/4c23ec32-c7c8-4ac0-affb-04befcc881d4/',\n",
       "  'uuid': 'ea16954f-8b24-4364-b588-23a77c786012'},\n",
       " 'audit': {'INTERNAL_ACTION': [{'category': 'mismatched status',\n",
       "    'detail': 'released /analysis-step-runs/76762c04-4c63-4159-9e8a-047671f214f7/ has in progress subobject /analysis-step-versions/kundaje-lab-atac-seq-trim-align-filter-step-v-1-0/',\n",
       "    'level': 30,\n",
       "    'level_name': 'INTERNAL_ACTION',\n",
       "    'name': 'audit_item_status',\n",
       "    'path': '/analysis-step-runs/76762c04-4c63-4159-9e8a-047671f214f7/'}]},\n",
       " 'date_created': '2016-12-07T01:34:11.246181+00:00',\n",
       " 'schema_version': '5',\n",
       " 'status': 'released',\n",
       " 'submitted_by': '/users/4c23ec32-c7c8-4ac0-affb-04befcc881d4/',\n",
       " 'uuid': '76762c04-4c63-4159-9e8a-047671f214f7'}"
      ]
     },
     "execution_count": 4,
     "metadata": {},
     "output_type": "execute_result"
    }
   ],
   "source": [
    "acc.conn.get('/analysis-step-runs/76762c04-4c63-4159-9e8a-047671f214f7/')"
   ]
  },
  {
   "cell_type": "code",
   "execution_count": null,
   "metadata": {},
   "outputs": [],
   "source": []
  },
  {
   "cell_type": "code",
   "execution_count": null,
   "metadata": {},
   "outputs": [],
   "source": []
  },
  {
   "cell_type": "code",
   "execution_count": null,
   "metadata": {},
   "outputs": [],
   "source": []
  },
  {
   "cell_type": "code",
   "execution_count": null,
   "metadata": {},
   "outputs": [],
   "source": []
  },
  {
   "cell_type": "code",
   "execution_count": null,
   "metadata": {},
   "outputs": [],
   "source": []
  },
  {
   "cell_type": "code",
   "execution_count": 3,
   "metadata": {},
   "outputs": [
    {
     "name": "stdout",
     "output_type": "stream",
     "text": [
      "2018-10-05 14:38:59,489:debug:\t\n",
      "IN post().\n",
      "2018-10-05 14:38:59,491:debug:\t<<<<<< POSTING anshul-kundaje:atac-seq-overlap-step-run-v1-97940d0951cf2c3df554584f18ee8e6f1ac9bd39aa39326c6a0f7110d8037398 To DCC with URL https://test.encodedcc.org/analysis_step_run and this payload:\n",
      "\n",
      "{\n",
      "  \"aliases\": [\n",
      "    \"anshul-kundaje:atac-seq-overlap-step-run-v1-97940d0951cf2c3df554584f18ee8e6f1ac9bd39aa39326c6a0f7110d8037398\"\n",
      "  ],\n",
      "  \"analysis_step_version\": \"anshul-kundaje:atac-seq-overlap-step-version-v1\",\n",
      "  \"status\": \"released\"\n",
      "}\n",
      "\n",
      "\n",
      "2018-10-05 14:38:59,659:debug:\t{'@type': ['HTTPConflict', 'Error'], 'description': 'There was a conflict when trying to complete your request.', 'status': 'error', 'title': 'Conflict', 'code': 409, 'detail': \"Keys conflict: [('alias', 'anshul-kundaje:atac-seq-overlap-step-run-v1-97940d0951cf2c3df554584f18ee8e6f1ac9bd39aa39326c6a0f7110d8037398')]\"}\n",
      "2018-10-05 14:38:59,660:debug:\t>>>>>>GETTING anshul-kundaje:atac-seq-overlap-step-run-v1-97940d0951cf2c3df554584f18ee8e6f1ac9bd39aa39326c6a0f7110d8037398 From DCC with URL https://test.encodedcc.org/anshul-kundaje:atac-seq-overlap-step-run-v1-97940d0951cf2c3df554584f18ee8e6f1ac9bd39aa39326c6a0f7110d8037398/?format=json\n",
      "2018-10-05 14:38:59,947:debug:\tWill not POST 'anshul-kundaje:atac-seq-overlap-step-run-v1-97940d0951cf2c3df554584f18ee8e6f1ac9bd39aa39326c6a0f7110d8037398' since it already exists with aliases '['anshul-kundaje:atac-seq-overlap-step-run-v1-97940d0951cf2c3df554584f18ee8e6f1ac9bd39aa39326c6a0f7110d8037398']'.\n",
      "2018-10-05 14:38:59,977:debug:\tSearching DCC with query https://test.encodedcc.org/search/?md5sum=0deff88ce977fb5027283b3a533d6534&type=File&limit=all.\n",
      "2018-10-05 14:39:00,132:debug:\t>>>>>>GETTING TSTFF619738 From DCC with URL https://test.encodedcc.org/TSTFF619738/?format=json\n",
      "2018-10-05 14:39:00,493:debug:\tSearching DCC with query https://test.encodedcc.org/search/?md5sum=81c4c893757dc80720b658152cb75ffb&type=File&limit=all.\n",
      "2018-10-05 14:39:00,675:debug:\t>>>>>>GETTING TSTFF691970 From DCC with URL https://test.encodedcc.org/TSTFF691970/?format=json\n",
      "2018-10-05 14:39:01,444:debug:\tSearching DCC with query https://test.encodedcc.org/search/?md5sum=25ced18cf98ce293d31d98f62c7a6741&type=File&limit=all.\n",
      "2018-10-05 14:39:01,639:debug:\t>>>>>>GETTING TSTFF182397 From DCC with URL https://test.encodedcc.org/TSTFF182397/?format=json\n",
      "2018-10-05 14:39:01,915:debug:\tSearching DCC with query https://test.encodedcc.org/search/?md5sum=0deff88ce977fb5027283b3a533d6534&type=File&limit=all.\n",
      "2018-10-05 14:39:02,098:debug:\t>>>>>>GETTING TSTFF619738 From DCC with URL https://test.encodedcc.org/TSTFF619738/?format=json\n",
      "2018-10-05 14:39:02,431:debug:\tSearching DCC with query https://test.encodedcc.org/search/?md5sum=81c4c893757dc80720b658152cb75ffb&type=File&limit=all.\n",
      "2018-10-05 14:39:02,560:debug:\t>>>>>>GETTING TSTFF691970 From DCC with URL https://test.encodedcc.org/TSTFF691970/?format=json\n",
      "2018-10-05 14:39:02,850:debug:\tSearching DCC with query https://test.encodedcc.org/search/?md5sum=e962bd282849e8602210e1a112fe3d51&type=File&limit=all.\n",
      "2018-10-05 14:39:03,179:debug:\t\n",
      "IN post().\n",
      "2018-10-05 14:39:03,181:debug:\t<<<<<< POSTING anshul-kundaje:atac-seq-accessioning-samples-atac-957638af-26f8-4bea-8280-2a088acf9783-call-reproducibility_overlap-glob-22e3d03fe6b8b90f0963d38f9aa9b6fa-conservative_peak.gz To DCC with URL https://test.encodedcc.org/file and this payload:\n",
      "\n",
      "{\n",
      "  \"aliases\": [\n",
      "    \"anshul-kundaje:atac-seq-accessioning-samples-atac-957638af-26f8-4bea-8280-2a088acf9783-call-reproducibility_overlap-glob-22e3d03fe6b8b90f0963d38f9aa9b6fa-conservative_peak.gz\"\n",
      "  ],\n",
      "  \"assembly\": \"mm10\",\n",
      "  \"award\": \"U41HG007000\",\n",
      "  \"dataset\": \"/experiments/ENCSR609OHJ/\",\n",
      "  \"derived_from\": [\n",
      "    \"/files/TSTFF619738/\",\n",
      "    \"/files/TSTFF691970/\"\n",
      "  ],\n",
      "  \"file_format\": \"bed\",\n",
      "  \"file_format_type\": \"narrowPeak\",\n",
      "  \"file_size\": 4918573,\n",
      "  \"lab\": \"/labs/anshul-kundaje/\",\n",
      "  \"md5sum\": \"e962bd282849e8602210e1a112fe3d51\",\n",
      "  \"output_type\": \"conservative replicated peaks\",\n",
      "  \"status\": \"uploading\",\n",
      "  \"step_run\": \"/analysis-step-runs/7da11ce5-7d03-4083-8d3b-e560212e3e22/\",\n",
      "  \"submitted_file_name\": \"/var/folders/5y/616wzw4n5nd6g10d0ycs6pdr0000gp/T/tmporqczz59\"\n",
      "}\n",
      "\n",
      "\n",
      "2018-10-05 14:39:03,297:debug:\tFailed to POST anshul-kundaje:atac-seq-accessioning-samples-atac-957638af-26f8-4bea-8280-2a088acf9783-call-reproducibility_overlap-glob-22e3d03fe6b8b90f0963d38f9aa9b6fa-conservative_peak.gz\n",
      "2018-10-05 14:39:03,298:debug:\t<<<<<< DCC POST RESPONSE: \n",
      "2018-10-05 14:39:03,299:debug:\t{\n",
      "  \"@type\": [\n",
      "    \"ValidationFailure\",\n",
      "    \"Error\"\n",
      "  ],\n",
      "  \"code\": 422,\n",
      "  \"description\": \"Failed validation\",\n",
      "  \"errors\": [\n",
      "    {\n",
      "      \"description\": \"'conservative replicated peaks' is not valid under any of the given schemas\",\n",
      "      \"location\": \"body\",\n",
      "      \"name\": [\n",
      "        \"output_type\"\n",
      "      ]\n",
      "    }\n",
      "  ],\n",
      "  \"status\": \"error\",\n",
      "  \"title\": \"Unprocessable Entity\"\n",
      "}\n"
     ]
    },
    {
     "ename": "HTTPError",
     "evalue": "422 Client Error: Unprocessable Entity for url: https://test.encodedcc.org/file",
     "output_type": "error",
     "traceback": [
      "\u001b[0;31m---------------------------------------------------------------------------\u001b[0m",
      "\u001b[0;31mHTTPError\u001b[0m                                 Traceback (most recent call last)",
      "\u001b[0;32m<ipython-input-3-c618b97748a5>\u001b[0m in \u001b[0;36m<module>\u001b[0;34m()\u001b[0m\n\u001b[0;32m----> 1\u001b[0;31m \u001b[0moverlap_peaks\u001b[0m \u001b[0;34m=\u001b[0m \u001b[0macc\u001b[0m\u001b[0;34m.\u001b[0m\u001b[0maccession_overlap_peaks\u001b[0m\u001b[0;34m(\u001b[0m\u001b[0;34m)\u001b[0m\u001b[0;34m\u001b[0m\u001b[0m\n\u001b[0m",
      "\u001b[0;32m~/atac-seq-pipeline/accession.py\u001b[0m in \u001b[0;36maccession_overlap_peaks\u001b[0;34m(self, task_name)\u001b[0m\n\u001b[1;32m    644\u001b[0m                                                       \u001b[0;34m'macs2'\u001b[0m\u001b[0;34m,\u001b[0m\u001b[0;34m\u001b[0m\u001b[0m\n\u001b[1;32m    645\u001b[0m                                                       'bfilt_npeak')\n\u001b[0;32m--> 646\u001b[0;31m                         \u001b[0mencode_file\u001b[0m \u001b[0;34m=\u001b[0m \u001b[0mself\u001b[0m\u001b[0;34m.\u001b[0m\u001b[0maccession_file\u001b[0m\u001b[0;34m(\u001b[0m\u001b[0mfile_obj\u001b[0m\u001b[0;34m,\u001b[0m \u001b[0mbed\u001b[0m\u001b[0;34m)\u001b[0m\u001b[0;34m\u001b[0m\u001b[0m\n\u001b[0m\u001b[1;32m    647\u001b[0m                         \u001b[0maccessioned_idr_peaks\u001b[0m\u001b[0;34m.\u001b[0m\u001b[0mappend\u001b[0m\u001b[0;34m(\u001b[0m\u001b[0mencode_file\u001b[0m\u001b[0;34m)\u001b[0m\u001b[0;34m\u001b[0m\u001b[0m\n\u001b[1;32m    648\u001b[0m             \u001b[0;32mreturn\u001b[0m \u001b[0maccessioned_idr_peaks\u001b[0m\u001b[0;34m\u001b[0m\u001b[0m\n",
      "\u001b[0;32m~/atac-seq-pipeline/accession.py\u001b[0m in \u001b[0;36maccession_file\u001b[0;34m(self, encode_file, gs_file)\u001b[0m\n\u001b[1;32m    302\u001b[0m             \u001b[0mlocal_file\u001b[0m \u001b[0;34m=\u001b[0m \u001b[0mself\u001b[0m\u001b[0;34m.\u001b[0m\u001b[0mbackend\u001b[0m\u001b[0;34m.\u001b[0m\u001b[0mdownload\u001b[0m\u001b[0;34m(\u001b[0m\u001b[0mgs_file\u001b[0m\u001b[0;34m.\u001b[0m\u001b[0mfilename\u001b[0m\u001b[0;34m)\u001b[0m\u001b[0;34m[\u001b[0m\u001b[0;36m0\u001b[0m\u001b[0;34m]\u001b[0m\u001b[0;34m\u001b[0m\u001b[0m\n\u001b[1;32m    303\u001b[0m             \u001b[0mencode_file\u001b[0m\u001b[0;34m[\u001b[0m\u001b[0;34m'submitted_file_name'\u001b[0m\u001b[0;34m]\u001b[0m \u001b[0;34m=\u001b[0m \u001b[0mlocal_file\u001b[0m\u001b[0;34m\u001b[0m\u001b[0m\n\u001b[0;32m--> 304\u001b[0;31m             \u001b[0mencode_posted_file\u001b[0m \u001b[0;34m=\u001b[0m \u001b[0mself\u001b[0m\u001b[0;34m.\u001b[0m\u001b[0mconn\u001b[0m\u001b[0;34m.\u001b[0m\u001b[0mpost\u001b[0m\u001b[0;34m(\u001b[0m\u001b[0mencode_file\u001b[0m\u001b[0;34m)\u001b[0m\u001b[0;34m\u001b[0m\u001b[0m\n\u001b[0m\u001b[1;32m    305\u001b[0m             \u001b[0;31m# self.conn.upload_file(file_id=encode_posted_file.get('accession'),\u001b[0m\u001b[0;34m\u001b[0m\u001b[0;34m\u001b[0m\u001b[0m\n\u001b[1;32m    306\u001b[0m             \u001b[0;31m#                       file_path=local_file)\u001b[0m\u001b[0;34m\u001b[0m\u001b[0;34m\u001b[0m\u001b[0m\n",
      "\u001b[0;32m~/.pyenv/versions/3.5.3/lib/python3.5/site-packages/encode_utils/connection.py\u001b[0m in \u001b[0;36mpost\u001b[0;34m(self, payload, require_aliases)\u001b[0m\n\u001b[1;32m    965\u001b[0m             \u001b[0mself\u001b[0m\u001b[0;34m.\u001b[0m\u001b[0mdebug_logger\u001b[0m\u001b[0;34m.\u001b[0m\u001b[0mdebug\u001b[0m\u001b[0;34m(\u001b[0m\u001b[0;34m\"<<<<<< DCC POST RESPONSE: \"\u001b[0m\u001b[0;34m)\u001b[0m\u001b[0;34m\u001b[0m\u001b[0m\n\u001b[1;32m    966\u001b[0m             \u001b[0mself\u001b[0m\u001b[0;34m.\u001b[0m\u001b[0mdebug_logger\u001b[0m\u001b[0;34m.\u001b[0m\u001b[0mdebug\u001b[0m\u001b[0;34m(\u001b[0m\u001b[0meuu\u001b[0m\u001b[0;34m.\u001b[0m\u001b[0mprint_format_dict\u001b[0m\u001b[0;34m(\u001b[0m\u001b[0mresponse_json\u001b[0m\u001b[0;34m)\u001b[0m\u001b[0;34m)\u001b[0m\u001b[0;34m\u001b[0m\u001b[0m\n\u001b[0;32m--> 967\u001b[0;31m             \u001b[0mresponse\u001b[0m\u001b[0;34m.\u001b[0m\u001b[0mraise_for_status\u001b[0m\u001b[0;34m(\u001b[0m\u001b[0;34m)\u001b[0m\u001b[0;34m\u001b[0m\u001b[0m\n\u001b[0m\u001b[1;32m    968\u001b[0m \u001b[0;34m\u001b[0m\u001b[0m\n\u001b[1;32m    969\u001b[0m     \u001b[0;32mdef\u001b[0m \u001b[0mpatch\u001b[0m\u001b[0;34m(\u001b[0m\u001b[0mself\u001b[0m\u001b[0;34m,\u001b[0m \u001b[0mpayload\u001b[0m\u001b[0;34m,\u001b[0m \u001b[0mraise_403\u001b[0m\u001b[0;34m=\u001b[0m\u001b[0;32mTrue\u001b[0m\u001b[0;34m,\u001b[0m \u001b[0mextend_array_values\u001b[0m\u001b[0;34m=\u001b[0m\u001b[0;32mTrue\u001b[0m\u001b[0;34m)\u001b[0m\u001b[0;34m:\u001b[0m\u001b[0;34m\u001b[0m\u001b[0m\n",
      "\u001b[0;32m~/.pyenv/versions/3.5.3/lib/python3.5/site-packages/requests/models.py\u001b[0m in \u001b[0;36mraise_for_status\u001b[0;34m(self)\u001b[0m\n\u001b[1;32m    937\u001b[0m \u001b[0;34m\u001b[0m\u001b[0m\n\u001b[1;32m    938\u001b[0m         \u001b[0;32mif\u001b[0m \u001b[0mhttp_error_msg\u001b[0m\u001b[0;34m:\u001b[0m\u001b[0;34m\u001b[0m\u001b[0m\n\u001b[0;32m--> 939\u001b[0;31m             \u001b[0;32mraise\u001b[0m \u001b[0mHTTPError\u001b[0m\u001b[0;34m(\u001b[0m\u001b[0mhttp_error_msg\u001b[0m\u001b[0;34m,\u001b[0m \u001b[0mresponse\u001b[0m\u001b[0;34m=\u001b[0m\u001b[0mself\u001b[0m\u001b[0;34m)\u001b[0m\u001b[0;34m\u001b[0m\u001b[0m\n\u001b[0m\u001b[1;32m    940\u001b[0m \u001b[0;34m\u001b[0m\u001b[0m\n\u001b[1;32m    941\u001b[0m     \u001b[0;32mdef\u001b[0m \u001b[0mclose\u001b[0m\u001b[0;34m(\u001b[0m\u001b[0mself\u001b[0m\u001b[0;34m)\u001b[0m\u001b[0;34m:\u001b[0m\u001b[0;34m\u001b[0m\u001b[0m\n",
      "\u001b[0;31mHTTPError\u001b[0m: 422 Client Error: Unprocessable Entity for url: https://test.encodedcc.org/file"
     ]
    }
   ],
   "source": [
    "overlap_peaks = acc.accession_overlap_peaks()"
   ]
  },
  {
   "cell_type": "code",
   "execution_count": 4,
   "metadata": {},
   "outputs": [],
   "source": [
    "bam = acc.analysis.get_files('nodup_bam')[0]"
   ]
  },
  {
   "cell_type": "code",
   "execution_count": 5,
   "metadata": {},
   "outputs": [
    {
     "name": "stdout",
     "output_type": "stream",
     "text": [
      "2018-10-05 14:39:23,591:debug:\tSearching DCC with query https://test.encodedcc.org/search/?md5sum=74f42bbdcd25b992a16a520fafb0fb55&type=File&limit=all.\n",
      "2018-10-05 14:39:23,933:debug:\t>>>>>>GETTING TSTFF623067 From DCC with URL https://test.encodedcc.org/TSTFF623067/?format=json\n"
     ]
    }
   ],
   "source": [
    "encode_bam = acc.file_at_portal(bam.filename)"
   ]
  },
  {
   "cell_type": "code",
   "execution_count": 6,
   "metadata": {},
   "outputs": [
    {
     "name": "stdout",
     "output_type": "stream",
     "text": [
      "> /Users/bek/atac-seq-pipeline/accession.py(472)get_attachment()\n",
      "-> 'type': mime_type,\n",
      "(Pdb) n\n",
      "> /Users/bek/atac-seq-pipeline/accession.py(473)get_attachment()\n",
      "-> 'download': gs_file.filename.split('/')[-1],\n",
      "(Pdb) n\n",
      "> /Users/bek/atac-seq-pipeline/accession.py(474)get_attachment()\n",
      "-> 'href': 'data:{};base64,{}'.format(mime_type,\n",
      "(Pdb) n\n",
      "> /Users/bek/atac-seq-pipeline/accession.py(475)get_attachment()\n",
      "-> contents)\n",
      "(Pdb) n\n",
      "> /Users/bek/atac-seq-pipeline/accession.py(477)get_attachment()\n",
      "-> return obj\n",
      "(Pdb) obj\n",
      "{'href': 'data:application/pdf;base64,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', 'download': 'ENCFF599TJR.merged.nodup.tn5.no_chrM.R1.25M.cc.plot.pdf', 'type': 'application/pdf'}\n"
     ]
    },
    {
     "name": "stdout",
     "output_type": "stream",
     "text": [
      "(Pdb) c\n",
      "2018-10-05 14:39:36,851:debug:\t\n",
      "IN post().\n",
      "2018-10-05 14:39:36,852:debug:\t<<<<<< POSTING N/A To DCC with URL https://test.encodedcc.org/complexity_xcorr_quality_metric and this payload:\n",
      "\n",
      "{\n",
      "  \"NRF\": 0.792035,\n",
      "  \"NSC\": 2.850403,\n",
      "  \"PBC1\": 0.833545,\n",
      "  \"PBC2\": 6.324828,\n",
      "  \"RSC\": 1.363795,\n",
      "  \"award\": \"U41HG007000\",\n",
      "  \"cross_correlation_plot\": {\n",
      "    \"download\": \"ENCFF599TJR.merged.nodup.tn5.no_chrM.R1.25M.cc.plot.pdf\",\n",
      "    \"href\": \"data:application/pdf;base64,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\",\n",
      "    \"type\": \"application/pdf\"\n",
      "  },\n",
      "  \"fragment length\": 0,\n",
      "  \"lab\": \"/labs/anshul-kundaje/\",\n",
      "  \"paired-end\": true,\n",
      "  \"quality_metric_of\": [\n",
      "    \"/files/TSTFF623067/\"\n",
      "  ],\n",
      "  \"read length\": 51,\n",
      "  \"sample size\": 25000000,\n",
      "  \"status\": \"released\",\n",
      "  \"step_run\": \"/analysis-step-runs/9d2fc1cd-e0d2-419a-9806-4cd1de34a01a/\"\n",
      "}\n",
      "\n",
      "\n"
     ]
    },
    {
     "name": "stdout",
     "output_type": "stream",
     "text": [
      "2018-10-05 14:39:37,093:debug:\tSuccess.\n"
     ]
    },
    {
     "data": {
      "text/plain": [
       "{'@id': '/complexity-xcorr-quality-metrics/fe8df0e3-ab9e-4e6f-942e-7f1282a295a6/',\n",
       " '@type': ['ComplexityXcorrQualityMetric', 'QualityMetric', 'Item'],\n",
       " 'NRF': 0.792035,\n",
       " 'NSC': 2.850403,\n",
       " 'PBC1': 0.833545,\n",
       " 'PBC2': 6.324828,\n",
       " 'RSC': 1.363795,\n",
       " 'aliases': [],\n",
       " 'award': '/awards/U41HG007000/',\n",
       " 'cross_correlation_plot': {'download': 'ENCFF599TJR.merged.nodup.tn5.no_chrM.R1.25M.cc.plot.pdf',\n",
       "  'href': '@@download/cross_correlation_plot/ENCFF599TJR.merged.nodup.tn5.no_chrM.R1.25M.cc.plot.pdf',\n",
       "  'md5sum': '4d075af25d01b467bd9ca407194f4651',\n",
       "  'type': 'application/pdf'},\n",
       " 'date_created': '2018-10-05T21:39:36.599919+00:00',\n",
       " 'fragment length': 0,\n",
       " 'lab': '/labs/anshul-kundaje/',\n",
       " 'paired-end': True,\n",
       " 'quality_metric_of': ['/files/TSTFF623067/'],\n",
       " 'read length': 51,\n",
       " 'sample size': 25000000,\n",
       " 'schema_version': '7',\n",
       " 'status': 'released',\n",
       " 'step_run': '/analysis-step-runs/9d2fc1cd-e0d2-419a-9806-4cd1de34a01a/',\n",
       " 'submitted_by': '/users/45cd6450-c5f0-49dc-9a68-d233f51039c5/',\n",
       " 'uuid': 'fe8df0e3-ab9e-4e6f-942e-7f1282a295a6'}"
      ]
     },
     "execution_count": 6,
     "metadata": {},
     "output_type": "execute_result"
    }
   ],
   "source": [
    "acc.attach_cross_correlation_qc_to(encode_bam, bam)"
   ]
  },
  {
   "cell_type": "code",
   "execution_count": null,
   "metadata": {},
   "outputs": [],
   "source": [
    "from base64 import b64encode, b64decode"
   ]
  },
  {
   "cell_type": "code",
   "execution_count": null,
   "metadata": {},
   "outputs": [],
   "source": [
    "aaaa = test_str = b'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'"
   ]
  },
  {
   "cell_type": "code",
   "execution_count": null,
   "metadata": {},
   "outputs": [],
   "source": [
    "str(test_str)"
   ]
  },
  {
   "cell_type": "code",
   "execution_count": null,
   "metadata": {},
   "outputs": [],
   "source": []
  },
  {
   "cell_type": "code",
   "execution_count": null,
   "metadata": {},
   "outputs": [],
   "source": []
  },
  {
   "cell_type": "code",
   "execution_count": null,
   "metadata": {},
   "outputs": [],
   "source": []
  },
  {
   "cell_type": "code",
   "execution_count": null,
   "metadata": {},
   "outputs": [],
   "source": []
  },
  {
   "cell_type": "code",
   "execution_count": null,
   "metadata": {},
   "outputs": [],
   "source": []
  },
  {
   "cell_type": "code",
   "execution_count": null,
   "metadata": {},
   "outputs": [],
   "source": [
    "test_str = str(aaaa)"
   ]
  },
  {
   "cell_type": "code",
   "execution_count": null,
   "metadata": {},
   "outputs": [],
   "source": [
    "test_str.replace('\\'', '')"
   ]
  },
  {
   "cell_type": "code",
   "execution_count": null,
   "metadata": {},
   "outputs": [],
   "source": []
  },
  {
   "cell_type": "code",
   "execution_count": null,
   "metadata": {},
   "outputs": [],
   "source": []
  },
  {
   "cell_type": "code",
   "execution_count": null,
   "metadata": {},
   "outputs": [],
   "source": []
  },
  {
   "cell_type": "code",
   "execution_count": null,
   "metadata": {},
   "outputs": [],
   "source": [
    "b64decode(aaaa)"
   ]
  },
  {
   "cell_type": "code",
   "execution_count": null,
   "metadata": {},
   "outputs": [],
   "source": []
  },
  {
   "cell_type": "code",
   "execution_count": null,
   "metadata": {},
   "outputs": [],
   "source": []
  },
  {
   "cell_type": "code",
   "execution_count": null,
   "metadata": {},
   "outputs": [],
   "source": []
  },
  {
   "cell_type": "code",
   "execution_count": null,
   "metadata": {},
   "outputs": [],
   "source": []
  },
  {
   "cell_type": "code",
   "execution_count": null,
   "metadata": {},
   "outputs": [],
   "source": []
  },
  {
   "cell_type": "code",
   "execution_count": null,
   "metadata": {},
   "outputs": [],
   "source": []
  },
  {
   "cell_type": "code",
   "execution_count": null,
   "metadata": {},
   "outputs": [],
   "source": []
  },
  {
   "cell_type": "code",
   "execution_count": null,
   "metadata": {},
   "outputs": [],
   "source": []
  },
  {
   "cell_type": "code",
   "execution_count": null,
   "metadata": {},
   "outputs": [],
   "source": []
  },
  {
   "cell_type": "code",
   "execution_count": null,
   "metadata": {},
   "outputs": [],
   "source": []
  },
  {
   "cell_type": "code",
   "execution_count": null,
   "metadata": {},
   "outputs": [],
   "source": []
  },
  {
   "cell_type": "code",
   "execution_count": null,
   "metadata": {},
   "outputs": [],
   "source": []
  },
  {
   "cell_type": "code",
   "execution_count": null,
   "metadata": {},
   "outputs": [],
   "source": []
  },
  {
   "cell_type": "code",
   "execution_count": null,
   "metadata": {},
   "outputs": [],
   "source": []
  },
  {
   "cell_type": "code",
   "execution_count": null,
   "metadata": {},
   "outputs": [],
   "source": []
  },
  {
   "cell_type": "code",
   "execution_count": null,
   "metadata": {},
   "outputs": [],
   "source": []
  },
  {
   "cell_type": "code",
   "execution_count": null,
   "metadata": {},
   "outputs": [],
   "source": []
  },
  {
   "cell_type": "code",
   "execution_count": null,
   "metadata": {},
   "outputs": [],
   "source": []
  },
  {
   "cell_type": "code",
   "execution_count": null,
   "metadata": {},
   "outputs": [],
   "source": []
  },
  {
   "cell_type": "code",
   "execution_count": null,
   "metadata": {},
   "outputs": [],
   "source": []
  },
  {
   "cell_type": "code",
   "execution_count": null,
   "metadata": {},
   "outputs": [],
   "source": []
  },
  {
   "cell_type": "code",
   "execution_count": null,
   "metadata": {},
   "outputs": [],
   "source": []
  },
  {
   "cell_type": "code",
   "execution_count": null,
   "metadata": {},
   "outputs": [],
   "source": []
  },
  {
   "cell_type": "code",
   "execution_count": null,
   "metadata": {},
   "outputs": [],
   "source": []
  },
  {
   "cell_type": "code",
   "execution_count": null,
   "metadata": {},
   "outputs": [],
   "source": []
  },
  {
   "cell_type": "code",
   "execution_count": null,
   "metadata": {},
   "outputs": [],
   "source": []
  },
  {
   "cell_type": "code",
   "execution_count": null,
   "metadata": {},
   "outputs": [],
   "source": []
  },
  {
   "cell_type": "code",
   "execution_count": null,
   "metadata": {},
   "outputs": [],
   "source": []
  },
  {
   "cell_type": "code",
   "execution_count": null,
   "metadata": {},
   "outputs": [],
   "source": []
  },
  {
   "cell_type": "code",
   "execution_count": null,
   "metadata": {},
   "outputs": [],
   "source": []
  },
  {
   "cell_type": "code",
   "execution_count": null,
   "metadata": {},
   "outputs": [],
   "source": []
  },
  {
   "cell_type": "code",
   "execution_count": null,
   "metadata": {},
   "outputs": [],
   "source": []
  },
  {
   "cell_type": "code",
   "execution_count": null,
   "metadata": {},
   "outputs": [],
   "source": []
  },
  {
   "cell_type": "code",
   "execution_count": null,
   "metadata": {},
   "outputs": [],
   "source": []
  },
  {
   "cell_type": "code",
   "execution_count": null,
   "metadata": {},
   "outputs": [],
   "source": []
  },
  {
   "cell_type": "code",
   "execution_count": null,
   "metadata": {},
   "outputs": [],
   "source": []
  },
  {
   "cell_type": "code",
   "execution_count": null,
   "metadata": {},
   "outputs": [],
   "source": []
  },
  {
   "cell_type": "code",
   "execution_count": null,
   "metadata": {},
   "outputs": [],
   "source": []
  },
  {
   "cell_type": "code",
   "execution_count": null,
   "metadata": {},
   "outputs": [],
   "source": []
  },
  {
   "cell_type": "code",
   "execution_count": null,
   "metadata": {},
   "outputs": [],
   "source": []
  },
  {
   "cell_type": "code",
   "execution_count": null,
   "metadata": {},
   "outputs": [],
   "source": []
  },
  {
   "cell_type": "code",
   "execution_count": null,
   "metadata": {},
   "outputs": [],
   "source": []
  },
  {
   "cell_type": "code",
   "execution_count": null,
   "metadata": {},
   "outputs": [],
   "source": []
  },
  {
   "cell_type": "code",
   "execution_count": null,
   "metadata": {},
   "outputs": [],
   "source": []
  },
  {
   "cell_type": "code",
   "execution_count": null,
   "metadata": {},
   "outputs": [],
   "source": []
  },
  {
   "cell_type": "code",
   "execution_count": null,
   "metadata": {},
   "outputs": [],
   "source": []
  },
  {
   "cell_type": "code",
   "execution_count": null,
   "metadata": {},
   "outputs": [],
   "source": []
  },
  {
   "cell_type": "code",
   "execution_count": null,
   "metadata": {},
   "outputs": [],
   "source": []
  },
  {
   "cell_type": "code",
   "execution_count": null,
   "metadata": {},
   "outputs": [],
   "source": []
  },
  {
   "cell_type": "code",
   "execution_count": null,
   "metadata": {},
   "outputs": [],
   "source": []
  },
  {
   "cell_type": "code",
   "execution_count": null,
   "metadata": {},
   "outputs": [],
   "source": []
  },
  {
   "cell_type": "code",
   "execution_count": null,
   "metadata": {},
   "outputs": [],
   "source": []
  },
  {
   "cell_type": "code",
   "execution_count": null,
   "metadata": {},
   "outputs": [],
   "source": []
  },
  {
   "cell_type": "code",
   "execution_count": null,
   "metadata": {},
   "outputs": [],
   "source": []
  }
 ],
 "metadata": {
  "kernelspec": {
   "display_name": "Python 3",
   "language": "python",
   "name": "python3"
  },
  "language_info": {
   "codemirror_mode": {
    "name": "ipython",
    "version": 3
   },
   "file_extension": ".py",
   "mimetype": "text/x-python",
   "name": "python",
   "nbconvert_exporter": "python",
   "pygments_lexer": "ipython3",
   "version": "3.5.3"
  }
 },
 "nbformat": 4,
 "nbformat_minor": 2
}
