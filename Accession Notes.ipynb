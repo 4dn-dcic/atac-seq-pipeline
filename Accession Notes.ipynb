{
 "cells": [
  {
   "cell_type": "code",
   "execution_count": 1,
   "metadata": {},
   "outputs": [],
   "source": [
    "from accession import Accession"
   ]
  },
  {
   "cell_type": "code",
   "execution_count": 2,
   "metadata": {},
   "outputs": [
    {
     "name": "stdout",
     "output_type": "stream",
     "text": [
      "2018-09-26 14:57:40,120:debug:\tConnecting to test.encodedcc.org\n",
      "2018-09-26 14:57:40,122:debug:\tsubmission=False: In non-submission mode.\n"
     ]
    }
   ],
   "source": [
    "acc = Accession('ENCSR609OHJ',\n",
    "                'output_ENCSR609OHJ_metadata.json',\n",
    "                'atac-seq-accessioning-samples',\n",
    "                'dev')"
   ]
  },
  {
   "cell_type": "code",
   "execution_count": 3,
   "metadata": {},
   "outputs": [
    {
     "name": "stdout",
     "output_type": "stream",
     "text": [
      "2018-09-26 14:57:40,130:debug:\t\n",
      "IN post().\n",
      "2018-09-26 14:57:40,132:debug:\t<<<<<< POSTING anshul-kundaje:atac-seq-trim-align-filter-step-run-v1-97940d0951cf2c3df554584f18ee8e6f1ac9bd39aa39326c6a0f7110d8037398 To DCC with URL https://test.encodedcc.org/analysis_step_run and this payload:\n",
      "\n",
      "{\n",
      "  \"aliases\": [\n",
      "    \"anshul-kundaje:atac-seq-trim-align-filter-step-run-v1-97940d0951cf2c3df554584f18ee8e6f1ac9bd39aa39326c6a0f7110d8037398\"\n",
      "  ],\n",
      "  \"analysis_step_version\": \"anshul-kundaje:atac-seq-trim-align-filter-step-version-v1\",\n",
      "  \"status\": \"released\"\n",
      "}\n",
      "\n",
      "\n",
      "2018-09-26 14:57:40,400:debug:\t{'code': 409, 'title': 'Conflict', 'detail': \"Keys conflict: [('alias', 'anshul-kundaje:atac-seq-trim-align-filter-step-run-v1-97940d0951cf2c3df554584f18ee8e6f1ac9bd39aa39326c6a0f7110d8037398')]\", 'description': 'There was a conflict when trying to complete your request.', '@type': ['HTTPConflict', 'Error'], 'status': 'error'}\n",
      "2018-09-26 14:57:40,401:debug:\t>>>>>>GETTING anshul-kundaje:atac-seq-trim-align-filter-step-run-v1-97940d0951cf2c3df554584f18ee8e6f1ac9bd39aa39326c6a0f7110d8037398 From DCC with URL https://test.encodedcc.org/anshul-kundaje:atac-seq-trim-align-filter-step-run-v1-97940d0951cf2c3df554584f18ee8e6f1ac9bd39aa39326c6a0f7110d8037398/?format=json\n",
      "2018-09-26 14:57:40,793:debug:\tWill not POST 'anshul-kundaje:atac-seq-trim-align-filter-step-run-v1-97940d0951cf2c3df554584f18ee8e6f1ac9bd39aa39326c6a0f7110d8037398' since it already exists with aliases '['anshul-kundaje:atac-seq-trim-align-filter-step-run-v1-97940d0951cf2c3df554584f18ee8e6f1ac9bd39aa39326c6a0f7110d8037398']'.\n",
      "2018-09-26 14:57:40,826:debug:\tSearching DCC with query https://test.encodedcc.org/search/?md5sum=24eebed0eb2cb031d05d0d67f373ac02&type=File&limit=all.\n",
      "2018-09-26 14:57:41,108:debug:\tSearching DCC with query https://test.encodedcc.org/search/?md5sum=be3288a9e40c30a086c2b72a7cecdb9e&type=File&limit=all.\n",
      "2018-09-26 14:57:41,443:debug:\tSearching DCC with query https://test.encodedcc.org/search/?md5sum=74f42bbdcd25b992a16a520fafb0fb55&type=File&limit=all.\n",
      "{'output_type': 'alignments', 'href': '/files/TSTFF623067/@@download/TSTFF623067.bam', 'quality_metrics': [{'read length': 51, 'date_created': '2018-09-26T18:49:17.087909+00:00', 'uuid': 'c78ebb68-a6f7-458e-b8b9-a829439313e6', 'PBC1': 0.833545, 'PBC2': 6.324828, 'step_run': '/analysis-step-runs/9d2fc1cd-e0d2-419a-9806-4cd1de34a01a/', 'award': '/awards/U41HG007000/', 'quality_metric_of': ['/files/TSTFF623067/'], 'paired-end': True, 'schema_version': '7', '@type': ['ComplexityXcorrQualityMetric', 'QualityMetric', 'Item'], 'aliases': [], 'lab': '/labs/anshul-kundaje/', 'fragment length': 0, 'NSC': 2.850403, '@id': '/complexity-xcorr-quality-metrics/c78ebb68-a6f7-458e-b8b9-a829439313e6/', 'submitted_by': '/users/45cd6450-c5f0-49dc-9a68-d233f51039c5/', 'NRF': 0.792035, 'RSC': 1.363795, 'status': 'released', 'sample size': 25000000}, {'with_itself': 73312840, 'read2': 36656420, 'paired_qc_failed': 0, 'mapped_qc_failed': 0, 'date_created': '2018-09-26T18:49:16.743799+00:00', 'aliases': [], 'paired': 73312840, 'mapped_pct': '100.0%', 'read2_qc_failed': 0, 'read1': 36656420, 'paired_properly_qc_failed': 0, 'total': 73312840, 'quality_metric_of': ['/files/TSTFF623067/'], 'submitted_by': '/users/45cd6450-c5f0-49dc-9a68-d233f51039c5/', 'total_qc_failed': 0, 'diff_chroms': 0, 'status': 'released', 'paired_properly': 73312840, 'read1_qc_failed': 0, 'with_itself_qc_failed': 0, 'duplicates_qc_failed': 0, 'step_run': '/analysis-step-runs/9d2fc1cd-e0d2-419a-9806-4cd1de34a01a/', 'award': '/awards/U41HG007000/', 'uuid': 'ee47c81e-d7c7-4ca2-950c-49e215f67676', 'paired_properly_pct': '100.0%', '@type': ['SamtoolsFlagstatsQualityMetric', 'QualityMetric', 'Item'], 'mapped': 73312840, 'lab': '/labs/anshul-kundaje/', 'schema_version': '7', 'singletons_pct': '0.0%', 'diff_chroms_qc_failed': 0, '@id': '/samtools-flagstats-quality-metrics/ee47c81e-d7c7-4ca2-950c-49e215f67676/', 'duplicates': 0, 'singletons': 0, 'singletons_qc_failed': 0}], 'file_type': 'bam', 'analysis_step_version': {'date_created': '2016-12-07T01:00:09.351760+00:00', 'analysis_step': {'date_created': '2016-03-08T18:12:24.875270+00:00', 'output_file_types': ['unfiltered alignments', 'alignments'], 'uuid': '4800cf73-ef3c-4e6d-8ac4-8453fb60f315', 'title': 'Kundaje lab ATAC-seq trim, align, and filter step', 'step_label': 'kundaje-lab-atac-seq-trim-align-filter-step', 'major_version': 1, 'name': 'kundaje-lab-atac-seq-trim-align-filter-step-v-1', 'input_file_types': ['reads'], '@id': '/analysis-steps/kundaje-lab-atac-seq-trim-align-filter-step-v-1/', 'status': 'released', 'analysis_step_types': ['read trimming', 'alignment', 'filtering'], 'schema_version': '6', '@type': ['AnalysisStep', 'Item'], 'submitted_by': '/users/9851ccbc-2df9-4529-a4f3-90edee981fc0/', 'current_version': '/analysis-step-versions/kundaje-lab-atac-seq-trim-align-filter-step-v-1-0/', 'documents': [], 'aliases': ['anshul-kundaje:atac-seq-trim-align-filter-step-v1'], 'pipelines': [{'source_url': 'https://github.com/kundajelab/atac_dnase_pipelines', 'date_created': '2016-03-08T17:36:21.292631+00:00', 'title': 'Kundaje lab ATAC-seq pipeline', 'assay_term_names': ['ATAC-seq'], 'description': 'ATAC-seq pipeline for ENCODE data, developed by Anshul Kundaje and the ENCODE DAC', 'award': '/awards/ENCODE/', 'uuid': '5e4e23e2-41fd-4436-b174-225ac33b6196', 'aliases': ['anshul-kundaje:ATAC-seq-pipeline'], '@type': ['Pipeline', 'Item'], 'accession': 'ENCPL792NWO', 'lab': '/labs/encode-awg/', 'alternate_accessions': [], 'schema_version': '9', '@id': '/pipelines/ENCPL792NWO/', 'submitted_by': '/users/9851ccbc-2df9-4529-a4f3-90edee981fc0/', 'analysis_steps': ['/analysis-steps/kundaje-lab-atac-seq-trim-align-filter-step-v-1/', '/analysis-steps/kundaje-lab-atac-seq-peak-call-step-v-1/', '/analysis-steps/kundaje-lab-atac-seq-filtered-peaks-conversion-step-v-1/', '/analysis-steps/kundaje-lab-atac-seq-signals-step-v-1/', '/analysis-steps/kundaje-lab-atac-seq-idr-step-v-1/', '/analysis-steps/kundaje-lab-atac-seq-overlap-peaks-step-v-1/', '/analysis-steps/kundaje-lab-atac-seq-replicated-peaks-conversion-step-v-1/', '/analysis-steps/kundaje-lab-atac-seq-idr-peaks-conversion-step-v-1/'], 'references': [], 'documents': ['/documents/c008d7bd-5d60-4a23-a833-67c5dfab006a/'], 'status': 'released'}], 'versions': ['/analysis-step-versions/kundaje-lab-atac-seq-trim-align-filter-step-v-1-0/']}, 'uuid': 'ea16954f-8b24-4364-b588-23a77c786012', 'aliases': ['anshul-kundaje:atac-seq-trim-align-filter-step-version-v1'], '@id': '/analysis-step-versions/kundaje-lab-atac-seq-trim-align-filter-step-v-1-0/', 'minor_version': 0, 'schema_version': '4', 'software_versions': [{'date_created': '2016-12-07T21:32:28.581220+00:00', 'schema_version': '4', '@id': '/software-versions/6584bfb8-8dcd-4f46-b098-55eebc85a369/', 'submitted_by': '/users/332d0e03-a907-4f53-8358-bb00118277c8/', 'version': '2.2.6', 'uuid': '6584bfb8-8dcd-4f46-b098-55eebc85a369', 'aliases': ['encode:bowtie 2.2.6'], 'software': {'date_created': '2016-12-07T21:59:25.746320+00:00', 'title': 'Bowtie 2', 'url': 'http://bowtie-bio.sourceforge.net/bowtie2/index.shtml', 'purpose': ['ChIP-seq', 'RNA-seq'], 'award': '/awards/ENCODE/', 'uuid': '9a935746-3c3f-46d7-8b0a-415c2b0cecd0', 'aliases': [], '@type': ['Software', 'Item'], 'description': 'Bowtie 2 is an ultrafast and memory-efficient tool for aligning sequencing reads to long reference sequences. It is particularly good at aligning reads of about 50 up to 100s or 1,000s of characters, and particularly good at aligning to relatively long (e.g. mammalian) genomes. Bowtie 2 indexes the genome with an FM Index to keep its memory footprint small: for the human genome, its memory footprint is typically around 3.2 GB. Bowtie 2 supports gapped, local, and paired-end alignment modes.', 'lab': '/labs/encode-consortium/', 'schema_version': '5', '@id': '/software/bowtie2/', 'submitted_by': '/users/332d0e03-a907-4f53-8358-bb00118277c8/', 'references': ['/publications/5b64d8ad-0b79-4694-a7d2-dc13033f9504/'], 'used_by': ['ENCODE'], 'name': 'bowtie2', 'status': 'released', 'versions': ['/software-versions/da7c531b-26f1-40a5-aa1a-5ed4f99e4d90/', '/software-versions/9c51ea8f-ac73-4a25-8783-d31bce2d5aac/', '/software-versions/b38b963c-dbe8-4de7-a2dc-ee2c593a67c6/', '/software-versions/e7dc5254-5485-44ca-afc0-0677413cde47/', '/software-versions/12c34690-5edd-4da8-a3bc-0790b0d38e14/', '/software-versions/6584bfb8-8dcd-4f46-b098-55eebc85a369/', '/software-versions/a8abe783-46a9-46cd-b5fb-23ebf39b6f71/']}, '@type': ['SoftwareVersion', 'Item'], 'status': 'in progress'}, {'date_created': '2016-12-07T21:35:59.474189+00:00', 'schema_version': '4', '@id': '/software-versions/daf1898a-d376-48fb-b24d-24075202be19/', 'submitted_by': '/users/332d0e03-a907-4f53-8358-bb00118277c8/', 'version': '2.0.2', 'uuid': 'daf1898a-d376-48fb-b24d-24075202be19', 'aliases': ['encode:preseq 2.0.2'], 'software': {'source_url': 'https://github.com/smithlabcode/preseq', 'date_created': '2016-03-08T17:04:02.963554+00:00', 'title': 'Preseq', 'url': 'http://smithlabresearch.org/software/preseq/', 'purpose': [], 'award': '/awards/ENCODE/', 'uuid': '98ecd9b6-5612-497d-b739-802bb95ac27f', 'aliases': [], '@type': ['Software', 'Item'], 'description': 'From the Smith lab: \"The preseq package is aimed at predicting and estimating the complexity of a genomic sequencing library, equivalent to predicting and estimating the number of redundant reads from a given sequencing depth and how many will be expected from additional sequencing using an initial sequencing experiment.\"', 'lab': '/labs/encode-consortium/', 'schema_version': '5', '@id': '/software/preseq/', 'submitted_by': '/users/9851ccbc-2df9-4529-a4f3-90edee981fc0/', 'references': ['/publications/0718d1cf-f205-48cf-8615-7244a4d62265/'], 'software_type': ['other'], 'used_by': ['ENCODE'], 'name': 'preseq', 'status': 'released', 'versions': ['/software-versions/23314364-3fa2-4b1b-a829-5adcebe8f735/', '/software-versions/a0d1cf06-6aa6-4f87-9aab-a0b747005bbe/', '/software-versions/daf1898a-d376-48fb-b24d-24075202be19/']}, '@type': ['SoftwareVersion', 'Item'], 'status': 'in progress'}], '@type': ['AnalysisStepVersion', 'Item'], 'submitted_by': '/users/4c23ec32-c7c8-4ac0-affb-04befcc881d4/', 'name': 'kundaje-lab-atac-seq-trim-align-filter-step-v-1-0', 'status': 'in progress'}, '@id': '/files/TSTFF623067/', 'accession': 'TSTFF623067', 'dataset': '/experiments/ENCSR609OHJ/', 'output_category': 'alignment', 'file_size': 3266937226, 'derived_from': ['/files/ENCFF176IZG/', '/files/ENCFF599TJR/'], 'biological_replicates': [1], 'file_format': 'bam', 'assembly': 'mm10', 'date_created': '2018-09-26T18:41:20.945583+00:00', 'title': 'TSTFF623067', 'step_run': {'date_created': '2018-09-26T18:15:18.490891+00:00', 'schema_version': '5', '@id': '/analysis-step-runs/9d2fc1cd-e0d2-419a-9806-4cd1de34a01a/', 'submitted_by': '/users/45cd6450-c5f0-49dc-9a68-d233f51039c5/', 'analysis_step_version': '/analysis-step-versions/kundaje-lab-atac-seq-trim-align-filter-step-v-1-0/', 'uuid': '9d2fc1cd-e0d2-419a-9806-4cd1de34a01a', 'status': 'released', '@type': ['AnalysisStepRun', 'Item'], 'aliases': ['anshul-kundaje:atac-seq-trim-align-filter-step-run-v1-97940d0951cf2c3df554584f18ee8e6f1ac9bd39aa39326c6a0f7110d8037398']}, 'award': {'project': 'ENCODE'}, '@type': ['File', 'Item'], 'status': 'uploading', 'lab': {'city': 'Stanford', 'uuid': 'c7833572-0bba-4835-9d22-a45f39250d8d', 'title': 'Anshul Kundaje, Stanford', 'fax': '(650)-725-1534', 'postal_code': '', 'phone1': '(650)-723-2353', 'country': 'USA', '@type': ['Lab', 'Item'], 'institute_label': 'Stanford', '@id': '/labs/anshul-kundaje/', 'state': 'CA', 'schema_version': '5', 'institute_name': 'Stanford University', 'phone2': '', 'pi': '/users/5ee9af15-8447-47d5-9ef1-06d425b828eb/', 'name': 'anshul-kundaje', 'status': 'current', 'awards': [], 'address1': '300 Pasteur Dr., Lane Building, L301'}, 'technical_replicates': ['1_1']}\n",
      "2018-09-26 14:57:41,737:debug:\t\n",
      "IN post().\n"
     ]
    },
    {
     "name": "stdout",
     "output_type": "stream",
     "text": [
      "2018-09-26 14:57:41,738:debug:\t<<<<<< POSTING anshul-kundaje:atac-seq-trim-align-filter-step-run-v1-97940d0951cf2c3df554584f18ee8e6f1ac9bd39aa39326c6a0f7110d8037398 To DCC with URL https://test.encodedcc.org/analysis_step_run and this payload:\n",
      "\n",
      "{\n",
      "  \"aliases\": [\n",
      "    \"anshul-kundaje:atac-seq-trim-align-filter-step-run-v1-97940d0951cf2c3df554584f18ee8e6f1ac9bd39aa39326c6a0f7110d8037398\"\n",
      "  ],\n",
      "  \"analysis_step_version\": \"anshul-kundaje:atac-seq-trim-align-filter-step-version-v1\",\n",
      "  \"status\": \"released\"\n",
      "}\n",
      "\n",
      "\n",
      "2018-09-26 14:57:42,005:debug:\t{'code': 409, 'title': 'Conflict', 'detail': \"Keys conflict: [('alias', 'anshul-kundaje:atac-seq-trim-align-filter-step-run-v1-97940d0951cf2c3df554584f18ee8e6f1ac9bd39aa39326c6a0f7110d8037398')]\", 'description': 'There was a conflict when trying to complete your request.', '@type': ['HTTPConflict', 'Error'], 'status': 'error'}\n",
      "2018-09-26 14:57:42,006:debug:\t>>>>>>GETTING anshul-kundaje:atac-seq-trim-align-filter-step-run-v1-97940d0951cf2c3df554584f18ee8e6f1ac9bd39aa39326c6a0f7110d8037398 From DCC with URL https://test.encodedcc.org/anshul-kundaje:atac-seq-trim-align-filter-step-run-v1-97940d0951cf2c3df554584f18ee8e6f1ac9bd39aa39326c6a0f7110d8037398/?format=json\n",
      "2018-09-26 14:57:42,431:debug:\tWill not POST 'anshul-kundaje:atac-seq-trim-align-filter-step-run-v1-97940d0951cf2c3df554584f18ee8e6f1ac9bd39aa39326c6a0f7110d8037398' since it already exists with aliases '['anshul-kundaje:atac-seq-trim-align-filter-step-run-v1-97940d0951cf2c3df554584f18ee8e6f1ac9bd39aa39326c6a0f7110d8037398']'.\n",
      "2018-09-26 14:57:42,470:debug:\tSearching DCC with query https://test.encodedcc.org/search/?md5sum=d375e5eea521e0638c727d3e3a4b3b21&type=File&limit=all.\n",
      "2018-09-26 14:57:42,750:debug:\tSearching DCC with query https://test.encodedcc.org/search/?md5sum=d48829b89549efaf9d55477d4a3420c2&type=File&limit=all.\n",
      "2018-09-26 14:57:43,048:debug:\tSearching DCC with query https://test.encodedcc.org/search/?md5sum=34a6fbe64ede0b1fc9f55e095bb82de6&type=File&limit=all.\n",
      "{'output_type': 'alignments', 'href': '/files/TSTFF828169/@@download/TSTFF828169.bam', 'quality_metrics': [{'read2_qc_failed': 0, 'with_itself': 52224950, 'read2': 26112475, 'paired_qc_failed': 0, 'mapped_qc_failed': 0, 'date_created': '2018-09-26T18:50:59.168047+00:00', 'aliases': [], '@id': '/samtools-flagstats-quality-metrics/4d61ac68-32a4-4f9c-b972-6946146ccd6e/', 'mapped_pct': '100.0%', 'paired': 52224950, 'read1': 26112475, 'paired_properly_qc_failed': 0, 'total': 52224950, 'singletons_qc_failed': 0, 'submitted_by': '/users/45cd6450-c5f0-49dc-9a68-d233f51039c5/', 'total_qc_failed': 0, 'diff_chroms': 0, 'status': 'released', 'paired_properly': 52224950, 'read1_qc_failed': 0, 'with_itself_qc_failed': 0, 'duplicates_qc_failed': 0, 'step_run': '/analysis-step-runs/9d2fc1cd-e0d2-419a-9806-4cd1de34a01a/', 'award': '/awards/U41HG007000/', '@type': ['SamtoolsFlagstatsQualityMetric', 'QualityMetric', 'Item'], 'uuid': '4d61ac68-32a4-4f9c-b972-6946146ccd6e', 'paired_properly_pct': '100.0%', 'quality_metric_of': ['/files/TSTFF828169/'], 'mapped': 52224950, 'lab': '/labs/anshul-kundaje/', 'schema_version': '7', 'singletons_pct': '0.0%', 'diff_chroms_qc_failed': 0, 'duplicates': 0, 'singletons': 0}, {'read length': 51, 'date_created': '2018-09-26T18:50:59.470013+00:00', 'NSC': 2.401861, 'PBC1': 0.807628, 'PBC2': 5.353944, 'step_run': '/analysis-step-runs/9d2fc1cd-e0d2-419a-9806-4cd1de34a01a/', '@type': ['ComplexityXcorrQualityMetric', 'QualityMetric', 'Item'], 'paired-end': True, 'fragment length': 0, '@id': '/complexity-xcorr-quality-metrics/ea2876be-c016-416a-b3d1-9b1db9044010/', 'aliases': [], 'lab': '/labs/anshul-kundaje/', 'schema_version': '7', 'uuid': 'ea2876be-c016-416a-b3d1-9b1db9044010', 'quality_metric_of': ['/files/TSTFF828169/'], 'submitted_by': '/users/45cd6450-c5f0-49dc-9a68-d233f51039c5/', 'award': '/awards/U41HG007000/', 'NRF': 0.767801, 'RSC': 1.412259, 'status': 'released', 'sample size': 24318639}], 'file_type': 'bam', 'analysis_step_version': {'date_created': '2016-12-07T01:00:09.351760+00:00', 'analysis_step': {'date_created': '2016-03-08T18:12:24.875270+00:00', 'step_label': 'kundaje-lab-atac-seq-trim-align-filter-step', 'current_version': '/analysis-step-versions/kundaje-lab-atac-seq-trim-align-filter-step-v-1-0/', 'output_file_types': ['unfiltered alignments', 'alignments'], 'major_version': 1, 'uuid': '4800cf73-ef3c-4e6d-8ac4-8453fb60f315', 'aliases': ['anshul-kundaje:atac-seq-trim-align-filter-step-v1'], '@id': '/analysis-steps/kundaje-lab-atac-seq-trim-align-filter-step-v-1/', 'input_file_types': ['reads'], 'analysis_step_types': ['read trimming', 'alignment', 'filtering'], 'schema_version': '6', '@type': ['AnalysisStep', 'Item'], 'submitted_by': '/users/9851ccbc-2df9-4529-a4f3-90edee981fc0/', 'title': 'Kundaje lab ATAC-seq trim, align, and filter step', 'status': 'released', 'documents': [], 'name': 'kundaje-lab-atac-seq-trim-align-filter-step-v-1', 'pipelines': [{'source_url': 'https://github.com/kundajelab/atac_dnase_pipelines', 'date_created': '2016-03-08T17:36:21.292631+00:00', 'title': 'Kundaje lab ATAC-seq pipeline', 'assay_term_names': ['ATAC-seq'], 'alternate_accessions': [], 'description': 'ATAC-seq pipeline for ENCODE data, developed by Anshul Kundaje and the ENCODE DAC', 'award': '/awards/ENCODE/', 'uuid': '5e4e23e2-41fd-4436-b174-225ac33b6196', 'aliases': ['anshul-kundaje:ATAC-seq-pipeline'], '@id': '/pipelines/ENCPL792NWO/', 'accession': 'ENCPL792NWO', 'lab': '/labs/encode-awg/', 'references': [], 'schema_version': '9', '@type': ['Pipeline', 'Item'], 'submitted_by': '/users/9851ccbc-2df9-4529-a4f3-90edee981fc0/', 'analysis_steps': ['/analysis-steps/kundaje-lab-atac-seq-trim-align-filter-step-v-1/', '/analysis-steps/kundaje-lab-atac-seq-peak-call-step-v-1/', '/analysis-steps/kundaje-lab-atac-seq-filtered-peaks-conversion-step-v-1/', '/analysis-steps/kundaje-lab-atac-seq-signals-step-v-1/', '/analysis-steps/kundaje-lab-atac-seq-idr-step-v-1/', '/analysis-steps/kundaje-lab-atac-seq-overlap-peaks-step-v-1/', '/analysis-steps/kundaje-lab-atac-seq-replicated-peaks-conversion-step-v-1/', '/analysis-steps/kundaje-lab-atac-seq-idr-peaks-conversion-step-v-1/'], 'documents': ['/documents/c008d7bd-5d60-4a23-a833-67c5dfab006a/'], 'status': 'released'}], 'versions': ['/analysis-step-versions/kundaje-lab-atac-seq-trim-align-filter-step-v-1-0/']}, 'uuid': 'ea16954f-8b24-4364-b588-23a77c786012', 'aliases': ['anshul-kundaje:atac-seq-trim-align-filter-step-version-v1'], '@id': '/analysis-step-versions/kundaje-lab-atac-seq-trim-align-filter-step-v-1-0/', 'minor_version': 0, 'schema_version': '4', 'software_versions': [{'software': {'date_created': '2016-12-07T21:59:25.746320+00:00', 'title': 'Bowtie 2', 'submitted_by': '/users/332d0e03-a907-4f53-8358-bb00118277c8/', 'purpose': ['ChIP-seq', 'RNA-seq'], 'award': '/awards/ENCODE/', 'uuid': '9a935746-3c3f-46d7-8b0a-415c2b0cecd0', 'aliases': [], '@id': '/software/bowtie2/', 'description': 'Bowtie 2 is an ultrafast and memory-efficient tool for aligning sequencing reads to long reference sequences. It is particularly good at aligning reads of about 50 up to 100s or 1,000s of characters, and particularly good at aligning to relatively long (e.g. mammalian) genomes. Bowtie 2 indexes the genome with an FM Index to keep its memory footprint small: for the human genome, its memory footprint is typically around 3.2 GB. Bowtie 2 supports gapped, local, and paired-end alignment modes.', 'lab': '/labs/encode-consortium/', 'schema_version': '5', '@type': ['Software', 'Item'], 'url': 'http://bowtie-bio.sourceforge.net/bowtie2/index.shtml', 'references': ['/publications/5b64d8ad-0b79-4694-a7d2-dc13033f9504/'], 'used_by': ['ENCODE'], 'name': 'bowtie2', 'status': 'released', 'versions': ['/software-versions/da7c531b-26f1-40a5-aa1a-5ed4f99e4d90/', '/software-versions/9c51ea8f-ac73-4a25-8783-d31bce2d5aac/', '/software-versions/b38b963c-dbe8-4de7-a2dc-ee2c593a67c6/', '/software-versions/e7dc5254-5485-44ca-afc0-0677413cde47/', '/software-versions/12c34690-5edd-4da8-a3bc-0790b0d38e14/', '/software-versions/6584bfb8-8dcd-4f46-b098-55eebc85a369/', '/software-versions/a8abe783-46a9-46cd-b5fb-23ebf39b6f71/']}, 'date_created': '2016-12-07T21:32:28.581220+00:00', 'schema_version': '4', '@type': ['SoftwareVersion', 'Item'], 'submitted_by': '/users/332d0e03-a907-4f53-8358-bb00118277c8/', 'version': '2.2.6', 'uuid': '6584bfb8-8dcd-4f46-b098-55eebc85a369', 'aliases': ['encode:bowtie 2.2.6'], '@id': '/software-versions/6584bfb8-8dcd-4f46-b098-55eebc85a369/', 'status': 'in progress'}, {'software': {'source_url': 'https://github.com/smithlabcode/preseq', 'date_created': '2016-03-08T17:04:02.963554+00:00', 'software_type': ['other'], 'submitted_by': '/users/9851ccbc-2df9-4529-a4f3-90edee981fc0/', 'purpose': [], 'award': '/awards/ENCODE/', 'uuid': '98ecd9b6-5612-497d-b739-802bb95ac27f', 'aliases': [], '@id': '/software/preseq/', 'description': 'From the Smith lab: \"The preseq package is aimed at predicting and estimating the complexity of a genomic sequencing library, equivalent to predicting and estimating the number of redundant reads from a given sequencing depth and how many will be expected from additional sequencing using an initial sequencing experiment.\"', 'lab': '/labs/encode-consortium/', 'schema_version': '5', '@type': ['Software', 'Item'], 'url': 'http://smithlabresearch.org/software/preseq/', 'references': ['/publications/0718d1cf-f205-48cf-8615-7244a4d62265/'], 'title': 'Preseq', 'used_by': ['ENCODE'], 'name': 'preseq', 'status': 'released', 'versions': ['/software-versions/23314364-3fa2-4b1b-a829-5adcebe8f735/', '/software-versions/a0d1cf06-6aa6-4f87-9aab-a0b747005bbe/', '/software-versions/daf1898a-d376-48fb-b24d-24075202be19/']}, 'date_created': '2016-12-07T21:35:59.474189+00:00', 'schema_version': '4', '@type': ['SoftwareVersion', 'Item'], 'submitted_by': '/users/332d0e03-a907-4f53-8358-bb00118277c8/', 'version': '2.0.2', 'uuid': 'daf1898a-d376-48fb-b24d-24075202be19', 'aliases': ['encode:preseq 2.0.2'], '@id': '/software-versions/daf1898a-d376-48fb-b24d-24075202be19/', 'status': 'in progress'}], '@type': ['AnalysisStepVersion', 'Item'], 'submitted_by': '/users/4c23ec32-c7c8-4ac0-affb-04befcc881d4/', 'name': 'kundaje-lab-atac-seq-trim-align-filter-step-v-1-0', 'status': 'in progress'}, '@id': '/files/TSTFF828169/', 'biological_replicates': [2], 'dataset': '/experiments/ENCSR609OHJ/', 'output_category': 'alignment', 'file_size': 2395571538, 'title': 'TSTFF828169', 'accession': 'TSTFF828169', 'status': 'uploading', 'assembly': 'mm10', 'date_created': '2018-09-26T18:49:39.755734+00:00', 'derived_from': ['/files/ENCFF999IJT/', '/files/ENCFF957VLH/'], 'step_run': {'date_created': '2018-09-26T18:15:18.490891+00:00', 'schema_version': '5', '@type': ['AnalysisStepRun', 'Item'], 'submitted_by': '/users/45cd6450-c5f0-49dc-9a68-d233f51039c5/', 'analysis_step_version': '/analysis-step-versions/kundaje-lab-atac-seq-trim-align-filter-step-v-1-0/', 'uuid': '9d2fc1cd-e0d2-419a-9806-4cd1de34a01a', 'status': 'released', '@id': '/analysis-step-runs/9d2fc1cd-e0d2-419a-9806-4cd1de34a01a/', 'aliases': ['anshul-kundaje:atac-seq-trim-align-filter-step-run-v1-97940d0951cf2c3df554584f18ee8e6f1ac9bd39aa39326c6a0f7110d8037398']}, 'award': {'project': 'ENCODE'}, '@type': ['File', 'Item'], 'file_format': 'bam', 'lab': {'city': 'Stanford', 'country': 'USA', 'institute_label': 'Stanford', 'title': 'Anshul Kundaje, Stanford', 'fax': '(650)-725-1534', 'postal_code': '', 'phone1': '(650)-723-2353', '@type': ['Lab', 'Item'], 'uuid': 'c7833572-0bba-4835-9d22-a45f39250d8d', '@id': '/labs/anshul-kundaje/', 'state': 'CA', 'schema_version': '5', 'institute_name': 'Stanford University', 'phone2': '', 'pi': '/users/5ee9af15-8447-47d5-9ef1-06d425b828eb/', 'name': 'anshul-kundaje', 'status': 'current', 'awards': [], 'address1': '300 Pasteur Dr., Lane Building, L301'}, 'technical_replicates': ['2_1']}\n"
     ]
    }
   ],
   "source": [
    "alignment_bams = acc.accession_alignment_outputs()\n"
   ]
  },
  {
   "cell_type": "code",
   "execution_count": 4,
   "metadata": {},
   "outputs": [
    {
     "name": "stdout",
     "output_type": "stream",
     "text": [
      "2018-09-26 14:57:43,355:debug:\t\n",
      "IN post().\n",
      "2018-09-26 14:57:43,357:debug:\t<<<<<< POSTING anshul-kundaje:atac-seq-signal-generation-step-run-v1-97940d0951cf2c3df554584f18ee8e6f1ac9bd39aa39326c6a0f7110d8037398 To DCC with URL https://test.encodedcc.org/analysis_step_run and this payload:\n",
      "\n",
      "{\n",
      "  \"aliases\": [\n",
      "    \"anshul-kundaje:atac-seq-signal-generation-step-run-v1-97940d0951cf2c3df554584f18ee8e6f1ac9bd39aa39326c6a0f7110d8037398\"\n",
      "  ],\n",
      "  \"analysis_step_version\": \"anshul-kundaje:atac-seq-signal-generation-step-version-v1\",\n",
      "  \"status\": \"released\"\n",
      "}\n",
      "\n",
      "\n",
      "2018-09-26 14:57:43,555:debug:\t{'code': 409, 'title': 'Conflict', 'detail': \"Keys conflict: [('alias', 'anshul-kundaje:atac-seq-signal-generation-step-run-v1-97940d0951cf2c3df554584f18ee8e6f1ac9bd39aa39326c6a0f7110d8037398')]\", 'status': 'error', '@type': ['HTTPConflict', 'Error'], 'description': 'There was a conflict when trying to complete your request.'}\n",
      "2018-09-26 14:57:43,556:debug:\t>>>>>>GETTING anshul-kundaje:atac-seq-signal-generation-step-run-v1-97940d0951cf2c3df554584f18ee8e6f1ac9bd39aa39326c6a0f7110d8037398 From DCC with URL https://test.encodedcc.org/anshul-kundaje:atac-seq-signal-generation-step-run-v1-97940d0951cf2c3df554584f18ee8e6f1ac9bd39aa39326c6a0f7110d8037398/?format=json\n",
      "2018-09-26 14:57:43,863:debug:\tWill not POST 'anshul-kundaje:atac-seq-signal-generation-step-run-v1-97940d0951cf2c3df554584f18ee8e6f1ac9bd39aa39326c6a0f7110d8037398' since it already exists with aliases '['anshul-kundaje:atac-seq-signal-generation-step-run-v1-97940d0951cf2c3df554584f18ee8e6f1ac9bd39aa39326c6a0f7110d8037398']'.\n",
      "2018-09-26 14:57:43,917:debug:\tSearching DCC with query https://test.encodedcc.org/search/?md5sum=74f42bbdcd25b992a16a520fafb0fb55&type=File&limit=all.\n",
      "2018-09-26 14:57:44,227:debug:\tSearching DCC with query https://test.encodedcc.org/search/?md5sum=723e69f3ef6c037d5e26597093e09f8f&type=File&limit=all.\n",
      "2018-09-26 15:03:32,085:debug:\t\n",
      "IN post().\n",
      "2018-09-26 15:03:32,092:debug:\t<<<<<< POSTING anshul-kundaje:atac-seq-accessioning-samples-atac-957638af-26f8-4bea-8280-2a088acf9783-call-macs2-shard-0-glob-8876d8ced974dc46a0c7a4fac20a3a95-ENCFF599TJR.merged.nodup.tn5.fc.signal.bigwig To DCC with URL https://test.encodedcc.org/file and this payload:\n",
      "\n",
      "{\n",
      "  \"aliases\": [\n",
      "    \"anshul-kundaje:atac-seq-accessioning-samples-atac-957638af-26f8-4bea-8280-2a088acf9783-call-macs2-shard-0-glob-8876d8ced974dc46a0c7a4fac20a3a95-ENCFF599TJR.merged.nodup.tn5.fc.signal.bigwig\"\n",
      "  ],\n",
      "  \"assembly\": \"mm10\",\n",
      "  \"award\": \"U41HG007000\",\n",
      "  \"dataset\": \"/experiments/ENCSR609OHJ/\",\n",
      "  \"derived_from\": [\n",
      "    \"/files/TSTFF623067\"\n",
      "  ],\n",
      "  \"file_format\": \"bigWig\",\n",
      "  \"file_size\": 620622604,\n",
      "  \"lab\": \"/labs/anshul-kundaje/\",\n",
      "  \"md5sum\": \"723e69f3ef6c037d5e26597093e09f8f\",\n",
      "  \"output_type\": \"fold change over control\",\n",
      "  \"status\": \"uploading\",\n",
      "  \"step_run\": \"/analysis-step-runs/cfd8ea4d-3ce7-463a-b85f-7835c561326b/\",\n",
      "  \"submitted_file_name\": \"/var/folders/5y/616wzw4n5nd6g10d0ycs6pdr0000gp/T/tmpw6c8tll_\"\n",
      "}\n",
      "\n",
      "\n",
      "2018-09-26 15:03:32,714:debug:\tSuccess.\n",
      "2018-09-26 15:03:32,720:debug:\t\n",
      "IN upload_file()\n",
      "\n",
      "2018-09-26 15:03:32,724:debug:\tUsing curl to generate new file upload credentials\n",
      "2018-09-26 15:03:33,280:debug:\tSuccess: upload credentials for 'TSTFF250652' regerated.\n",
      "2018-09-26 15:03:33,281:debug:\t>>>>>>GETTING TSTFF250652 From DCC with URL https://test.encodedcc.org/TSTFF250652/?format=json\n",
      "2018-09-26 15:03:33,716:debug:\tRunning command 'aws s3 cp /var/folders/5y/616wzw4n5nd6g10d0ycs6pdr0000gp/T/tmpw6c8tll_ s3://encoded-files-dev/2018/09/26/c1e61e08-f950-4e04-91d7-873543bc116d/TSTFF250652.bigWig'.\n",
      "2018-09-26 15:05:11,525:debug:\tAWS upload successful.\n",
      "2018-09-26 15:05:11,533:debug:\t\n",
      "IN post().\n",
      "2018-09-26 15:05:11,535:debug:\t<<<<<< POSTING anshul-kundaje:atac-seq-signal-generation-step-run-v1-97940d0951cf2c3df554584f18ee8e6f1ac9bd39aa39326c6a0f7110d8037398 To DCC with URL https://test.encodedcc.org/analysis_step_run and this payload:\n",
      "\n",
      "{\n",
      "  \"aliases\": [\n",
      "    \"anshul-kundaje:atac-seq-signal-generation-step-run-v1-97940d0951cf2c3df554584f18ee8e6f1ac9bd39aa39326c6a0f7110d8037398\"\n",
      "  ],\n",
      "  \"analysis_step_version\": \"anshul-kundaje:atac-seq-signal-generation-step-version-v1\",\n",
      "  \"status\": \"released\"\n",
      "}\n",
      "\n",
      "\n",
      "2018-09-26 15:05:11,695:debug:\t{'code': 409, 'title': 'Conflict', 'detail': \"Keys conflict: [('alias', 'anshul-kundaje:atac-seq-signal-generation-step-run-v1-97940d0951cf2c3df554584f18ee8e6f1ac9bd39aa39326c6a0f7110d8037398')]\", 'description': 'There was a conflict when trying to complete your request.', '@type': ['HTTPConflict', 'Error'], 'status': 'error'}\n",
      "2018-09-26 15:05:11,696:debug:\t>>>>>>GETTING anshul-kundaje:atac-seq-signal-generation-step-run-v1-97940d0951cf2c3df554584f18ee8e6f1ac9bd39aa39326c6a0f7110d8037398 From DCC with URL https://test.encodedcc.org/anshul-kundaje:atac-seq-signal-generation-step-run-v1-97940d0951cf2c3df554584f18ee8e6f1ac9bd39aa39326c6a0f7110d8037398/?format=json\n",
      "2018-09-26 15:05:11,971:debug:\tWill not POST 'anshul-kundaje:atac-seq-signal-generation-step-run-v1-97940d0951cf2c3df554584f18ee8e6f1ac9bd39aa39326c6a0f7110d8037398' since it already exists with aliases '['anshul-kundaje:atac-seq-signal-generation-step-run-v1-97940d0951cf2c3df554584f18ee8e6f1ac9bd39aa39326c6a0f7110d8037398']'.\n",
      "2018-09-26 15:05:12,099:debug:\tSearching DCC with query https://test.encodedcc.org/search/?md5sum=34a6fbe64ede0b1fc9f55e095bb82de6&type=File&limit=all.\n",
      "2018-09-26 15:05:12,390:debug:\tSearching DCC with query https://test.encodedcc.org/search/?md5sum=b05232d23b95389eeb0a77db0e387e7b&type=File&limit=all.\n",
      "2018-09-26 15:07:04,624:debug:\t\n",
      "IN post().\n",
      "2018-09-26 15:07:04,637:debug:\t<<<<<< POSTING anshul-kundaje:atac-seq-accessioning-samples-atac-957638af-26f8-4bea-8280-2a088acf9783-call-macs2-shard-1-glob-8876d8ced974dc46a0c7a4fac20a3a95-ENCFF957VLH.merged.nodup.tn5.fc.signal.bigwig To DCC with URL https://test.encodedcc.org/file and this payload:\n",
      "\n",
      "{\n",
      "  \"aliases\": [\n",
      "    \"anshul-kundaje:atac-seq-accessioning-samples-atac-957638af-26f8-4bea-8280-2a088acf9783-call-macs2-shard-1-glob-8876d8ced974dc46a0c7a4fac20a3a95-ENCFF957VLH.merged.nodup.tn5.fc.signal.bigwig\"\n",
      "  ],\n",
      "  \"assembly\": \"mm10\",\n",
      "  \"award\": \"U41HG007000\",\n",
      "  \"dataset\": \"/experiments/ENCSR609OHJ/\",\n",
      "  \"derived_from\": [\n",
      "    \"/files/TSTFF828169\"\n",
      "  ],\n",
      "  \"file_format\": \"bigWig\",\n",
      "  \"file_size\": 460962287,\n",
      "  \"lab\": \"/labs/anshul-kundaje/\",\n",
      "  \"md5sum\": \"b05232d23b95389eeb0a77db0e387e7b\",\n",
      "  \"output_type\": \"fold change over control\",\n",
      "  \"status\": \"uploading\",\n",
      "  \"step_run\": \"/analysis-step-runs/cfd8ea4d-3ce7-463a-b85f-7835c561326b/\",\n",
      "  \"submitted_file_name\": \"/var/folders/5y/616wzw4n5nd6g10d0ycs6pdr0000gp/T/tmpjtkqm2p7\"\n",
      "}\n",
      "\n",
      "\n",
      "2018-09-26 15:07:05,198:debug:\tSuccess.\n",
      "2018-09-26 15:07:05,206:debug:\t\n",
      "IN upload_file()\n",
      "\n",
      "2018-09-26 15:07:05,208:debug:\tUsing curl to generate new file upload credentials\n",
      "2018-09-26 15:07:05,823:debug:\tSuccess: upload credentials for 'TSTFF457662' regerated.\n",
      "2018-09-26 15:07:05,824:debug:\t>>>>>>GETTING TSTFF457662 From DCC with URL https://test.encodedcc.org/TSTFF457662/?format=json\n",
      "2018-09-26 15:07:06,259:debug:\tRunning command 'aws s3 cp /var/folders/5y/616wzw4n5nd6g10d0ycs6pdr0000gp/T/tmpjtkqm2p7 s3://encoded-files-dev/2018/09/26/e6bd87e0-b9f4-4b96-ad53-8ad8a2a167da/TSTFF457662.bigWig'.\n",
      "2018-09-26 15:08:32,550:debug:\tAWS upload successful.\n"
     ]
    }
   ],
   "source": [
    "signal_bigwigs = acc.accession_signal_outputs(task_name='macs2')"
   ]
  },
  {
   "cell_type": "code",
   "execution_count": 5,
   "metadata": {},
   "outputs": [],
   "source": [
    "tasks = acc.analysis.get_tasks('filter')"
   ]
  },
  {
   "cell_type": "code",
   "execution_count": 6,
   "metadata": {},
   "outputs": [],
   "source": [
    "test_file = acc.analysis.get_files(filename=\"gs://atac-seq-accessioning-samples/atac/957638af-26f8-4bea-8280-2a088acf9783/call-filter/shard-0/glob-3bcbe4e7489c90f75e0523ac6f3a9385/ENCFF599TJR.merged.nodup.bam\")"
   ]
  },
  {
   "cell_type": "code",
   "execution_count": 7,
   "metadata": {},
   "outputs": [
    {
     "data": {
      "text/plain": [
       "'ataqc'"
      ]
     },
     "execution_count": 7,
     "metadata": {},
     "output_type": "execute_result"
    }
   ],
   "source": [
    "from functools import reduce\n",
    "import operator\n",
    "test_file[0].used_by_tasks[0].task_name\n"
   ]
  },
  {
   "cell_type": "code",
   "execution_count": 8,
   "metadata": {},
   "outputs": [],
   "source": [
    "a = next(acc.analysis.search_down(test_file[0].task, 'macs2', 'sig_fc'))\n",
    "import base64\n",
    "# base64.b64encode(acc.backend.blob_from_filename(a.filename).download_as_string())"
   ]
  },
  {
   "cell_type": "code",
   "execution_count": 9,
   "metadata": {},
   "outputs": [
    {
     "ename": "NameError",
     "evalue": "name 'self' is not defined",
     "output_type": "error",
     "traceback": [
      "\u001b[0;31m---------------------------------------------------------------------------\u001b[0m",
      "\u001b[0;31mNameError\u001b[0m                                 Traceback (most recent call last)",
      "\u001b[0;32m<ipython-input-9-548216da0113>\u001b[0m in \u001b[0;36m<module>\u001b[0;34m()\u001b[0m\n\u001b[0;32m----> 1\u001b[0;31m \u001b[0mtasks\u001b[0m \u001b[0;34m=\u001b[0m \u001b[0mself\u001b[0m\u001b[0;34m.\u001b[0m\u001b[0manalysis\u001b[0m\u001b[0;34m.\u001b[0m\u001b[0mget_tasks\u001b[0m\u001b[0;34m(\u001b[0m\u001b[0;34m)\u001b[0m\u001b[0;34m\u001b[0m\u001b[0m\n\u001b[0m",
      "\u001b[0;31mNameError\u001b[0m: name 'self' is not defined"
     ]
    }
   ],
   "source": [
    "tasks = self.analysis.get_tasks()"
   ]
  },
  {
   "cell_type": "code",
   "execution_count": null,
   "metadata": {},
   "outputs": [],
   "source": [
    "a.md5sum"
   ]
  },
  {
   "cell_type": "code",
   "execution_count": null,
   "metadata": {},
   "outputs": [],
   "source": []
  },
  {
   "cell_type": "code",
   "execution_count": null,
   "metadata": {},
   "outputs": [],
   "source": []
  },
  {
   "cell_type": "code",
   "execution_count": null,
   "metadata": {},
   "outputs": [],
   "source": []
  },
  {
   "cell_type": "code",
   "execution_count": null,
   "metadata": {},
   "outputs": [],
   "source": [
    "import mimetypes\n",
    "import magic"
   ]
  },
  {
   "cell_type": "code",
   "execution_count": null,
   "metadata": {},
   "outputs": [],
   "source": [
    "mimetypes.guess_type(a.filename.split('/')[-1])"
   ]
  },
  {
   "cell_type": "code",
   "execution_count": null,
   "metadata": {},
   "outputs": [],
   "source": [
    "contents = acc.backend.read_file(a.filename).decode('utf-8', errors='replace')\n",
    "#bcontents = base64.b64encode(contents)\n",
    "original_contents = acc.backend.read_file(a.filename)"
   ]
  },
  {
   "cell_type": "code",
   "execution_count": null,
   "metadata": {},
   "outputs": [],
   "source": []
  },
  {
   "cell_type": "code",
   "execution_count": null,
   "metadata": {},
   "outputs": [],
   "source": []
  },
  {
   "cell_type": "code",
   "execution_count": null,
   "metadata": {},
   "outputs": [],
   "source": []
  },
  {
   "cell_type": "code",
   "execution_count": null,
   "metadata": {},
   "outputs": [],
   "source": []
  },
  {
   "cell_type": "code",
   "execution_count": null,
   "metadata": {},
   "outputs": [],
   "source": []
  },
  {
   "cell_type": "code",
   "execution_count": null,
   "metadata": {},
   "outputs": [],
   "source": []
  },
  {
   "cell_type": "code",
   "execution_count": null,
   "metadata": {},
   "outputs": [],
   "source": []
  },
  {
   "cell_type": "code",
   "execution_count": null,
   "metadata": {},
   "outputs": [],
   "source": []
  },
  {
   "cell_type": "code",
   "execution_count": null,
   "metadata": {},
   "outputs": [],
   "source": []
  },
  {
   "cell_type": "code",
   "execution_count": null,
   "metadata": {},
   "outputs": [],
   "source": []
  },
  {
   "cell_type": "code",
   "execution_count": null,
   "metadata": {},
   "outputs": [],
   "source": []
  },
  {
   "cell_type": "code",
   "execution_count": null,
   "metadata": {},
   "outputs": [],
   "source": []
  },
  {
   "cell_type": "code",
   "execution_count": null,
   "metadata": {},
   "outputs": [],
   "source": []
  },
  {
   "cell_type": "code",
   "execution_count": null,
   "metadata": {},
   "outputs": [],
   "source": []
  },
  {
   "cell_type": "code",
   "execution_count": null,
   "metadata": {},
   "outputs": [],
   "source": []
  },
  {
   "cell_type": "code",
   "execution_count": null,
   "metadata": {},
   "outputs": [],
   "source": []
  },
  {
   "cell_type": "code",
   "execution_count": null,
   "metadata": {},
   "outputs": [],
   "source": []
  },
  {
   "cell_type": "code",
   "execution_count": null,
   "metadata": {},
   "outputs": [],
   "source": []
  },
  {
   "cell_type": "code",
   "execution_count": null,
   "metadata": {},
   "outputs": [],
   "source": []
  },
  {
   "cell_type": "code",
   "execution_count": null,
   "metadata": {},
   "outputs": [],
   "source": []
  },
  {
   "cell_type": "code",
   "execution_count": null,
   "metadata": {},
   "outputs": [],
   "source": []
  },
  {
   "cell_type": "code",
   "execution_count": null,
   "metadata": {},
   "outputs": [],
   "source": []
  },
  {
   "cell_type": "code",
   "execution_count": null,
   "metadata": {},
   "outputs": [],
   "source": []
  },
  {
   "cell_type": "code",
   "execution_count": null,
   "metadata": {},
   "outputs": [],
   "source": []
  },
  {
   "cell_type": "code",
   "execution_count": null,
   "metadata": {},
   "outputs": [],
   "source": []
  },
  {
   "cell_type": "code",
   "execution_count": null,
   "metadata": {},
   "outputs": [],
   "source": []
  },
  {
   "cell_type": "code",
   "execution_count": null,
   "metadata": {},
   "outputs": [],
   "source": []
  },
  {
   "cell_type": "code",
   "execution_count": null,
   "metadata": {},
   "outputs": [],
   "source": []
  },
  {
   "cell_type": "code",
   "execution_count": null,
   "metadata": {},
   "outputs": [],
   "source": []
  },
  {
   "cell_type": "code",
   "execution_count": null,
   "metadata": {},
   "outputs": [],
   "source": []
  },
  {
   "cell_type": "code",
   "execution_count": null,
   "metadata": {},
   "outputs": [],
   "source": []
  },
  {
   "cell_type": "code",
   "execution_count": null,
   "metadata": {},
   "outputs": [],
   "source": []
  },
  {
   "cell_type": "code",
   "execution_count": null,
   "metadata": {},
   "outputs": [],
   "source": []
  }
 ],
 "metadata": {
  "kernelspec": {
   "display_name": "Python 3",
   "language": "python",
   "name": "python3"
  },
  "language_info": {
   "codemirror_mode": {
    "name": "ipython",
    "version": 3
   },
   "file_extension": ".py",
   "mimetype": "text/x-python",
   "name": "python",
   "nbconvert_exporter": "python",
   "pygments_lexer": "ipython3",
   "version": "3.5.3"
  }
 },
 "nbformat": 4,
 "nbformat_minor": 2
}
