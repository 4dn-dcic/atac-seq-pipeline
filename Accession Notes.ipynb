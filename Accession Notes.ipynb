{
 "cells": [
  {
   "cell_type": "code",
   "execution_count": 1,
   "metadata": {},
   "outputs": [],
   "source": [
    "from accession import Accession"
   ]
  },
  {
   "cell_type": "code",
   "execution_count": 2,
   "metadata": {},
   "outputs": [
    {
     "name": "stdout",
     "output_type": "stream",
     "text": [
      "2018-09-27 10:30:57,309:debug:\tConnecting to test.encodedcc.org\n",
      "2018-09-27 10:30:57,312:debug:\tsubmission=False: In non-submission mode.\n"
     ]
    }
   ],
   "source": [
    "acc = Accession('ENCSR609OHJ',\n",
    "                'output_ENCSR609OHJ_metadata.json',\n",
    "                'atac-seq-accessioning-samples',\n",
    "                'dev')"
   ]
  },
  {
   "cell_type": "code",
   "execution_count": 3,
   "metadata": {},
   "outputs": [
    {
     "name": "stdout",
     "output_type": "stream",
     "text": [
      "2018-09-27 10:30:57,319:debug:\t\n",
      "IN post().\n",
      "2018-09-27 10:30:57,320:debug:\t<<<<<< POSTING anshul-kundaje:atac-seq-trim-align-filter-step-run-v1-97940d0951cf2c3df554584f18ee8e6f1ac9bd39aa39326c6a0f7110d8037398 To DCC with URL https://test.encodedcc.org/analysis_step_run and this payload:\n",
      "\n",
      "{\n",
      "  \"aliases\": [\n",
      "    \"anshul-kundaje:atac-seq-trim-align-filter-step-run-v1-97940d0951cf2c3df554584f18ee8e6f1ac9bd39aa39326c6a0f7110d8037398\"\n",
      "  ],\n",
      "  \"analysis_step_version\": \"anshul-kundaje:atac-seq-trim-align-filter-step-version-v1\",\n",
      "  \"status\": \"released\"\n",
      "}\n",
      "\n",
      "\n",
      "2018-09-27 10:30:57,480:debug:\t{'title': 'Conflict', 'detail': \"Keys conflict: [('alias', 'anshul-kundaje:atac-seq-trim-align-filter-step-run-v1-97940d0951cf2c3df554584f18ee8e6f1ac9bd39aa39326c6a0f7110d8037398')]\", 'status': 'error', '@type': ['HTTPConflict', 'Error'], 'description': 'There was a conflict when trying to complete your request.', 'code': 409}\n",
      "2018-09-27 10:30:57,482:debug:\t>>>>>>GETTING anshul-kundaje:atac-seq-trim-align-filter-step-run-v1-97940d0951cf2c3df554584f18ee8e6f1ac9bd39aa39326c6a0f7110d8037398 From DCC with URL https://test.encodedcc.org/anshul-kundaje:atac-seq-trim-align-filter-step-run-v1-97940d0951cf2c3df554584f18ee8e6f1ac9bd39aa39326c6a0f7110d8037398/?format=json\n",
      "2018-09-27 10:30:57,766:debug:\tWill not POST 'anshul-kundaje:atac-seq-trim-align-filter-step-run-v1-97940d0951cf2c3df554584f18ee8e6f1ac9bd39aa39326c6a0f7110d8037398' since it already exists with aliases '['anshul-kundaje:atac-seq-trim-align-filter-step-run-v1-97940d0951cf2c3df554584f18ee8e6f1ac9bd39aa39326c6a0f7110d8037398']'.\n",
      "2018-09-27 10:30:57,791:debug:\tSearching DCC with query https://test.encodedcc.org/search/?md5sum=be3288a9e40c30a086c2b72a7cecdb9e&type=File&limit=all.\n",
      "2018-09-27 10:30:58,013:debug:\tSearching DCC with query https://test.encodedcc.org/search/?md5sum=24eebed0eb2cb031d05d0d67f373ac02&type=File&limit=all.\n",
      "2018-09-27 10:30:58,251:debug:\tSearching DCC with query https://test.encodedcc.org/search/?md5sum=74f42bbdcd25b992a16a520fafb0fb55&type=File&limit=all.\n",
      "{'status': 'uploading', '@type': ['File', 'Item'], 'technical_replicates': ['1_1'], 'step_run': {'aliases': ['anshul-kundaje:atac-seq-trim-align-filter-step-run-v1-97940d0951cf2c3df554584f18ee8e6f1ac9bd39aa39326c6a0f7110d8037398'], '@id': '/analysis-step-runs/9d2fc1cd-e0d2-419a-9806-4cd1de34a01a/', 'schema_version': '5', 'submitted_by': '/users/45cd6450-c5f0-49dc-9a68-d233f51039c5/', 'date_created': '2018-09-26T18:15:18.490891+00:00', 'analysis_step_version': '/analysis-step-versions/kundaje-lab-atac-seq-trim-align-filter-step-v-1-0/', 'uuid': '9d2fc1cd-e0d2-419a-9806-4cd1de34a01a', 'status': 'released', '@type': ['AnalysisStepRun', 'Item']}, 'date_created': '2018-09-26T18:41:20.945583+00:00', 'lab': {'phone2': '', 'fax': '(650)-725-1534', 'address1': '300 Pasteur Dr., Lane Building, L301', '@type': ['Lab', 'Item'], '@id': '/labs/anshul-kundaje/', 'pi': '/users/5ee9af15-8447-47d5-9ef1-06d425b828eb/', 'awards': [], 'status': 'current', 'institute_label': 'Stanford', 'schema_version': '5', 'country': 'USA', 'institute_name': 'Stanford University', 'city': 'Stanford', 'uuid': 'c7833572-0bba-4835-9d22-a45f39250d8d', 'state': 'CA', 'name': 'anshul-kundaje', 'phone1': '(650)-723-2353', 'title': 'Anshul Kundaje, Stanford', 'postal_code': ''}, 'file_format': 'bam', 'biological_replicates': [1], 'title': 'TSTFF623067', 'file_type': 'bam', 'href': '/files/TSTFF623067/@@download/TSTFF623067.bam', '@id': '/files/TSTFF623067/', 'dataset': '/experiments/ENCSR609OHJ/', 'derived_from': ['/files/ENCFF176IZG/', '/files/ENCFF599TJR/'], 'assembly': 'mm10', 'analysis_step_version': {'software_versions': [{'aliases': ['encode:bowtie 2.2.6'], '@id': '/software-versions/6584bfb8-8dcd-4f46-b098-55eebc85a369/', 'schema_version': '4', 'submitted_by': '/users/332d0e03-a907-4f53-8358-bb00118277c8/', 'date_created': '2016-12-07T21:32:28.581220+00:00', 'uuid': '6584bfb8-8dcd-4f46-b098-55eebc85a369', 'status': 'in progress', '@type': ['SoftwareVersion', 'Item'], 'version': '2.2.6', 'software': {'versions': ['/software-versions/da7c531b-26f1-40a5-aa1a-5ed4f99e4d90/', '/software-versions/9c51ea8f-ac73-4a25-8783-d31bce2d5aac/', '/software-versions/b38b963c-dbe8-4de7-a2dc-ee2c593a67c6/', '/software-versions/e7dc5254-5485-44ca-afc0-0677413cde47/', '/software-versions/12c34690-5edd-4da8-a3bc-0790b0d38e14/', '/software-versions/6584bfb8-8dcd-4f46-b098-55eebc85a369/', '/software-versions/a8abe783-46a9-46cd-b5fb-23ebf39b6f71/'], '@id': '/software/bowtie2/', 'description': 'Bowtie 2 is an ultrafast and memory-efficient tool for aligning sequencing reads to long reference sequences. It is particularly good at aligning reads of about 50 up to 100s or 1,000s of characters, and particularly good at aligning to relatively long (e.g. mammalian) genomes. Bowtie 2 indexes the genome with an FM Index to keep its memory footprint small: for the human genome, its memory footprint is typically around 3.2 GB. Bowtie 2 supports gapped, local, and paired-end alignment modes.', 'submitted_by': '/users/332d0e03-a907-4f53-8358-bb00118277c8/', 'used_by': ['ENCODE'], 'url': 'http://bowtie-bio.sourceforge.net/bowtie2/index.shtml', 'status': 'released', 'aliases': [], 'date_created': '2016-12-07T21:59:25.746320+00:00', 'lab': '/labs/encode-consortium/', 'purpose': ['ChIP-seq', 'RNA-seq'], 'schema_version': '5', 'award': '/awards/ENCODE/', 'title': 'Bowtie 2', 'references': ['/publications/5b64d8ad-0b79-4694-a7d2-dc13033f9504/'], 'uuid': '9a935746-3c3f-46d7-8b0a-415c2b0cecd0', '@type': ['Software', 'Item'], 'name': 'bowtie2'}}, {'aliases': ['encode:preseq 2.0.2'], '@id': '/software-versions/daf1898a-d376-48fb-b24d-24075202be19/', 'schema_version': '4', 'submitted_by': '/users/332d0e03-a907-4f53-8358-bb00118277c8/', 'date_created': '2016-12-07T21:35:59.474189+00:00', 'uuid': 'daf1898a-d376-48fb-b24d-24075202be19', 'status': 'in progress', '@type': ['SoftwareVersion', 'Item'], 'version': '2.0.2', 'software': {'versions': ['/software-versions/23314364-3fa2-4b1b-a829-5adcebe8f735/', '/software-versions/a0d1cf06-6aa6-4f87-9aab-a0b747005bbe/', '/software-versions/daf1898a-d376-48fb-b24d-24075202be19/'], '@id': '/software/preseq/', 'source_url': 'https://github.com/smithlabcode/preseq', 'submitted_by': '/users/9851ccbc-2df9-4529-a4f3-90edee981fc0/', 'used_by': ['ENCODE'], 'url': 'http://smithlabresearch.org/software/preseq/', 'status': 'released', 'aliases': [], 'date_created': '2016-03-08T17:04:02.963554+00:00', 'lab': '/labs/encode-consortium/', 'purpose': [], 'schema_version': '5', 'title': 'Preseq', 'software_type': ['other'], 'references': ['/publications/0718d1cf-f205-48cf-8615-7244a4d62265/'], 'uuid': '98ecd9b6-5612-497d-b739-802bb95ac27f', 'award': '/awards/ENCODE/', '@type': ['Software', 'Item'], 'description': 'From the Smith lab: \"The preseq package is aimed at predicting and estimating the complexity of a genomic sequencing library, equivalent to predicting and estimating the number of redundant reads from a given sequencing depth and how many will be expected from additional sequencing using an initial sequencing experiment.\"', 'name': 'preseq'}}], '@id': '/analysis-step-versions/kundaje-lab-atac-seq-trim-align-filter-step-v-1-0/', '@type': ['AnalysisStepVersion', 'Item'], 'date_created': '2016-12-07T01:00:09.351760+00:00', 'status': 'in progress', 'aliases': ['anshul-kundaje:atac-seq-trim-align-filter-step-version-v1'], 'analysis_step': {'versions': ['/analysis-step-versions/kundaje-lab-atac-seq-trim-align-filter-step-v-1-0/'], '@id': '/analysis-steps/kundaje-lab-atac-seq-trim-align-filter-step-v-1/', 'date_created': '2016-03-08T18:12:24.875270+00:00', '@type': ['AnalysisStep', 'Item'], 'input_file_types': ['reads'], 'step_label': 'kundaje-lab-atac-seq-trim-align-filter-step', 'status': 'released', 'aliases': ['anshul-kundaje:atac-seq-trim-align-filter-step-v1'], 'pipelines': [{'documents': ['/documents/c008d7bd-5d60-4a23-a833-67c5dfab006a/'], '@id': '/pipelines/ENCPL792NWO/', 'alternate_accessions': [], 'source_url': 'https://github.com/kundajelab/atac_dnase_pipelines', 'assay_term_names': ['ATAC-seq'], 'accession': 'ENCPL792NWO', 'status': 'released', 'aliases': ['anshul-kundaje:ATAC-seq-pipeline'], 'date_created': '2016-03-08T17:36:21.292631+00:00', 'lab': '/labs/encode-awg/', 'schema_version': '9', 'award': '/awards/ENCODE/', 'analysis_steps': ['/analysis-steps/kundaje-lab-atac-seq-trim-align-filter-step-v-1/', '/analysis-steps/kundaje-lab-atac-seq-peak-call-step-v-1/', '/analysis-steps/kundaje-lab-atac-seq-filtered-peaks-conversion-step-v-1/', '/analysis-steps/kundaje-lab-atac-seq-signals-step-v-1/', '/analysis-steps/kundaje-lab-atac-seq-idr-step-v-1/', '/analysis-steps/kundaje-lab-atac-seq-overlap-peaks-step-v-1/', '/analysis-steps/kundaje-lab-atac-seq-replicated-peaks-conversion-step-v-1/', '/analysis-steps/kundaje-lab-atac-seq-idr-peaks-conversion-step-v-1/'], 'references': [], 'uuid': '5e4e23e2-41fd-4436-b174-225ac33b6196', 'submitted_by': '/users/9851ccbc-2df9-4529-a4f3-90edee981fc0/', '@type': ['Pipeline', 'Item'], 'description': 'ATAC-seq pipeline for ENCODE data, developed by Anshul Kundaje and the ENCODE DAC', 'title': 'Kundaje lab ATAC-seq pipeline'}], 'major_version': 1, 'analysis_step_types': ['read trimming', 'alignment', 'filtering'], 'schema_version': '6', 'documents': [], 'title': 'Kundaje lab ATAC-seq trim, align, and filter step', 'uuid': '4800cf73-ef3c-4e6d-8ac4-8453fb60f315', 'submitted_by': '/users/9851ccbc-2df9-4529-a4f3-90edee981fc0/', 'output_file_types': ['unfiltered alignments', 'alignments'], 'current_version': '/analysis-step-versions/kundaje-lab-atac-seq-trim-align-filter-step-v-1-0/', 'name': 'kundaje-lab-atac-seq-trim-align-filter-step-v-1'}, 'schema_version': '4', 'uuid': 'ea16954f-8b24-4364-b588-23a77c786012', 'submitted_by': '/users/4c23ec32-c7c8-4ac0-affb-04befcc881d4/', 'minor_version': 0, 'name': 'kundaje-lab-atac-seq-trim-align-filter-step-v-1-0'}, 'accession': 'TSTFF623067', 'file_size': 3266937226, 'output_type': 'alignments', 'quality_metrics': [{'aliases': [], '@id': '/complexity-xcorr-quality-metrics/c78ebb68-a6f7-458e-b8b9-a829439313e6/', 'date_created': '2018-09-26T18:49:17.087909+00:00', 'PBC1': 0.833545, 'PBC2': 6.324828, 'submitted_by': '/users/45cd6450-c5f0-49dc-9a68-d233f51039c5/', 'paired-end': True, 'NSC': 2.850403, 'sample size': 25000000, 'RSC': 1.363795, 'NRF': 0.792035, 'step_run': '/analysis-step-runs/9d2fc1cd-e0d2-419a-9806-4cd1de34a01a/', 'lab': '/labs/anshul-kundaje/', 'schema_version': '7', 'fragment length': 0, 'award': '/awards/U41HG007000/', 'uuid': 'c78ebb68-a6f7-458e-b8b9-a829439313e6', 'quality_metric_of': ['/files/TSTFF623067/'], 'status': 'released', '@type': ['ComplexityXcorrQualityMetric', 'QualityMetric', 'Item'], 'read length': 51}, {'with_itself': 73312840, 'submitted_by': '/users/45cd6450-c5f0-49dc-9a68-d233f51039c5/', 'singletons_qc_failed': 0, 'status': 'released', 'paired_properly': 73312840, 'singletons_pct': '0.0%', 'paired_qc_failed': 0, 'step_run': '/analysis-step-runs/9d2fc1cd-e0d2-419a-9806-4cd1de34a01a/', 'lab': '/labs/anshul-kundaje/', 'uuid': 'ee47c81e-d7c7-4ca2-950c-49e215f67676', 'paired_properly_qc_failed': 0, 'duplicates_qc_failed': 0, 'diff_chroms': 0, 'quality_metric_of': ['/files/TSTFF623067/'], 'total': 73312840, '@type': ['SamtoolsFlagstatsQualityMetric', 'QualityMetric', 'Item'], 'diff_chroms_qc_failed': 0, 'aliases': [], '@id': '/samtools-flagstats-quality-metrics/ee47c81e-d7c7-4ca2-950c-49e215f67676/', 'date_created': '2018-09-26T18:49:16.743799+00:00', 'paired_properly_pct': '100.0%', 'mapped': 73312840, 'mapped_pct': '100.0%', 'duplicates': 0, 'with_itself_qc_failed': 0, 'read2_qc_failed': 0, 'read1_qc_failed': 0, 'schema_version': '7', 'award': '/awards/U41HG007000/', 'paired': 73312840, 'mapped_qc_failed': 0, 'read2': 36656420, 'read1': 36656420, 'total_qc_failed': 0, 'singletons': 0}], 'award': {'project': 'ENCODE'}, 'output_category': 'alignment'}\n",
      "2018-09-27 10:30:58,455:debug:\t\n",
      "IN post().\n"
     ]
    },
    {
     "name": "stdout",
     "output_type": "stream",
     "text": [
      "2018-09-27 10:30:58,456:debug:\t<<<<<< POSTING anshul-kundaje:atac-seq-trim-align-filter-step-run-v1-97940d0951cf2c3df554584f18ee8e6f1ac9bd39aa39326c6a0f7110d8037398 To DCC with URL https://test.encodedcc.org/analysis_step_run and this payload:\n",
      "\n",
      "{\n",
      "  \"aliases\": [\n",
      "    \"anshul-kundaje:atac-seq-trim-align-filter-step-run-v1-97940d0951cf2c3df554584f18ee8e6f1ac9bd39aa39326c6a0f7110d8037398\"\n",
      "  ],\n",
      "  \"analysis_step_version\": \"anshul-kundaje:atac-seq-trim-align-filter-step-version-v1\",\n",
      "  \"status\": \"released\"\n",
      "}\n",
      "\n",
      "\n",
      "2018-09-27 10:30:58,607:debug:\t{'detail': \"Keys conflict: [('alias', 'anshul-kundaje:atac-seq-trim-align-filter-step-run-v1-97940d0951cf2c3df554584f18ee8e6f1ac9bd39aa39326c6a0f7110d8037398')]\", 'title': 'Conflict', '@type': ['HTTPConflict', 'Error'], 'status': 'error', 'description': 'There was a conflict when trying to complete your request.', 'code': 409}\n",
      "2018-09-27 10:30:58,608:debug:\t>>>>>>GETTING anshul-kundaje:atac-seq-trim-align-filter-step-run-v1-97940d0951cf2c3df554584f18ee8e6f1ac9bd39aa39326c6a0f7110d8037398 From DCC with URL https://test.encodedcc.org/anshul-kundaje:atac-seq-trim-align-filter-step-run-v1-97940d0951cf2c3df554584f18ee8e6f1ac9bd39aa39326c6a0f7110d8037398/?format=json\n",
      "2018-09-27 10:30:58,875:debug:\tWill not POST 'anshul-kundaje:atac-seq-trim-align-filter-step-run-v1-97940d0951cf2c3df554584f18ee8e6f1ac9bd39aa39326c6a0f7110d8037398' since it already exists with aliases '['anshul-kundaje:atac-seq-trim-align-filter-step-run-v1-97940d0951cf2c3df554584f18ee8e6f1ac9bd39aa39326c6a0f7110d8037398']'.\n",
      "2018-09-27 10:30:58,901:debug:\tSearching DCC with query https://test.encodedcc.org/search/?md5sum=d375e5eea521e0638c727d3e3a4b3b21&type=File&limit=all.\n",
      "2018-09-27 10:30:59,151:debug:\tSearching DCC with query https://test.encodedcc.org/search/?md5sum=d48829b89549efaf9d55477d4a3420c2&type=File&limit=all.\n",
      "2018-09-27 10:30:59,382:debug:\tSearching DCC with query https://test.encodedcc.org/search/?md5sum=34a6fbe64ede0b1fc9f55e095bb82de6&type=File&limit=all.\n",
      "{'status': 'uploading', '@type': ['File', 'Item'], 'technical_replicates': ['2_1'], 'step_run': {'aliases': ['anshul-kundaje:atac-seq-trim-align-filter-step-run-v1-97940d0951cf2c3df554584f18ee8e6f1ac9bd39aa39326c6a0f7110d8037398'], '@id': '/analysis-step-runs/9d2fc1cd-e0d2-419a-9806-4cd1de34a01a/', 'schema_version': '5', 'submitted_by': '/users/45cd6450-c5f0-49dc-9a68-d233f51039c5/', '@type': ['AnalysisStepRun', 'Item'], 'analysis_step_version': '/analysis-step-versions/kundaje-lab-atac-seq-trim-align-filter-step-v-1-0/', 'uuid': '9d2fc1cd-e0d2-419a-9806-4cd1de34a01a', 'status': 'released', 'date_created': '2018-09-26T18:15:18.490891+00:00'}, 'lab': {'@id': '/labs/anshul-kundaje/', 'address1': '300 Pasteur Dr., Lane Building, L301', 'title': 'Anshul Kundaje, Stanford', 'phone2': '', 'pi': '/users/5ee9af15-8447-47d5-9ef1-06d425b828eb/', 'awards': [], 'status': 'current', 'institute_label': 'Stanford', 'schema_version': '5', 'country': 'USA', 'institute_name': 'Stanford University', 'city': 'Stanford', 'name': 'anshul-kundaje', 'uuid': 'c7833572-0bba-4835-9d22-a45f39250d8d', 'state': 'CA', '@type': ['Lab', 'Item'], 'postal_code': '', 'phone1': '(650)-723-2353', 'fax': '(650)-725-1534'}, 'file_format': 'bam', 'quality_metrics': [{'with_itself': 52224950, 'submitted_by': '/users/45cd6450-c5f0-49dc-9a68-d233f51039c5/', 'singletons_qc_failed': 0, 'status': 'released', 'paired_properly': 52224950, 'singletons_pct': '0.0%', 'paired_qc_failed': 0, 'step_run': '/analysis-step-runs/9d2fc1cd-e0d2-419a-9806-4cd1de34a01a/', 'lab': '/labs/anshul-kundaje/', 'read2': 26112475, 'paired_properly_qc_failed': 0, 'duplicates_qc_failed': 0, 'diff_chroms': 0, 'with_itself_qc_failed': 0, 'quality_metric_of': ['/files/TSTFF828169/'], 'total': 52224950, 'total_qc_failed': 0, 'aliases': [], '@id': '/samtools-flagstats-quality-metrics/4d61ac68-32a4-4f9c-b972-6946146ccd6e/', '@type': ['SamtoolsFlagstatsQualityMetric', 'QualityMetric', 'Item'], 'paired_properly_pct': '100.0%', 'duplicates': 0, 'mapped_pct': '100.0%', 'mapped': 52224950, 'date_created': '2018-09-26T18:50:59.168047+00:00', 'read2_qc_failed': 0, 'read1_qc_failed': 0, 'schema_version': '7', 'award': '/awards/U41HG007000/', 'paired': 52224950, 'mapped_qc_failed': 0, 'uuid': '4d61ac68-32a4-4f9c-b972-6946146ccd6e', 'read1': 26112475, 'singletons': 0, 'diff_chroms_qc_failed': 0}, {'aliases': [], '@id': '/complexity-xcorr-quality-metrics/ea2876be-c016-416a-b3d1-9b1db9044010/', 'NSC': 2.401861, 'read length': 51, 'PBC2': 5.353944, '@type': ['ComplexityXcorrQualityMetric', 'QualityMetric', 'Item'], 'paired-end': True, 'status': 'released', 'sample size': 24318639, 'step_run': '/analysis-step-runs/9d2fc1cd-e0d2-419a-9806-4cd1de34a01a/', 'date_created': '2018-09-26T18:50:59.470013+00:00', 'lab': '/labs/anshul-kundaje/', 'schema_version': '7', 'fragment length': 0, 'award': '/awards/U41HG007000/', 'RSC': 1.412259, 'quality_metric_of': ['/files/TSTFF828169/'], 'uuid': 'ea2876be-c016-416a-b3d1-9b1db9044010', 'NRF': 0.767801, 'submitted_by': '/users/45cd6450-c5f0-49dc-9a68-d233f51039c5/', 'PBC1': 0.807628}], 'title': 'TSTFF828169', 'file_type': 'bam', 'href': '/files/TSTFF828169/@@download/TSTFF828169.bam', '@id': '/files/TSTFF828169/', 'dataset': '/experiments/ENCSR609OHJ/', 'date_created': '2018-09-26T18:49:39.755734+00:00', 'assembly': 'mm10', 'analysis_step_version': {'aliases': ['anshul-kundaje:atac-seq-trim-align-filter-step-version-v1'], 'software_versions': [{'aliases': ['encode:bowtie 2.2.6'], '@id': '/software-versions/6584bfb8-8dcd-4f46-b098-55eebc85a369/', 'schema_version': '4', 'submitted_by': '/users/332d0e03-a907-4f53-8358-bb00118277c8/', '@type': ['SoftwareVersion', 'Item'], 'uuid': '6584bfb8-8dcd-4f46-b098-55eebc85a369', 'status': 'in progress', 'version': '2.2.6', 'software': {'versions': ['/software-versions/da7c531b-26f1-40a5-aa1a-5ed4f99e4d90/', '/software-versions/9c51ea8f-ac73-4a25-8783-d31bce2d5aac/', '/software-versions/b38b963c-dbe8-4de7-a2dc-ee2c593a67c6/', '/software-versions/e7dc5254-5485-44ca-afc0-0677413cde47/', '/software-versions/12c34690-5edd-4da8-a3bc-0790b0d38e14/', '/software-versions/6584bfb8-8dcd-4f46-b098-55eebc85a369/', '/software-versions/a8abe783-46a9-46cd-b5fb-23ebf39b6f71/'], 'aliases': [], '@type': ['Software', 'Item'], 'date_created': '2016-12-07T21:59:25.746320+00:00', '@id': '/software/bowtie2/', 'used_by': ['ENCODE'], 'status': 'released', 'lab': '/labs/encode-consortium/', 'purpose': ['ChIP-seq', 'RNA-seq'], 'schema_version': '5', 'award': '/awards/ENCODE/', 'title': 'Bowtie 2', 'references': ['/publications/5b64d8ad-0b79-4694-a7d2-dc13033f9504/'], 'uuid': '9a935746-3c3f-46d7-8b0a-415c2b0cecd0', 'submitted_by': '/users/332d0e03-a907-4f53-8358-bb00118277c8/', 'name': 'bowtie2', 'description': 'Bowtie 2 is an ultrafast and memory-efficient tool for aligning sequencing reads to long reference sequences. It is particularly good at aligning reads of about 50 up to 100s or 1,000s of characters, and particularly good at aligning to relatively long (e.g. mammalian) genomes. Bowtie 2 indexes the genome with an FM Index to keep its memory footprint small: for the human genome, its memory footprint is typically around 3.2 GB. Bowtie 2 supports gapped, local, and paired-end alignment modes.', 'url': 'http://bowtie-bio.sourceforge.net/bowtie2/index.shtml'}, 'date_created': '2016-12-07T21:32:28.581220+00:00'}, {'aliases': ['encode:preseq 2.0.2'], '@id': '/software-versions/daf1898a-d376-48fb-b24d-24075202be19/', 'schema_version': '4', 'submitted_by': '/users/332d0e03-a907-4f53-8358-bb00118277c8/', '@type': ['SoftwareVersion', 'Item'], 'uuid': 'daf1898a-d376-48fb-b24d-24075202be19', 'status': 'in progress', 'version': '2.0.2', 'software': {'versions': ['/software-versions/23314364-3fa2-4b1b-a829-5adcebe8f735/', '/software-versions/a0d1cf06-6aa6-4f87-9aab-a0b747005bbe/', '/software-versions/daf1898a-d376-48fb-b24d-24075202be19/'], 'aliases': [], 'url': 'http://smithlabresearch.org/software/preseq/', '@type': ['Software', 'Item'], '@id': '/software/preseq/', 'used_by': ['ENCODE'], 'status': 'released', 'date_created': '2016-03-08T17:04:02.963554+00:00', 'lab': '/labs/encode-consortium/', 'purpose': [], 'schema_version': '5', 'award': '/awards/ENCODE/', 'software_type': ['other'], 'references': ['/publications/0718d1cf-f205-48cf-8615-7244a4d62265/'], 'uuid': '98ecd9b6-5612-497d-b739-802bb95ac27f', 'submitted_by': '/users/9851ccbc-2df9-4529-a4f3-90edee981fc0/', 'name': 'preseq', 'source_url': 'https://github.com/smithlabcode/preseq', 'description': 'From the Smith lab: \"The preseq package is aimed at predicting and estimating the complexity of a genomic sequencing library, equivalent to predicting and estimating the number of redundant reads from a given sequencing depth and how many will be expected from additional sequencing using an initial sequencing experiment.\"', 'title': 'Preseq'}, 'date_created': '2016-12-07T21:35:59.474189+00:00'}], 'date_created': '2016-12-07T01:00:09.351760+00:00', 'submitted_by': '/users/4c23ec32-c7c8-4ac0-affb-04befcc881d4/', '@id': '/analysis-step-versions/kundaje-lab-atac-seq-trim-align-filter-step-v-1-0/', 'status': 'in progress', 'analysis_step': {'documents': [], '@id': '/analysis-steps/kundaje-lab-atac-seq-trim-align-filter-step-v-1/', 'submitted_by': '/users/9851ccbc-2df9-4529-a4f3-90edee981fc0/', '@type': ['AnalysisStep', 'Item'], 'input_file_types': ['reads'], 'versions': ['/analysis-step-versions/kundaje-lab-atac-seq-trim-align-filter-step-v-1-0/'], 'step_label': 'kundaje-lab-atac-seq-trim-align-filter-step', 'status': 'released', 'aliases': ['anshul-kundaje:atac-seq-trim-align-filter-step-v1'], 'date_created': '2016-03-08T18:12:24.875270+00:00', 'major_version': 1, 'analysis_step_types': ['read trimming', 'alignment', 'filtering'], 'schema_version': '6', 'title': 'Kundaje lab ATAC-seq trim, align, and filter step', 'name': 'kundaje-lab-atac-seq-trim-align-filter-step-v-1', 'uuid': '4800cf73-ef3c-4e6d-8ac4-8453fb60f315', 'pipelines': [{'documents': ['/documents/c008d7bd-5d60-4a23-a833-67c5dfab006a/'], '@id': '/pipelines/ENCPL792NWO/', 'submitted_by': '/users/9851ccbc-2df9-4529-a4f3-90edee981fc0/', '@type': ['Pipeline', 'Item'], 'assay_term_names': ['ATAC-seq'], 'accession': 'ENCPL792NWO', 'status': 'released', 'aliases': ['anshul-kundaje:ATAC-seq-pipeline'], 'date_created': '2016-03-08T17:36:21.292631+00:00', 'lab': '/labs/encode-awg/', 'schema_version': '9', 'award': '/awards/ENCODE/', 'title': 'Kundaje lab ATAC-seq pipeline', 'references': [], 'uuid': '5e4e23e2-41fd-4436-b174-225ac33b6196', 'source_url': 'https://github.com/kundajelab/atac_dnase_pipelines', 'analysis_steps': ['/analysis-steps/kundaje-lab-atac-seq-trim-align-filter-step-v-1/', '/analysis-steps/kundaje-lab-atac-seq-peak-call-step-v-1/', '/analysis-steps/kundaje-lab-atac-seq-filtered-peaks-conversion-step-v-1/', '/analysis-steps/kundaje-lab-atac-seq-signals-step-v-1/', '/analysis-steps/kundaje-lab-atac-seq-idr-step-v-1/', '/analysis-steps/kundaje-lab-atac-seq-overlap-peaks-step-v-1/', '/analysis-steps/kundaje-lab-atac-seq-replicated-peaks-conversion-step-v-1/', '/analysis-steps/kundaje-lab-atac-seq-idr-peaks-conversion-step-v-1/'], 'description': 'ATAC-seq pipeline for ENCODE data, developed by Anshul Kundaje and the ENCODE DAC', 'alternate_accessions': []}], 'current_version': '/analysis-step-versions/kundaje-lab-atac-seq-trim-align-filter-step-v-1-0/', 'output_file_types': ['unfiltered alignments', 'alignments']}, 'schema_version': '4', 'uuid': 'ea16954f-8b24-4364-b588-23a77c786012', 'minor_version': 0, '@type': ['AnalysisStepVersion', 'Item'], 'name': 'kundaje-lab-atac-seq-trim-align-filter-step-v-1-0'}, 'derived_from': ['/files/ENCFF999IJT/', '/files/ENCFF957VLH/'], 'accession': 'TSTFF828169', 'file_size': 2395571538, 'output_type': 'alignments', 'biological_replicates': [2], 'award': {'project': 'ENCODE'}, 'output_category': 'alignment'}\n"
     ]
    }
   ],
   "source": [
    "alignment_bams = acc.accession_alignment_outputs()\n"
   ]
  },
  {
   "cell_type": "code",
   "execution_count": 4,
   "metadata": {},
   "outputs": [
    {
     "name": "stdout",
     "output_type": "stream",
     "text": [
      "2018-09-27 10:30:59,580:debug:\t\n",
      "IN post().\n",
      "2018-09-27 10:30:59,581:debug:\t<<<<<< POSTING anshul-kundaje:atac-seq-signal-generation-step-run-v1-97940d0951cf2c3df554584f18ee8e6f1ac9bd39aa39326c6a0f7110d8037398 To DCC with URL https://test.encodedcc.org/analysis_step_run and this payload:\n",
      "\n",
      "{\n",
      "  \"aliases\": [\n",
      "    \"anshul-kundaje:atac-seq-signal-generation-step-run-v1-97940d0951cf2c3df554584f18ee8e6f1ac9bd39aa39326c6a0f7110d8037398\"\n",
      "  ],\n",
      "  \"analysis_step_version\": \"anshul-kundaje:atac-seq-signal-generation-step-version-v1\",\n",
      "  \"status\": \"released\"\n",
      "}\n",
      "\n",
      "\n",
      "2018-09-27 10:30:59,735:debug:\t{'title': 'Conflict', 'detail': \"Keys conflict: [('alias', 'anshul-kundaje:atac-seq-signal-generation-step-run-v1-97940d0951cf2c3df554584f18ee8e6f1ac9bd39aa39326c6a0f7110d8037398')]\", 'description': 'There was a conflict when trying to complete your request.', 'status': 'error', '@type': ['HTTPConflict', 'Error'], 'code': 409}\n",
      "2018-09-27 10:30:59,736:debug:\t>>>>>>GETTING anshul-kundaje:atac-seq-signal-generation-step-run-v1-97940d0951cf2c3df554584f18ee8e6f1ac9bd39aa39326c6a0f7110d8037398 From DCC with URL https://test.encodedcc.org/anshul-kundaje:atac-seq-signal-generation-step-run-v1-97940d0951cf2c3df554584f18ee8e6f1ac9bd39aa39326c6a0f7110d8037398/?format=json\n",
      "2018-09-27 10:31:00,017:debug:\tWill not POST 'anshul-kundaje:atac-seq-signal-generation-step-run-v1-97940d0951cf2c3df554584f18ee8e6f1ac9bd39aa39326c6a0f7110d8037398' since it already exists with aliases '['anshul-kundaje:atac-seq-signal-generation-step-run-v1-97940d0951cf2c3df554584f18ee8e6f1ac9bd39aa39326c6a0f7110d8037398']'.\n",
      "2018-09-27 10:31:00,047:debug:\tSearching DCC with query https://test.encodedcc.org/search/?md5sum=74f42bbdcd25b992a16a520fafb0fb55&type=File&limit=all.\n",
      "2018-09-27 10:31:00,293:debug:\tSearching DCC with query https://test.encodedcc.org/search/?md5sum=94ce80af6ddc3405bd918ccdb9738c20&type=File&limit=all.\n",
      "2018-09-27 10:31:04,894:debug:\t\n",
      "IN post().\n",
      "2018-09-27 10:31:04,896:debug:\t<<<<<< POSTING anshul-kundaje:atac-seq-accessioning-samples-atac-957638af-26f8-4bea-8280-2a088acf9783-call-macs2-shard-0-glob-7ab0340dfeb10ca109917cbdcc568548-ENCFF599TJR.merged.nodup.tn5.pval.signal.bigwig To DCC with URL https://test.encodedcc.org/file and this payload:\n",
      "\n",
      "{\n",
      "  \"aliases\": [\n",
      "    \"anshul-kundaje:atac-seq-accessioning-samples-atac-957638af-26f8-4bea-8280-2a088acf9783-call-macs2-shard-0-glob-7ab0340dfeb10ca109917cbdcc568548-ENCFF599TJR.merged.nodup.tn5.pval.signal.bigwig\"\n",
      "  ],\n",
      "  \"assembly\": \"mm10\",\n",
      "  \"award\": \"U41HG007000\",\n",
      "  \"dataset\": \"/experiments/ENCSR609OHJ/\",\n",
      "  \"derived_from\": [\n",
      "    \"/files/TSTFF623067\"\n",
      "  ],\n",
      "  \"file_format\": \"bigWig\",\n",
      "  \"file_size\": 478119888,\n",
      "  \"lab\": \"/labs/anshul-kundaje/\",\n",
      "  \"md5sum\": \"94ce80af6ddc3405bd918ccdb9738c20\",\n",
      "  \"output_type\": \"signal p-value\",\n",
      "  \"status\": \"uploading\",\n",
      "  \"step_run\": \"/analysis-step-runs/cfd8ea4d-3ce7-463a-b85f-7835c561326b/\",\n",
      "  \"submitted_file_name\": \"/var/folders/5y/616wzw4n5nd6g10d0ycs6pdr0000gp/T/tmp8f8tb0ke\"\n",
      "}\n",
      "\n",
      "\n",
      "2018-09-27 10:31:05,416:debug:\tSuccess.\n",
      "2018-09-27 10:31:05,419:debug:\t\n",
      "IN upload_file()\n",
      "\n",
      "2018-09-27 10:31:05,420:debug:\tUsing curl to generate new file upload credentials\n",
      "2018-09-27 10:31:05,982:debug:\tSuccess: upload credentials for 'TSTFF621059' regerated.\n",
      "2018-09-27 10:31:05,983:debug:\t>>>>>>GETTING TSTFF621059 From DCC with URL https://test.encodedcc.org/TSTFF621059/?format=json\n",
      "2018-09-27 10:31:06,415:debug:\tRunning command 'aws s3 cp /var/folders/5y/616wzw4n5nd6g10d0ycs6pdr0000gp/T/tmp8f8tb0ke s3://encoded-files-dev/2018/09/27/d04b1f8e-c23e-4b0b-a1bf-e3f6e85ba61b/TSTFF621059.bigWig'.\n",
      "2018-09-27 10:31:16,008:debug:\tAWS upload successful.\n",
      "2018-09-27 10:31:16,039:debug:\tSearching DCC with query https://test.encodedcc.org/search/?md5sum=74f42bbdcd25b992a16a520fafb0fb55&type=File&limit=all.\n",
      "2018-09-27 10:31:16,283:debug:\tSearching DCC with query https://test.encodedcc.org/search/?md5sum=723e69f3ef6c037d5e26597093e09f8f&type=File&limit=all.\n",
      "{'technical_replicates': ['1_1'], 'assembly': 'mm10', '@type': ['File', 'Item'], 'status': 'uploading', 'step_run': {'aliases': ['anshul-kundaje:atac-seq-signal-generation-step-run-v1-97940d0951cf2c3df554584f18ee8e6f1ac9bd39aa39326c6a0f7110d8037398'], '@id': '/analysis-step-runs/cfd8ea4d-3ce7-463a-b85f-7835c561326b/', 'schema_version': '5', 'submitted_by': '/users/45cd6450-c5f0-49dc-9a68-d233f51039c5/', 'date_created': '2018-09-26T20:52:14.262266+00:00', 'analysis_step_version': '/analysis-step-versions/kundaje-lab-atac-seq-signals-step-v-1-0/', 'uuid': 'cfd8ea4d-3ce7-463a-b85f-7835c561326b', 'status': 'released', '@type': ['AnalysisStepRun', 'Item']}, 'lab': {'phone2': '', 'address1': '300 Pasteur Dr., Lane Building, L301', '@type': ['Lab', 'Item'], '@id': '/labs/anshul-kundaje/', 'pi': '/users/5ee9af15-8447-47d5-9ef1-06d425b828eb/', 'awards': [], 'status': 'current', 'institute_label': 'Stanford', 'schema_version': '5', 'country': 'USA', 'institute_name': 'Stanford University', 'city': 'Stanford', 'name': 'anshul-kundaje', 'uuid': 'c7833572-0bba-4835-9d22-a45f39250d8d', 'state': 'CA', 'postal_code': '', 'fax': '(650)-725-1534', 'title': 'Anshul Kundaje, Stanford', 'phone1': '(650)-723-2353'}, 'file_format': 'bigWig', 'quality_metrics': [], 'title': 'TSTFF250652', 'file_type': 'bigWig', 'href': '/files/TSTFF250652/@@download/TSTFF250652.bigWig', '@id': '/files/TSTFF250652/', 'dataset': '/experiments/ENCSR609OHJ/', 'derived_from': ['/files/TSTFF623067/'], 'date_created': '2018-09-26T22:03:31.979210+00:00', 'analysis_step_version': {'aliases': ['anshul-kundaje:atac-seq-signal-generation-step-version-v1'], '@id': '/analysis-step-versions/kundaje-lab-atac-seq-signals-step-v-1-0/', 'submitted_by': '/users/4c23ec32-c7c8-4ac0-affb-04befcc881d4/', '@type': ['AnalysisStepVersion', 'Item'], 'date_created': '2016-12-07T01:22:05.959311+00:00', 'status': 'in progress', 'analysis_step': {'aliases': ['anshul-kundaje:atac-seq-signal-generation-step-v1'], 'versions': ['/analysis-step-versions/kundaje-lab-atac-seq-signals-step-v-1-0/'], 'submitted_by': '/users/9851ccbc-2df9-4529-a4f3-90edee981fc0/', '@id': '/analysis-steps/kundaje-lab-atac-seq-signals-step-v-1/', 'date_created': '2016-03-08T18:27:50.337521+00:00', '@type': ['AnalysisStep', 'Item'], 'input_file_types': ['alignments'], 'step_label': 'kundaje-lab-atac-seq-signals-step', 'status': 'released', 'pipelines': [{'aliases': ['anshul-kundaje:ATAC-seq-pipeline'], '@id': '/pipelines/ENCPL792NWO/', 'alternate_accessions': [], '@type': ['Pipeline', 'Item'], 'submitted_by': '/users/9851ccbc-2df9-4529-a4f3-90edee981fc0/', 'references': [], 'assay_term_names': ['ATAC-seq'], 'accession': 'ENCPL792NWO', 'status': 'released', 'date_created': '2016-03-08T17:36:21.292631+00:00', 'lab': '/labs/encode-awg/', 'schema_version': '9', 'documents': ['/documents/c008d7bd-5d60-4a23-a833-67c5dfab006a/'], 'title': 'Kundaje lab ATAC-seq pipeline', 'description': 'ATAC-seq pipeline for ENCODE data, developed by Anshul Kundaje and the ENCODE DAC', 'uuid': '5e4e23e2-41fd-4436-b174-225ac33b6196', 'award': '/awards/ENCODE/', 'source_url': 'https://github.com/kundajelab/atac_dnase_pipelines', 'analysis_steps': ['/analysis-steps/kundaje-lab-atac-seq-trim-align-filter-step-v-1/', '/analysis-steps/kundaje-lab-atac-seq-peak-call-step-v-1/', '/analysis-steps/kundaje-lab-atac-seq-filtered-peaks-conversion-step-v-1/', '/analysis-steps/kundaje-lab-atac-seq-signals-step-v-1/', '/analysis-steps/kundaje-lab-atac-seq-idr-step-v-1/', '/analysis-steps/kundaje-lab-atac-seq-overlap-peaks-step-v-1/', '/analysis-steps/kundaje-lab-atac-seq-replicated-peaks-conversion-step-v-1/', '/analysis-steps/kundaje-lab-atac-seq-idr-peaks-conversion-step-v-1/']}], 'major_version': 1, 'analysis_step_types': ['signal generation'], 'schema_version': '6', 'documents': [], 'title': 'Kundaje lab ATAC-seq signal generation step', 'uuid': 'c07180c7-9cd3-4c52-8a6f-b9b8002d618d', 'parents': ['/analysis-steps/kundaje-lab-atac-seq-trim-align-filter-step-v-1/'], 'output_file_types': ['fold change over control', 'signal p-value'], 'current_version': '/analysis-step-versions/kundaje-lab-atac-seq-signals-step-v-1-0/', 'name': 'kundaje-lab-atac-seq-signals-step-v-1'}, 'schema_version': '4', 'uuid': '8ef03655-11be-4152-9bfe-70d2ec996436', 'minor_version': 0, 'name': 'kundaje-lab-atac-seq-signals-step-v-1-0', 'software_versions': [{'aliases': [], '@id': '/software-versions/97914185-dc92-436a-a729-e9b82610d92e/', 'version': '2.21.0', '@type': ['SoftwareVersion', 'Item'], 'date_created': '2016-03-08T16:27:28.792718+00:00', 'downloaded_url': 'https://github.com/arq5x/bedtools2/releases/tag/v2.21.0', 'status': 'released', 'software': {'aliases': [], '@id': '/software/bedtools/', 'used_by': ['ENCODE'], '@type': ['Software', 'Item'], 'versions': ['/software-versions/2cc07124-16be-4333-8943-4bce96059af3/', '/software-versions/97914185-dc92-436a-a729-e9b82610d92e/', '/software-versions/0062f99c-54c1-49be-bc45-b37271616422/', '/software-versions/6404f5d1-636c-407f-8742-55d89a990993/', '/software-versions/13e61050-fe4f-4002-9ae0-8d1adcf81a04/'], 'purpose': ['ChIP-seq', 'DNase-seq'], 'status': 'released', 'references': ['/publications/bdd1b360-c377-450d-969a-efc1a7e8611f/'], 'date_created': '2014-08-13T01:30:20.545705+00:00', 'lab': '/labs/encode-consortium/', 'notes': 'Previously hosted at https://code.google.com/p/bedtools/', 'schema_version': '5', 'award': '/awards/ENCODE/', 'title': 'BEDTools', 'description': 'Collectively, the bedtools utilities are a swiss-army knife of tools for a wide-range of genomics analysis tasks. The most widely-used tools enable genome arithmetics: that is, set theory on the genome. For example, bedtools allows one to intersect, merge, count, complement, and shuffle genomic intervals from multiple files in widely-used genomic file formats such as BAM, BED, GFF/GTF, and VCF.', 'uuid': 'e43bdb79-c746-4c40-815a-6cc27f3688a8', 'submitted_by': '/users/ce2bde01-07ec-4b8a-b179-554ef95b71dd/', 'name': 'bedtools', 'source_url': 'https://github.com/arq5x/bedtools', 'software_type': ['file format conversion']}, 'schema_version': '4', 'uuid': '97914185-dc92-436a-a729-e9b82610d92e', 'submitted_by': '/users/9851ccbc-2df9-4529-a4f3-90edee981fc0/', 'download_checksum': '42cf57a5f110e06aa666aed58e0c3064'}, {'aliases': ['encode:macs2'], 'downloaded_url': 'https://github.com/taoliu/MACS/tree/2015.4.20', 'version': '2.1.0', 'submitted_by': '/users/6800d05f-7213-48b1-9ad8-254c73c5b83f/', 'date_created': '2015-10-16T01:12:34.378707+00:00', '@id': '/software-versions/12342c09-ec5b-458b-8b6b-13ce9f11f1e7/', 'uuid': '12342c09-ec5b-458b-8b6b-13ce9f11f1e7', 'status': 'released', '@type': ['SoftwareVersion', 'Item'], 'schema_version': '4', 'software': {'aliases': [], '@id': '/software/macs/', 'bug_tracker_url': 'http://groups.google.com/group/macs-announcement', '@type': ['Software', 'Item'], 'versions': ['/software-versions/12342c09-ec5b-458b-8b6b-13ce9f11f1e7/', '/software-versions/4e64fac3-776f-402c-a470-744f8514f39f/', '/software-versions/f06f8ba6-cf38-4da7-8906-80358e67c1e1/', '/software-versions/5900819c-32f0-4f8d-80d6-976dd224723e/', '/software-versions/1c1265da-7599-4208-aec6-807d7b9b9b07/'], 'purpose': ['ChIP-seq'], 'status': 'released', 'date_created': '2014-08-13T01:30:14.690368+00:00', 'lab': '/labs/encode-consortium/', 'used_by': ['ENCODE'], 'schema_version': '5', 'award': '/awards/ENCODE/', 'title': 'MACS', 'references': ['/publications/4c104c82-6e8a-4683-b654-5f1576743c6e/', '/publications/30bd11d9-f05d-4bee-9512-c8199c8794e2/'], 'uuid': 'ab3eee7d-a025-4c3a-873b-b2c5562ebdc7', 'submitted_by': '/users/ce2bde01-07ec-4b8a-b179-554ef95b71dd/', 'name': 'macs', 'source_url': 'http://liulab.dfci.harvard.edu/MACS/', 'description': 'A widely-used, fast, robust ChIP-seq peak-finding algorithm that accounts for the offset in forward-strand and reverse-strand reads to improve resolution and uses a dynamic Poisson distribution to effectively capture local biases in the genome.  MACS 1.4 was used in the ENCODE 2 uniform peak calling pipeline.', 'software_type': ['peak caller']}}]}, 'accession': 'TSTFF250652', 'file_size': 620622604, 'output_type': 'fold change over control', 'biological_replicates': [1], 'award': {'project': 'ENCODE'}, 'output_category': 'signal'}\n",
      "2018-09-27 10:31:16,483:debug:\t\n",
      "IN post().\n"
     ]
    },
    {
     "name": "stdout",
     "output_type": "stream",
     "text": [
      "2018-09-27 10:31:16,484:debug:\t<<<<<< POSTING anshul-kundaje:atac-seq-signal-generation-step-run-v1-97940d0951cf2c3df554584f18ee8e6f1ac9bd39aa39326c6a0f7110d8037398 To DCC with URL https://test.encodedcc.org/analysis_step_run and this payload:\n",
      "\n",
      "{\n",
      "  \"aliases\": [\n",
      "    \"anshul-kundaje:atac-seq-signal-generation-step-run-v1-97940d0951cf2c3df554584f18ee8e6f1ac9bd39aa39326c6a0f7110d8037398\"\n",
      "  ],\n",
      "  \"analysis_step_version\": \"anshul-kundaje:atac-seq-signal-generation-step-version-v1\",\n",
      "  \"status\": \"released\"\n",
      "}\n",
      "\n",
      "\n",
      "2018-09-27 10:31:16,639:debug:\t{'detail': \"Keys conflict: [('alias', 'anshul-kundaje:atac-seq-signal-generation-step-run-v1-97940d0951cf2c3df554584f18ee8e6f1ac9bd39aa39326c6a0f7110d8037398')]\", 'code': 409, '@type': ['HTTPConflict', 'Error'], 'status': 'error', 'description': 'There was a conflict when trying to complete your request.', 'title': 'Conflict'}\n",
      "2018-09-27 10:31:16,640:debug:\t>>>>>>GETTING anshul-kundaje:atac-seq-signal-generation-step-run-v1-97940d0951cf2c3df554584f18ee8e6f1ac9bd39aa39326c6a0f7110d8037398 From DCC with URL https://test.encodedcc.org/anshul-kundaje:atac-seq-signal-generation-step-run-v1-97940d0951cf2c3df554584f18ee8e6f1ac9bd39aa39326c6a0f7110d8037398/?format=json\n",
      "2018-09-27 10:31:16,931:debug:\tWill not POST 'anshul-kundaje:atac-seq-signal-generation-step-run-v1-97940d0951cf2c3df554584f18ee8e6f1ac9bd39aa39326c6a0f7110d8037398' since it already exists with aliases '['anshul-kundaje:atac-seq-signal-generation-step-run-v1-97940d0951cf2c3df554584f18ee8e6f1ac9bd39aa39326c6a0f7110d8037398']'.\n",
      "2018-09-27 10:31:16,961:debug:\tSearching DCC with query https://test.encodedcc.org/search/?md5sum=34a6fbe64ede0b1fc9f55e095bb82de6&type=File&limit=all.\n",
      "2018-09-27 10:31:17,207:debug:\tSearching DCC with query https://test.encodedcc.org/search/?md5sum=90ab15332c673cd389d411f39a78b2c0&type=File&limit=all.\n",
      "2018-09-27 10:31:20,869:debug:\t\n",
      "IN post().\n",
      "2018-09-27 10:31:20,871:debug:\t<<<<<< POSTING anshul-kundaje:atac-seq-accessioning-samples-atac-957638af-26f8-4bea-8280-2a088acf9783-call-macs2-shard-1-glob-7ab0340dfeb10ca109917cbdcc568548-ENCFF957VLH.merged.nodup.tn5.pval.signal.bigwig To DCC with URL https://test.encodedcc.org/file and this payload:\n",
      "\n",
      "{\n",
      "  \"aliases\": [\n",
      "    \"anshul-kundaje:atac-seq-accessioning-samples-atac-957638af-26f8-4bea-8280-2a088acf9783-call-macs2-shard-1-glob-7ab0340dfeb10ca109917cbdcc568548-ENCFF957VLH.merged.nodup.tn5.pval.signal.bigwig\"\n",
      "  ],\n",
      "  \"assembly\": \"mm10\",\n",
      "  \"award\": \"U41HG007000\",\n",
      "  \"dataset\": \"/experiments/ENCSR609OHJ/\",\n",
      "  \"derived_from\": [\n",
      "    \"/files/TSTFF828169\"\n",
      "  ],\n",
      "  \"file_format\": \"bigWig\",\n",
      "  \"file_size\": 373308280,\n",
      "  \"lab\": \"/labs/anshul-kundaje/\",\n",
      "  \"md5sum\": \"90ab15332c673cd389d411f39a78b2c0\",\n",
      "  \"output_type\": \"signal p-value\",\n",
      "  \"status\": \"uploading\",\n",
      "  \"step_run\": \"/analysis-step-runs/cfd8ea4d-3ce7-463a-b85f-7835c561326b/\",\n",
      "  \"submitted_file_name\": \"/var/folders/5y/616wzw4n5nd6g10d0ycs6pdr0000gp/T/tmph5c7n_nj\"\n",
      "}\n",
      "\n",
      "\n",
      "2018-09-27 10:31:21,635:debug:\tSuccess.\n",
      "2018-09-27 10:31:21,637:debug:\t\n",
      "IN upload_file()\n",
      "\n",
      "2018-09-27 10:31:21,638:debug:\tUsing curl to generate new file upload credentials\n",
      "2018-09-27 10:31:22,133:debug:\tSuccess: upload credentials for 'TSTFF428211' regerated.\n",
      "2018-09-27 10:31:22,134:debug:\t>>>>>>GETTING TSTFF428211 From DCC with URL https://test.encodedcc.org/TSTFF428211/?format=json\n",
      "2018-09-27 10:31:22,588:debug:\tRunning command 'aws s3 cp /var/folders/5y/616wzw4n5nd6g10d0ycs6pdr0000gp/T/tmph5c7n_nj s3://encoded-files-dev/2018/09/27/f2d6a88e-6e36-4ce9-b36c-86888cca4c5a/TSTFF428211.bigWig'.\n",
      "2018-09-27 10:31:36,969:debug:\tAWS upload successful.\n",
      "2018-09-27 10:31:37,005:debug:\tSearching DCC with query https://test.encodedcc.org/search/?md5sum=34a6fbe64ede0b1fc9f55e095bb82de6&type=File&limit=all.\n",
      "2018-09-27 10:31:37,287:debug:\tSearching DCC with query https://test.encodedcc.org/search/?md5sum=b05232d23b95389eeb0a77db0e387e7b&type=File&limit=all.\n",
      "{'technical_replicates': ['2_1'], 'derived_from': ['/files/TSTFF828169/'], 'status': 'uploading', 'step_run': {'aliases': ['anshul-kundaje:atac-seq-signal-generation-step-run-v1-97940d0951cf2c3df554584f18ee8e6f1ac9bd39aa39326c6a0f7110d8037398'], '@id': '/analysis-step-runs/cfd8ea4d-3ce7-463a-b85f-7835c561326b/', 'schema_version': '5', '@type': ['AnalysisStepRun', 'Item'], 'submitted_by': '/users/45cd6450-c5f0-49dc-9a68-d233f51039c5/', 'analysis_step_version': '/analysis-step-versions/kundaje-lab-atac-seq-signals-step-v-1-0/', 'uuid': 'cfd8ea4d-3ce7-463a-b85f-7835c561326b', 'status': 'released', 'date_created': '2018-09-26T20:52:14.262266+00:00'}, 'lab': {'@id': '/labs/anshul-kundaje/', 'fax': '(650)-725-1534', 'address1': '300 Pasteur Dr., Lane Building, L301', 'title': 'Anshul Kundaje, Stanford', 'phone2': '', 'awards': [], 'status': 'current', 'institute_label': 'Stanford', 'schema_version': '5', 'pi': '/users/5ee9af15-8447-47d5-9ef1-06d425b828eb/', 'state': 'CA', 'city': 'Stanford', 'uuid': 'c7833572-0bba-4835-9d22-a45f39250d8d', 'institute_name': 'Stanford University', '@type': ['Lab', 'Item'], 'name': 'anshul-kundaje', 'phone1': '(650)-723-2353', 'country': 'USA', 'postal_code': ''}, 'file_format': 'bigWig', 'biological_replicates': [2], 'title': 'TSTFF457662', 'file_type': 'bigWig', '@type': ['File', 'Item'], 'href': '/files/TSTFF457662/@@download/TSTFF457662.bigWig', '@id': '/files/TSTFF457662/', 'dataset': '/experiments/ENCSR609OHJ/', 'assembly': 'mm10', 'date_created': '2018-09-26T22:07:04.479128+00:00', 'analysis_step_version': {'aliases': ['anshul-kundaje:atac-seq-signal-generation-step-version-v1'], '@id': '/analysis-step-versions/kundaje-lab-atac-seq-signals-step-v-1-0/', 'submitted_by': '/users/4c23ec32-c7c8-4ac0-affb-04befcc881d4/', 'date_created': '2016-12-07T01:22:05.959311+00:00', 'software_versions': [{'aliases': [], '@id': '/software-versions/97914185-dc92-436a-a729-e9b82610d92e/', 'version': '2.21.0', 'submitted_by': '/users/9851ccbc-2df9-4529-a4f3-90edee981fc0/', '@type': ['SoftwareVersion', 'Item'], 'downloaded_url': 'https://github.com/arq5x/bedtools2/releases/tag/v2.21.0', 'status': 'released', 'software': {'aliases': [], '@id': '/software/bedtools/', 'date_created': '2014-08-13T01:30:20.545705+00:00', 'submitted_by': '/users/ce2bde01-07ec-4b8a-b179-554ef95b71dd/', 'used_by': ['ENCODE'], 'purpose': ['ChIP-seq', 'DNase-seq'], 'status': 'released', 'lab': '/labs/encode-consortium/', 'notes': 'Previously hosted at https://code.google.com/p/bedtools/', 'schema_version': '5', 'title': 'BEDTools', 'software_type': ['file format conversion'], 'references': ['/publications/bdd1b360-c377-450d-969a-efc1a7e8611f/'], 'uuid': 'e43bdb79-c746-4c40-815a-6cc27f3688a8', 'award': '/awards/ENCODE/', '@type': ['Software', 'Item'], 'source_url': 'https://github.com/arq5x/bedtools', 'versions': ['/software-versions/2cc07124-16be-4333-8943-4bce96059af3/', '/software-versions/97914185-dc92-436a-a729-e9b82610d92e/', '/software-versions/0062f99c-54c1-49be-bc45-b37271616422/', '/software-versions/6404f5d1-636c-407f-8742-55d89a990993/', '/software-versions/13e61050-fe4f-4002-9ae0-8d1adcf81a04/'], 'description': 'Collectively, the bedtools utilities are a swiss-army knife of tools for a wide-range of genomics analysis tasks. The most widely-used tools enable genome arithmetics: that is, set theory on the genome. For example, bedtools allows one to intersect, merge, count, complement, and shuffle genomic intervals from multiple files in widely-used genomic file formats such as BAM, BED, GFF/GTF, and VCF.', 'name': 'bedtools'}, 'date_created': '2016-03-08T16:27:28.792718+00:00', 'schema_version': '4', 'uuid': '97914185-dc92-436a-a729-e9b82610d92e', 'download_checksum': '42cf57a5f110e06aa666aed58e0c3064'}, {'aliases': ['encode:macs2'], '@id': '/software-versions/12342c09-ec5b-458b-8b6b-13ce9f11f1e7/', 'schema_version': '4', '@type': ['SoftwareVersion', 'Item'], 'submitted_by': '/users/6800d05f-7213-48b1-9ad8-254c73c5b83f/', 'downloaded_url': 'https://github.com/taoliu/MACS/tree/2015.4.20', 'uuid': '12342c09-ec5b-458b-8b6b-13ce9f11f1e7', 'status': 'released', 'version': '2.1.0', 'software': {'aliases': [], '@id': '/software/macs/', 'bug_tracker_url': 'http://groups.google.com/group/macs-announcement', 'date_created': '2014-08-13T01:30:14.690368+00:00', 'submitted_by': '/users/ce2bde01-07ec-4b8a-b179-554ef95b71dd/', 'used_by': ['ENCODE'], 'status': 'released', 'lab': '/labs/encode-consortium/', 'purpose': ['ChIP-seq'], 'schema_version': '5', 'title': 'MACS', 'software_type': ['peak caller'], 'references': ['/publications/4c104c82-6e8a-4683-b654-5f1576743c6e/', '/publications/30bd11d9-f05d-4bee-9512-c8199c8794e2/'], 'uuid': 'ab3eee7d-a025-4c3a-873b-b2c5562ebdc7', 'award': '/awards/ENCODE/', '@type': ['Software', 'Item'], 'source_url': 'http://liulab.dfci.harvard.edu/MACS/', 'versions': ['/software-versions/12342c09-ec5b-458b-8b6b-13ce9f11f1e7/', '/software-versions/4e64fac3-776f-402c-a470-744f8514f39f/', '/software-versions/f06f8ba6-cf38-4da7-8906-80358e67c1e1/', '/software-versions/5900819c-32f0-4f8d-80d6-976dd224723e/', '/software-versions/1c1265da-7599-4208-aec6-807d7b9b9b07/'], 'description': 'A widely-used, fast, robust ChIP-seq peak-finding algorithm that accounts for the offset in forward-strand and reverse-strand reads to improve resolution and uses a dynamic Poisson distribution to effectively capture local biases in the genome.  MACS 1.4 was used in the ENCODE 2 uniform peak calling pipeline.', 'name': 'macs'}, 'date_created': '2015-10-16T01:12:34.378707+00:00'}], 'status': 'in progress', 'analysis_step': {'aliases': ['anshul-kundaje:atac-seq-signal-generation-step-v1'], '@id': '/analysis-steps/kundaje-lab-atac-seq-signals-step-v-1/', '@type': ['AnalysisStep', 'Item'], 'date_created': '2016-03-08T18:27:50.337521+00:00', 'submitted_by': '/users/9851ccbc-2df9-4529-a4f3-90edee981fc0/', 'input_file_types': ['alignments'], 'versions': ['/analysis-step-versions/kundaje-lab-atac-seq-signals-step-v-1-0/'], 'step_label': 'kundaje-lab-atac-seq-signals-step', 'status': 'released', 'pipelines': [{'aliases': ['anshul-kundaje:ATAC-seq-pipeline'], '@id': '/pipelines/ENCPL792NWO/', 'submitted_by': '/users/9851ccbc-2df9-4529-a4f3-90edee981fc0/', 'source_url': 'https://github.com/kundajelab/atac_dnase_pipelines', 'assay_term_names': ['ATAC-seq'], 'accession': 'ENCPL792NWO', 'status': 'released', 'date_created': '2016-03-08T17:36:21.292631+00:00', 'lab': '/labs/encode-awg/', 'schema_version': '9', 'documents': ['/documents/c008d7bd-5d60-4a23-a833-67c5dfab006a/'], 'analysis_steps': ['/analysis-steps/kundaje-lab-atac-seq-trim-align-filter-step-v-1/', '/analysis-steps/kundaje-lab-atac-seq-peak-call-step-v-1/', '/analysis-steps/kundaje-lab-atac-seq-filtered-peaks-conversion-step-v-1/', '/analysis-steps/kundaje-lab-atac-seq-signals-step-v-1/', '/analysis-steps/kundaje-lab-atac-seq-idr-step-v-1/', '/analysis-steps/kundaje-lab-atac-seq-overlap-peaks-step-v-1/', '/analysis-steps/kundaje-lab-atac-seq-replicated-peaks-conversion-step-v-1/', '/analysis-steps/kundaje-lab-atac-seq-idr-peaks-conversion-step-v-1/'], 'references': [], 'uuid': '5e4e23e2-41fd-4436-b174-225ac33b6196', 'award': '/awards/ENCODE/', '@type': ['Pipeline', 'Item'], 'title': 'Kundaje lab ATAC-seq pipeline', 'description': 'ATAC-seq pipeline for ENCODE data, developed by Anshul Kundaje and the ENCODE DAC', 'alternate_accessions': []}], 'major_version': 1, 'analysis_step_types': ['signal generation'], 'schema_version': '6', 'documents': [], 'title': 'Kundaje lab ATAC-seq signal generation step', 'uuid': 'c07180c7-9cd3-4c52-8a6f-b9b8002d618d', 'parents': ['/analysis-steps/kundaje-lab-atac-seq-trim-align-filter-step-v-1/'], 'output_file_types': ['fold change over control', 'signal p-value'], 'current_version': '/analysis-step-versions/kundaje-lab-atac-seq-signals-step-v-1-0/', 'name': 'kundaje-lab-atac-seq-signals-step-v-1'}, 'schema_version': '4', 'uuid': '8ef03655-11be-4152-9bfe-70d2ec996436', 'minor_version': 0, '@type': ['AnalysisStepVersion', 'Item'], 'name': 'kundaje-lab-atac-seq-signals-step-v-1-0'}, 'accession': 'TSTFF457662', 'file_size': 460962287, 'output_type': 'fold change over control', 'quality_metrics': [], 'award': {'project': 'ENCODE'}, 'output_category': 'signal'}\n"
     ]
    }
   ],
   "source": [
    "signal_bigwigs = acc.accession_signal_outputs(task_name='macs2')"
   ]
  },
  {
   "cell_type": "code",
   "execution_count": 5,
   "metadata": {},
   "outputs": [],
   "source": [
    "tasks = acc.analysis.get_tasks('filter')"
   ]
  },
  {
   "cell_type": "code",
   "execution_count": 6,
   "metadata": {},
   "outputs": [],
   "source": [
    "test_file = acc.analysis.get_files(filename=\"gs://atac-seq-accessioning-samples/atac/957638af-26f8-4bea-8280-2a088acf9783/call-filter/shard-0/glob-3bcbe4e7489c90f75e0523ac6f3a9385/ENCFF599TJR.merged.nodup.bam\")"
   ]
  },
  {
   "cell_type": "code",
   "execution_count": 7,
   "metadata": {},
   "outputs": [
    {
     "data": {
      "text/plain": [
       "'bam2ta'"
      ]
     },
     "execution_count": 7,
     "metadata": {},
     "output_type": "execute_result"
    }
   ],
   "source": [
    "from functools import reduce\n",
    "import operator\n",
    "test_file[0].used_by_tasks[0].task_name\n"
   ]
  },
  {
   "cell_type": "code",
   "execution_count": 20,
   "metadata": {},
   "outputs": [
    {
     "data": {
      "text/plain": [
       "[<accession.GSFile at 0x107897710>]"
      ]
     },
     "execution_count": 20,
     "metadata": {},
     "output_type": "execute_result"
    }
   ],
   "source": [
    "a = list(acc.analysis.search_down(test_file[0].task, 'macs2', 'sig_fc'))\n",
    "import base64\n",
    "a\n",
    "# base64.b64encode(acc.backend.blob_from_filename(a.filename).download_as_string())"
   ]
  },
  {
   "cell_type": "code",
   "execution_count": 28,
   "metadata": {},
   "outputs": [],
   "source": [
    "def search_up(task, task_name, filekey, inputs=False):\n",
    "        if task_name == task.task_name:\n",
    "            if inputs:\n",
    "                for file in task.input_files:\n",
    "                    if filekey in file.filekeys:\n",
    "                        yield file\n",
    "            else:\n",
    "                for file in task.output_files:\n",
    "                    if filekey in file.filekeys:\n",
    "                        yield file\n",
    "        for task_item in set(map(lambda x: x.task, task.input_files)):\n",
    "            if task_item:\n",
    "                yield from search_up(task_item, task_name, filekey)"
   ]
  },
  {
   "cell_type": "code",
   "execution_count": 30,
   "metadata": {},
   "outputs": [
    {
     "data": {
      "text/plain": [
       "[<accession.GSFile at 0x1078726a0>, <accession.GSFile at 0x107872208>]"
      ]
     },
     "execution_count": 30,
     "metadata": {},
     "output_type": "execute_result"
    }
   ],
   "source": [
    "list(search_up(test_file[0].task, 'trim_adapter', 'fastqs', inputs=True))"
   ]
  },
  {
   "cell_type": "code",
   "execution_count": null,
   "metadata": {},
   "outputs": [],
   "source": []
  },
  {
   "cell_type": "code",
   "execution_count": null,
   "metadata": {},
   "outputs": [],
   "source": []
  },
  {
   "cell_type": "code",
   "execution_count": 27,
   "metadata": {},
   "outputs": [
    {
     "data": {
      "text/plain": [
       "[<accession.GSFile at 0x1078b3080>,\n",
       " <accession.GSFile at 0x1078b32e8>,\n",
       " <accession.GSFile at 0x1078b3080>,\n",
       " <accession.GSFile at 0x1078b32e8>]"
      ]
     },
     "execution_count": 27,
     "metadata": {},
     "output_type": "execute_result"
    }
   ],
   "source": [
    "list(acc.raw_fastq_inputs(test_file[0]))"
   ]
  },
  {
   "cell_type": "code",
   "execution_count": null,
   "metadata": {},
   "outputs": [],
   "source": []
  },
  {
   "cell_type": "code",
   "execution_count": null,
   "metadata": {},
   "outputs": [],
   "source": []
  },
  {
   "cell_type": "code",
   "execution_count": null,
   "metadata": {},
   "outputs": [],
   "source": []
  },
  {
   "cell_type": "code",
   "execution_count": null,
   "metadata": {},
   "outputs": [],
   "source": []
  },
  {
   "cell_type": "code",
   "execution_count": null,
   "metadata": {},
   "outputs": [],
   "source": []
  },
  {
   "cell_type": "code",
   "execution_count": 9,
   "metadata": {},
   "outputs": [],
   "source": [
    "import mimetypes\n",
    "import magic"
   ]
  },
  {
   "cell_type": "code",
   "execution_count": 10,
   "metadata": {},
   "outputs": [
    {
     "data": {
      "text/plain": [
       "(None, None)"
      ]
     },
     "execution_count": 10,
     "metadata": {},
     "output_type": "execute_result"
    }
   ],
   "source": [
    "mimetypes.guess_type(a.filename.split('/')[-1])"
   ]
  },
  {
   "cell_type": "code",
   "execution_count": 11,
   "metadata": {},
   "outputs": [],
   "source": [
    "contents = acc.backend.read_file(a.filename).decode('utf-8', errors='replace')\n",
    "#bcontents = base64.b64encode(contents)\n",
    "original_contents = acc.backend.read_file(a.filename)"
   ]
  },
  {
   "cell_type": "code",
   "execution_count": 16,
   "metadata": {},
   "outputs": [],
   "source": [
    "fastqs = acc.analysis.search_up(test_file[0].task, None, 'fastq')"
   ]
  },
  {
   "cell_type": "code",
   "execution_count": 18,
   "metadata": {},
   "outputs": [
    {
     "data": {
      "text/plain": [
       "[]"
      ]
     },
     "execution_count": 18,
     "metadata": {},
     "output_type": "execute_result"
    }
   ],
   "source": [
    "list(fastqs)"
   ]
  },
  {
   "cell_type": "code",
   "execution_count": null,
   "metadata": {},
   "outputs": [],
   "source": []
  },
  {
   "cell_type": "code",
   "execution_count": null,
   "metadata": {},
   "outputs": [],
   "source": []
  },
  {
   "cell_type": "code",
   "execution_count": 15,
   "metadata": {},
   "outputs": [
    {
     "data": {
      "text/plain": [
       "True"
      ]
     },
     "execution_count": 15,
     "metadata": {},
     "output_type": "execute_result"
    }
   ],
   "source": [
    "None == None"
   ]
  },
  {
   "cell_type": "code",
   "execution_count": null,
   "metadata": {},
   "outputs": [],
   "source": []
  },
  {
   "cell_type": "code",
   "execution_count": null,
   "metadata": {},
   "outputs": [],
   "source": []
  },
  {
   "cell_type": "code",
   "execution_count": null,
   "metadata": {},
   "outputs": [],
   "source": []
  },
  {
   "cell_type": "code",
   "execution_count": null,
   "metadata": {},
   "outputs": [],
   "source": []
  },
  {
   "cell_type": "code",
   "execution_count": null,
   "metadata": {},
   "outputs": [],
   "source": []
  },
  {
   "cell_type": "code",
   "execution_count": null,
   "metadata": {},
   "outputs": [],
   "source": []
  },
  {
   "cell_type": "code",
   "execution_count": null,
   "metadata": {},
   "outputs": [],
   "source": []
  },
  {
   "cell_type": "code",
   "execution_count": null,
   "metadata": {},
   "outputs": [],
   "source": []
  },
  {
   "cell_type": "code",
   "execution_count": null,
   "metadata": {},
   "outputs": [],
   "source": []
  },
  {
   "cell_type": "code",
   "execution_count": null,
   "metadata": {},
   "outputs": [],
   "source": []
  },
  {
   "cell_type": "code",
   "execution_count": null,
   "metadata": {},
   "outputs": [],
   "source": []
  },
  {
   "cell_type": "code",
   "execution_count": null,
   "metadata": {},
   "outputs": [],
   "source": []
  },
  {
   "cell_type": "code",
   "execution_count": null,
   "metadata": {},
   "outputs": [],
   "source": []
  },
  {
   "cell_type": "code",
   "execution_count": null,
   "metadata": {},
   "outputs": [],
   "source": []
  },
  {
   "cell_type": "code",
   "execution_count": null,
   "metadata": {},
   "outputs": [],
   "source": []
  },
  {
   "cell_type": "code",
   "execution_count": null,
   "metadata": {},
   "outputs": [],
   "source": []
  },
  {
   "cell_type": "code",
   "execution_count": null,
   "metadata": {},
   "outputs": [],
   "source": []
  },
  {
   "cell_type": "code",
   "execution_count": null,
   "metadata": {},
   "outputs": [],
   "source": []
  },
  {
   "cell_type": "code",
   "execution_count": null,
   "metadata": {},
   "outputs": [],
   "source": []
  },
  {
   "cell_type": "code",
   "execution_count": null,
   "metadata": {},
   "outputs": [],
   "source": []
  },
  {
   "cell_type": "code",
   "execution_count": null,
   "metadata": {},
   "outputs": [],
   "source": []
  },
  {
   "cell_type": "code",
   "execution_count": null,
   "metadata": {},
   "outputs": [],
   "source": []
  },
  {
   "cell_type": "code",
   "execution_count": null,
   "metadata": {},
   "outputs": [],
   "source": []
  },
  {
   "cell_type": "code",
   "execution_count": null,
   "metadata": {},
   "outputs": [],
   "source": []
  },
  {
   "cell_type": "code",
   "execution_count": null,
   "metadata": {},
   "outputs": [],
   "source": []
  },
  {
   "cell_type": "code",
   "execution_count": null,
   "metadata": {},
   "outputs": [],
   "source": []
  },
  {
   "cell_type": "code",
   "execution_count": null,
   "metadata": {},
   "outputs": [],
   "source": []
  },
  {
   "cell_type": "code",
   "execution_count": null,
   "metadata": {},
   "outputs": [],
   "source": []
  },
  {
   "cell_type": "code",
   "execution_count": null,
   "metadata": {},
   "outputs": [],
   "source": []
  },
  {
   "cell_type": "code",
   "execution_count": null,
   "metadata": {},
   "outputs": [],
   "source": []
  },
  {
   "cell_type": "code",
   "execution_count": null,
   "metadata": {},
   "outputs": [],
   "source": []
  },
  {
   "cell_type": "code",
   "execution_count": null,
   "metadata": {},
   "outputs": [],
   "source": []
  },
  {
   "cell_type": "code",
   "execution_count": null,
   "metadata": {},
   "outputs": [],
   "source": []
  },
  {
   "cell_type": "code",
   "execution_count": null,
   "metadata": {},
   "outputs": [],
   "source": []
  },
  {
   "cell_type": "code",
   "execution_count": null,
   "metadata": {},
   "outputs": [],
   "source": []
  }
 ],
 "metadata": {
  "kernelspec": {
   "display_name": "Python 3",
   "language": "python",
   "name": "python3"
  },
  "language_info": {
   "codemirror_mode": {
    "name": "ipython",
    "version": 3
   },
   "file_extension": ".py",
   "mimetype": "text/x-python",
   "name": "python",
   "nbconvert_exporter": "python",
   "pygments_lexer": "ipython3",
   "version": "3.5.3"
  }
 },
 "nbformat": 4,
 "nbformat_minor": 2
}
